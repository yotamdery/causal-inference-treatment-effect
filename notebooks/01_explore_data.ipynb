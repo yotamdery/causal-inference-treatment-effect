{
 "cells": [
  {
   "cell_type": "markdown",
   "id": "3a6c8e77",
   "metadata": {},
   "source": [
    "# 01 - Explore IHDP Dataset\n",
    "\n",
    "In this notebook, we load and explore the IHDP dataset using `causalml`. \n",
    "The dataset simulates a clinical trial with binary treatment, continuous outcome, and observed counterfactuals.\n",
    "\n",
    "Our goals:\n",
    "- Understand the structure of the data\n",
    "- Explore distributions of covariates, treatment, outcomes\n",
    "- Visualize heterogeneity in treatment effects (τ)\n"
   ]
  },
  {
   "cell_type": "code",
   "execution_count": null,
   "id": "2b5b1381",
   "metadata": {},
   "outputs": [],
   "source": [
    "# Imports\n",
    "import numpy as np\n",
    "import pandas as pd\n",
    "import plotly\n",
    "import plotly.figure_factory as ff\n",
    "import plotly.express as px\n",
    "import matplotlib.pyplot as plt\n",
    "import seaborn as sns"
   ]
  },
  {
   "cell_type": "markdown",
   "id": "ceb200f9",
   "metadata": {},
   "source": [
    "## Load Data\n"
   ]
  },
  {
   "cell_type": "code",
   "execution_count": null,
   "id": "47d53623",
   "metadata": {},
   "outputs": [],
   "source": [
    "import pandas as pd\n",
    "import numpy as np\n",
    "\n",
    "# Load from your CSV file\n",
    "df = pd.read_csv(\"../data/simulated_data.csv\")\n",
    "df.head()"
   ]
  },
  {
   "cell_type": "code",
   "execution_count": null,
   "id": "bc3e914b",
   "metadata": {},
   "outputs": [
    {
     "data": {
      "text/html": [
       "<div>\n",
       "<style scoped>\n",
       "    .dataframe tbody tr th:only-of-type {\n",
       "        vertical-align: middle;\n",
       "    }\n",
       "\n",
       "    .dataframe tbody tr th {\n",
       "        vertical-align: top;\n",
       "    }\n",
       "\n",
       "    .dataframe thead th {\n",
       "        text-align: right;\n",
       "    }\n",
       "</style>\n",
       "<table border=\"1\" class=\"dataframe\">\n",
       "  <thead>\n",
       "    <tr style=\"text-align: right;\">\n",
       "      <th></th>\n",
       "      <th>x0</th>\n",
       "      <th>x1</th>\n",
       "      <th>x2</th>\n",
       "      <th>x3</th>\n",
       "      <th>x4</th>\n",
       "      <th>x5</th>\n",
       "      <th>x6</th>\n",
       "      <th>x7</th>\n",
       "      <th>x8</th>\n",
       "      <th>x9</th>\n",
       "      <th>treatment</th>\n",
       "      <th>outcome</th>\n",
       "      <th>mu0</th>\n",
       "      <th>mu1</th>\n",
       "      <th>tau</th>\n",
       "      <th>counterfactual</th>\n",
       "      <th>propensity_score</th>\n",
       "    </tr>\n",
       "  </thead>\n",
       "  <tbody>\n",
       "    <tr>\n",
       "      <th>0</th>\n",
       "      <td>0.496714</td>\n",
       "      <td>-0.138264</td>\n",
       "      <td>0.647689</td>\n",
       "      <td>1.523030</td>\n",
       "      <td>-0.234153</td>\n",
       "      <td>-0.234137</td>\n",
       "      <td>1.579213</td>\n",
       "      <td>0.767435</td>\n",
       "      <td>-0.469474</td>\n",
       "      <td>0.542560</td>\n",
       "      <td>1</td>\n",
       "      <td>3.672942</td>\n",
       "      <td>2.352336</td>\n",
       "      <td>3.600693</td>\n",
       "      <td>1.248357</td>\n",
       "      <td>3.282869</td>\n",
       "      <td>0.339080</td>\n",
       "    </tr>\n",
       "    <tr>\n",
       "      <th>1</th>\n",
       "      <td>-0.463418</td>\n",
       "      <td>-0.465730</td>\n",
       "      <td>0.241962</td>\n",
       "      <td>-1.913280</td>\n",
       "      <td>-1.724918</td>\n",
       "      <td>-0.562288</td>\n",
       "      <td>-1.012831</td>\n",
       "      <td>0.314247</td>\n",
       "      <td>-0.908024</td>\n",
       "      <td>-1.412304</td>\n",
       "      <td>1</td>\n",
       "      <td>-4.189167</td>\n",
       "      <td>-4.395296</td>\n",
       "      <td>-3.627005</td>\n",
       "      <td>0.768291</td>\n",
       "      <td>-5.056137</td>\n",
       "      <td>0.751966</td>\n",
       "    </tr>\n",
       "    <tr>\n",
       "      <th>2</th>\n",
       "      <td>1.465649</td>\n",
       "      <td>-0.225776</td>\n",
       "      <td>0.067528</td>\n",
       "      <td>-1.424748</td>\n",
       "      <td>-0.544383</td>\n",
       "      <td>0.110923</td>\n",
       "      <td>-1.150994</td>\n",
       "      <td>0.375698</td>\n",
       "      <td>-0.600639</td>\n",
       "      <td>-0.291694</td>\n",
       "      <td>0</td>\n",
       "      <td>-3.214384</td>\n",
       "      <td>-2.639197</td>\n",
       "      <td>-0.906373</td>\n",
       "      <td>1.732824</td>\n",
       "      <td>-2.328432</td>\n",
       "      <td>0.648280</td>\n",
       "    </tr>\n",
       "    <tr>\n",
       "      <th>3</th>\n",
       "      <td>-0.601707</td>\n",
       "      <td>1.852278</td>\n",
       "      <td>-0.013497</td>\n",
       "      <td>-1.057711</td>\n",
       "      <td>0.822545</td>\n",
       "      <td>-1.220844</td>\n",
       "      <td>0.208864</td>\n",
       "      <td>-1.959670</td>\n",
       "      <td>-1.328186</td>\n",
       "      <td>0.196861</td>\n",
       "      <td>0</td>\n",
       "      <td>0.517742</td>\n",
       "      <td>0.529643</td>\n",
       "      <td>1.228789</td>\n",
       "      <td>0.699147</td>\n",
       "      <td>1.443821</td>\n",
       "      <td>0.554136</td>\n",
       "    </tr>\n",
       "    <tr>\n",
       "      <th>4</th>\n",
       "      <td>0.738467</td>\n",
       "      <td>0.171368</td>\n",
       "      <td>-0.115648</td>\n",
       "      <td>-0.301104</td>\n",
       "      <td>-1.478522</td>\n",
       "      <td>-0.719844</td>\n",
       "      <td>-0.460639</td>\n",
       "      <td>1.057122</td>\n",
       "      <td>0.343618</td>\n",
       "      <td>-1.763040</td>\n",
       "      <td>0</td>\n",
       "      <td>-4.719485</td>\n",
       "      <td>-4.079339</td>\n",
       "      <td>-2.710106</td>\n",
       "      <td>1.369233</td>\n",
       "      <td>-1.636739</td>\n",
       "      <td>0.494940</td>\n",
       "    </tr>\n",
       "  </tbody>\n",
       "</table>\n",
       "</div>"
      ],
      "text/plain": [
       "         x0        x1        x2        x3        x4        x5        x6  \\\n",
       "0  0.496714 -0.138264  0.647689  1.523030 -0.234153 -0.234137  1.579213   \n",
       "1 -0.463418 -0.465730  0.241962 -1.913280 -1.724918 -0.562288 -1.012831   \n",
       "2  1.465649 -0.225776  0.067528 -1.424748 -0.544383  0.110923 -1.150994   \n",
       "3 -0.601707  1.852278 -0.013497 -1.057711  0.822545 -1.220844  0.208864   \n",
       "4  0.738467  0.171368 -0.115648 -0.301104 -1.478522 -0.719844 -0.460639   \n",
       "\n",
       "         x7        x8        x9  treatment   outcome       mu0       mu1  \\\n",
       "0  0.767435 -0.469474  0.542560          1  3.672942  2.352336  3.600693   \n",
       "1  0.314247 -0.908024 -1.412304          1 -4.189167 -4.395296 -3.627005   \n",
       "2  0.375698 -0.600639 -0.291694          0 -3.214384 -2.639197 -0.906373   \n",
       "3 -1.959670 -1.328186  0.196861          0  0.517742  0.529643  1.228789   \n",
       "4  1.057122  0.343618 -1.763040          0 -4.719485 -4.079339 -2.710106   \n",
       "\n",
       "        tau  counterfactual  propensity_score  \n",
       "0  1.248357        3.282869          0.339080  \n",
       "1  0.768291       -5.056137          0.751966  \n",
       "2  1.732824       -2.328432          0.648280  \n",
       "3  0.699147        1.443821          0.554136  \n",
       "4  1.369233       -1.636739          0.494940  "
      ]
     },
     "execution_count": 59,
     "metadata": {},
     "output_type": "execute_result"
    }
   ],
   "source": [
    "# Extract components\n",
    "x = df[[col for col in df.columns if col.startswith(\"x\")]].values  # Covariates as numpy array\n",
    "t = df[\"treatment\"].values                                         # Treatment assignment\n",
    "yf = df[\"outcome\"].values                                          # Observed outcome\n",
    "ycf = df[\"counterfactual\"].values                                  # Counterfactual outcome (only in simulated data)\n",
    "mu0 = df[\"mu0\"].values                                             # True expected outcome under control\n",
    "mu1 = df[\"mu1\"].values                                             # True expected outcome under treatment"
   ]
  },
  {
   "cell_type": "markdown",
   "id": "d07b5253",
   "metadata": {},
   "source": [
    "## Dataset Description\n",
    "\n",
    "This project also includes a **fully synthetic dataset**, generated with controlled treatment assignment and outcome mechanisms. It allows rigorous benchmarking of causal inference methods, since the true counterfactual outcomes and treatment effects are known by design.\n",
    "\n",
    "* The **covariates** (`x0`–`x9`) are drawn from a multivariate normal distribution.\n",
    "* The **treatment assignments** are simulated using a logistic function of the covariates to induce confounding.\n",
    "* The **outcomes** are generated using a nonlinear outcome model that depends on both covariates and treatment, introducing **heterogeneous treatment effects**.\n",
    "\n",
    "### Columns\n",
    "\n",
    "* `x0` to `x9`: Simulated covariates (numeric features representing individual-level attributes)\n",
    "* `treatment`: **Simulated** binary treatment assignment (1 = treated, 0 = control), probabilistically assigned based on covariates\n",
    "* `outcome`: **Simulated** observed (factual) outcome for the assigned treatment\n",
    "* `counterfactual`: **Simulated** unobserved outcome under the *opposite* treatment assignment\n",
    "* `mu0`: **Simulated** expected outcome under control (`E[Y(0) | X]`)\n",
    "* `mu1`: **Simulated** expected outcome under treatment (`E[Y(1) | X]`)\n",
    "* `tau`: **True individual treatment effect** for each unit, defined as `mu1 - mu0`\n",
    "* `propensity_score`: True probability of receiving treatment given covariates (`P(T=1 | X)`)\n",
    "\n",
    "This dataset is ideal for validating causal inference pipelines — especially those estimating **individual treatment effects (ITE)** or **average treatment effects (ATE)** — under known ground truth."
   ]
  },
  {
   "cell_type": "markdown",
   "id": "e0ba0414",
   "metadata": {},
   "source": [
    "## Check Dimensions"
   ]
  },
  {
   "cell_type": "code",
   "execution_count": 60,
   "id": "caa5b438",
   "metadata": {},
   "outputs": [
    {
     "data": {
      "text/plain": [
       "treatment\n",
       "1    524\n",
       "0    476\n",
       "Name: count, dtype: int64"
      ]
     },
     "execution_count": 60,
     "metadata": {},
     "output_type": "execute_result"
    }
   ],
   "source": [
    "df['treatment'].value_counts()"
   ]
  },
  {
   "cell_type": "markdown",
   "id": "67879a35",
   "metadata": {},
   "source": [
    "### Summary Stats"
   ]
  },
  {
   "cell_type": "code",
   "execution_count": 61,
   "id": "d86bb549",
   "metadata": {},
   "outputs": [
    {
     "data": {
      "text/html": [
       "<div>\n",
       "<style scoped>\n",
       "    .dataframe tbody tr th:only-of-type {\n",
       "        vertical-align: middle;\n",
       "    }\n",
       "\n",
       "    .dataframe tbody tr th {\n",
       "        vertical-align: top;\n",
       "    }\n",
       "\n",
       "    .dataframe thead th {\n",
       "        text-align: right;\n",
       "    }\n",
       "</style>\n",
       "<table border=\"1\" class=\"dataframe\">\n",
       "  <thead>\n",
       "    <tr style=\"text-align: right;\">\n",
       "      <th></th>\n",
       "      <th>x0</th>\n",
       "      <th>x1</th>\n",
       "      <th>x2</th>\n",
       "      <th>x3</th>\n",
       "      <th>x4</th>\n",
       "      <th>x5</th>\n",
       "      <th>x6</th>\n",
       "      <th>x7</th>\n",
       "      <th>x8</th>\n",
       "      <th>x9</th>\n",
       "      <th>treatment</th>\n",
       "      <th>outcome</th>\n",
       "      <th>mu0</th>\n",
       "      <th>mu1</th>\n",
       "      <th>tau</th>\n",
       "      <th>counterfactual</th>\n",
       "      <th>propensity_score</th>\n",
       "    </tr>\n",
       "  </thead>\n",
       "  <tbody>\n",
       "    <tr>\n",
       "      <th>count</th>\n",
       "      <td>1000.000000</td>\n",
       "      <td>1000.000000</td>\n",
       "      <td>1000.000000</td>\n",
       "      <td>1000.000000</td>\n",
       "      <td>1000.000000</td>\n",
       "      <td>1000.000000</td>\n",
       "      <td>1000.000000</td>\n",
       "      <td>1000.000000</td>\n",
       "      <td>1000.000000</td>\n",
       "      <td>1000.000000</td>\n",
       "      <td>1000.000000</td>\n",
       "      <td>1000.000000</td>\n",
       "      <td>1000.000000</td>\n",
       "      <td>1000.000000</td>\n",
       "      <td>1000.000000</td>\n",
       "      <td>1000.000000</td>\n",
       "      <td>1000.000000</td>\n",
       "    </tr>\n",
       "    <tr>\n",
       "      <th>mean</th>\n",
       "      <td>0.010788</td>\n",
       "      <td>0.031292</td>\n",
       "      <td>-0.022542</td>\n",
       "      <td>-0.043075</td>\n",
       "      <td>0.013622</td>\n",
       "      <td>-0.029252</td>\n",
       "      <td>-0.002689</td>\n",
       "      <td>0.005495</td>\n",
       "      <td>-0.023104</td>\n",
       "      <td>0.038105</td>\n",
       "      <td>0.524000</td>\n",
       "      <td>0.471568</td>\n",
       "      <td>-0.025524</td>\n",
       "      <td>0.979870</td>\n",
       "      <td>1.005394</td>\n",
       "      <td>0.477614</td>\n",
       "      <td>0.509566</td>\n",
       "    </tr>\n",
       "    <tr>\n",
       "      <th>std</th>\n",
       "      <td>1.005433</td>\n",
       "      <td>1.016046</td>\n",
       "      <td>0.983366</td>\n",
       "      <td>0.983406</td>\n",
       "      <td>1.012645</td>\n",
       "      <td>1.037024</td>\n",
       "      <td>1.031230</td>\n",
       "      <td>1.030962</td>\n",
       "      <td>0.986846</td>\n",
       "      <td>0.945284</td>\n",
       "      <td>0.499674</td>\n",
       "      <td>2.130465</td>\n",
       "      <td>1.891853</td>\n",
       "      <td>1.931756</td>\n",
       "      <td>0.502716</td>\n",
       "      <td>2.267809</td>\n",
       "      <td>0.203640</td>\n",
       "    </tr>\n",
       "    <tr>\n",
       "      <th>min</th>\n",
       "      <td>-3.922400</td>\n",
       "      <td>-3.688365</td>\n",
       "      <td>-3.241267</td>\n",
       "      <td>-2.943142</td>\n",
       "      <td>-3.138515</td>\n",
       "      <td>-3.170426</td>\n",
       "      <td>-2.801912</td>\n",
       "      <td>-3.601085</td>\n",
       "      <td>-3.007632</td>\n",
       "      <td>-3.176704</td>\n",
       "      <td>0.000000</td>\n",
       "      <td>-6.383501</td>\n",
       "      <td>-6.645517</td>\n",
       "      <td>-5.147727</td>\n",
       "      <td>-0.961200</td>\n",
       "      <td>-7.135037</td>\n",
       "      <td>0.040133</td>\n",
       "    </tr>\n",
       "    <tr>\n",
       "      <th>25%</th>\n",
       "      <td>-0.616527</td>\n",
       "      <td>-0.631506</td>\n",
       "      <td>-0.702626</td>\n",
       "      <td>-0.750008</td>\n",
       "      <td>-0.651541</td>\n",
       "      <td>-0.749592</td>\n",
       "      <td>-0.744779</td>\n",
       "      <td>-0.713176</td>\n",
       "      <td>-0.650034</td>\n",
       "      <td>-0.559290</td>\n",
       "      <td>0.000000</td>\n",
       "      <td>-1.026562</td>\n",
       "      <td>-1.299433</td>\n",
       "      <td>-0.271884</td>\n",
       "      <td>0.691736</td>\n",
       "      <td>-0.997664</td>\n",
       "      <td>0.351296</td>\n",
       "    </tr>\n",
       "    <tr>\n",
       "      <th>50%</th>\n",
       "      <td>0.014006</td>\n",
       "      <td>0.007605</td>\n",
       "      <td>-0.015036</td>\n",
       "      <td>-0.001346</td>\n",
       "      <td>-0.012020</td>\n",
       "      <td>-0.012086</td>\n",
       "      <td>-0.024976</td>\n",
       "      <td>-0.013284</td>\n",
       "      <td>-0.003221</td>\n",
       "      <td>0.019097</td>\n",
       "      <td>1.000000</td>\n",
       "      <td>0.493384</td>\n",
       "      <td>0.029259</td>\n",
       "      <td>1.011532</td>\n",
       "      <td>1.007003</td>\n",
       "      <td>0.605518</td>\n",
       "      <td>0.509352</td>\n",
       "    </tr>\n",
       "    <tr>\n",
       "      <th>75%</th>\n",
       "      <td>0.679698</td>\n",
       "      <td>0.685621</td>\n",
       "      <td>0.613766</td>\n",
       "      <td>0.638310</td>\n",
       "      <td>0.721896</td>\n",
       "      <td>0.680087</td>\n",
       "      <td>0.683319</td>\n",
       "      <td>0.696602</td>\n",
       "      <td>0.608861</td>\n",
       "      <td>0.687027</td>\n",
       "      <td>1.000000</td>\n",
       "      <td>1.901771</td>\n",
       "      <td>1.242778</td>\n",
       "      <td>2.223889</td>\n",
       "      <td>1.339849</td>\n",
       "      <td>2.057749</td>\n",
       "      <td>0.670495</td>\n",
       "    </tr>\n",
       "    <tr>\n",
       "      <th>max</th>\n",
       "      <td>3.076860</td>\n",
       "      <td>3.529055</td>\n",
       "      <td>3.152057</td>\n",
       "      <td>3.117681</td>\n",
       "      <td>2.935658</td>\n",
       "      <td>3.926238</td>\n",
       "      <td>3.243093</td>\n",
       "      <td>3.137749</td>\n",
       "      <td>3.377383</td>\n",
       "      <td>3.852731</td>\n",
       "      <td>1.000000</td>\n",
       "      <td>6.644481</td>\n",
       "      <td>6.249235</td>\n",
       "      <td>7.748240</td>\n",
       "      <td>2.538430</td>\n",
       "      <td>7.759614</td>\n",
       "      <td>0.963084</td>\n",
       "    </tr>\n",
       "  </tbody>\n",
       "</table>\n",
       "</div>"
      ],
      "text/plain": [
       "                x0           x1           x2           x3           x4  \\\n",
       "count  1000.000000  1000.000000  1000.000000  1000.000000  1000.000000   \n",
       "mean      0.010788     0.031292    -0.022542    -0.043075     0.013622   \n",
       "std       1.005433     1.016046     0.983366     0.983406     1.012645   \n",
       "min      -3.922400    -3.688365    -3.241267    -2.943142    -3.138515   \n",
       "25%      -0.616527    -0.631506    -0.702626    -0.750008    -0.651541   \n",
       "50%       0.014006     0.007605    -0.015036    -0.001346    -0.012020   \n",
       "75%       0.679698     0.685621     0.613766     0.638310     0.721896   \n",
       "max       3.076860     3.529055     3.152057     3.117681     2.935658   \n",
       "\n",
       "                x5           x6           x7           x8           x9  \\\n",
       "count  1000.000000  1000.000000  1000.000000  1000.000000  1000.000000   \n",
       "mean     -0.029252    -0.002689     0.005495    -0.023104     0.038105   \n",
       "std       1.037024     1.031230     1.030962     0.986846     0.945284   \n",
       "min      -3.170426    -2.801912    -3.601085    -3.007632    -3.176704   \n",
       "25%      -0.749592    -0.744779    -0.713176    -0.650034    -0.559290   \n",
       "50%      -0.012086    -0.024976    -0.013284    -0.003221     0.019097   \n",
       "75%       0.680087     0.683319     0.696602     0.608861     0.687027   \n",
       "max       3.926238     3.243093     3.137749     3.377383     3.852731   \n",
       "\n",
       "         treatment      outcome          mu0          mu1          tau  \\\n",
       "count  1000.000000  1000.000000  1000.000000  1000.000000  1000.000000   \n",
       "mean      0.524000     0.471568    -0.025524     0.979870     1.005394   \n",
       "std       0.499674     2.130465     1.891853     1.931756     0.502716   \n",
       "min       0.000000    -6.383501    -6.645517    -5.147727    -0.961200   \n",
       "25%       0.000000    -1.026562    -1.299433    -0.271884     0.691736   \n",
       "50%       1.000000     0.493384     0.029259     1.011532     1.007003   \n",
       "75%       1.000000     1.901771     1.242778     2.223889     1.339849   \n",
       "max       1.000000     6.644481     6.249235     7.748240     2.538430   \n",
       "\n",
       "       counterfactual  propensity_score  \n",
       "count     1000.000000       1000.000000  \n",
       "mean         0.477614          0.509566  \n",
       "std          2.267809          0.203640  \n",
       "min         -7.135037          0.040133  \n",
       "25%         -0.997664          0.351296  \n",
       "50%          0.605518          0.509352  \n",
       "75%          2.057749          0.670495  \n",
       "max          7.759614          0.963084  "
      ]
     },
     "execution_count": 61,
     "metadata": {},
     "output_type": "execute_result"
    }
   ],
   "source": [
    "df.describe()"
   ]
  },
  {
   "cell_type": "markdown",
   "id": "43e58b0c",
   "metadata": {},
   "source": [
    "## Visualize Treatment and Outcomes"
   ]
  },
  {
   "cell_type": "code",
   "execution_count": 62,
   "id": "b91c6c48",
   "metadata": {},
   "outputs": [
    {
     "data": {
      "image/png": "[encoded data removed]",
      "text/plain": [
       "<Figure size 640x480 with 1 Axes>"
      ]
     },
     "metadata": {},
     "output_type": "display_data"
    }
   ],
   "source": [
    "import seaborn as sns\n",
    "import matplotlib.pyplot as plt\n",
    "\n",
    "sns.boxplot(data=df, x='treatment', y='outcome')\n",
    "plt.title(\"Observed Outcome by Treatment Group\")\n",
    "plt.xlabel(\"Treatment (0 = Control, 1 = Treated)\")\n",
    "plt.ylabel(\"Outcome\")\n",
    "plt.show()\n"
   ]
  },
  {
   "cell_type": "markdown",
   "id": "779c03c7",
   "metadata": {},
   "source": [
    "* **Treated group has higher median outcome** → suggests positive treatment effect.\n",
    "* **Outcome variability is higher** in treated.\n",
    "* **Distributions overlap** → implies need for causal methods.\n",
    "* **Outliers exist** in both groups → consider robust modeling."
   ]
  },
  {
   "cell_type": "code",
   "execution_count": 63,
   "id": "5815a258",
   "metadata": {},
   "outputs": [
    {
     "data": {
      "application/vnd.plotly.v1+json": {
       "config": {
        "plotlyServerURL": "https://plot.ly"
       },
       "data": [
        {
         "legendgroup": "Control",
         "marker": {
          "color": "rgb(31, 119, 180)"
         },
         "mode": "lines",
         "name": "Control",
         "showlegend": true,
         "type": "scatter",
         "x": [
          -6.38350083464109,
          -6.358079455298954,
          -6.332658075956819,
          -6.307236696614683,
          -6.281815317272548,
          -6.256393937930412,
          -6.2309725585882765,
          -6.20555117924614,
          -6.180129799904005,
          -6.154708420561869,
          -6.129287041219733,
          -6.103865661877598,
          -6.078444282535462,
          -6.053022903193327,
          -6.027601523851191,
          -6.0021801445090555,
          -5.976758765166919,
          -5.951337385824784,
          -5.925916006482648,
          -5.900494627140512,
          -5.875073247798377,
          -5.849651868456241,
          -5.824230489114106,
          -5.79880910977197,
          -5.773387730429834,
          -5.747966351087698,
          -5.722544971745563,
          -5.697123592403427,
          -5.671702213061291,
          -5.646280833719156,
          -5.62085945437702,
          -5.595438075034885,
          -5.570016695692749,
          -5.544595316350613,
          -5.519173937008477,
          -5.493752557666342,
          -5.468331178324206,
          -5.44290979898207,
          -5.417488419639935,
          -5.392067040297799,
          -5.366645660955664,
          -5.341224281613528,
          -5.315802902271392,
          -5.290381522929256,
          -5.264960143587121,
          -5.239538764244985,
          -5.214117384902849,
          -5.188696005560714,
          -5.163274626218578,
          -5.137853246876443,
          -5.112431867534307,
          -5.087010488192171,
          -5.061589108850035,
          -5.0361677295079,
          -5.010746350165764,
          -4.985324970823628,
          -4.959903591481493,
          -4.934482212139358,
          -4.909060832797222,
          -4.8836394534550855,
          -4.8582180741129495,
          -4.832796694770814,
          -4.807375315428679,
          -4.781953936086543,
          -4.756532556744407,
          -4.731111177402272,
          -4.705689798060136,
          -4.680268418718001,
          -4.6548470393758645,
          -4.629425660033729,
          -4.604004280691593,
          -4.578582901349458,
          -4.553161522007322,
          -4.527740142665186,
          -4.502318763323051,
          -4.476897383980915,
          -4.45147600463878,
          -4.4260546252966435,
          -4.400633245954508,
          -4.375211866612372,
          -4.349790487270237,
          -4.324369107928101,
          -4.298947728585965,
          -4.273526349243829,
          -4.248104969901695,
          -4.2226835905595586,
          -4.1972622112174225,
          -4.171840831875286,
          -4.146419452533152,
          -4.120998073191016,
          -4.09557669384888,
          -4.070155314506744,
          -4.044733935164608,
          -4.019312555822474,
          -3.993891176480337,
          -3.968469797138202,
          -3.943048417796066,
          -3.9176270384539302,
          -3.8922056591117946,
          -3.866784279769659,
          -3.8413629004275234,
          -3.8159415210853878,
          -3.790520141743252,
          -3.765098762401116,
          -3.7396773830589805,
          -3.714256003716845,
          -3.688834624374709,
          -3.6634132450325736,
          -3.637991865690438,
          -3.6125704863483024,
          -3.5871491070061667,
          -3.5617277276640307,
          -3.5363063483218955,
          -3.5108849689797594,
          -3.4854635896376243,
          -3.460042210295488,
          -3.4346208309533526,
          -3.409199451611217,
          -3.383778072269081,
          -3.3583566929269457,
          -3.3329353135848097,
          -3.3075139342426745,
          -3.2820925549005384,
          -3.2566711755584032,
          -3.231249796216267,
          -3.2058284168741316,
          -3.180407037531996,
          -3.1549856581898603,
          -3.1295642788477247,
          -3.1041428995055886,
          -3.0787215201634535,
          -3.0533001408213174,
          -3.027878761479182,
          -3.002457382137046,
          -2.9770360027949105,
          -2.951614623452775,
          -2.9261932441106393,
          -2.9007718647685037,
          -2.875350485426368,
          -2.849929106084232,
          -2.824507726742097,
          -2.7990863473999608,
          -2.773664968057825,
          -2.7482435887156895,
          -2.7228222093735535,
          -2.6974008300314183,
          -2.671979450689282,
          -2.646558071347147,
          -2.621136692005011,
          -2.595715312662876,
          -2.5702939333207397,
          -2.544872553978604,
          -2.5194511746364685,
          -2.494029795294333,
          -2.4686084159521973,
          -2.443187036610061,
          -2.417765657267926,
          -2.39234427792579,
          -2.3669228985836543,
          -2.3415015192415183,
          -2.316080139899383,
          -2.290658760557247,
          -2.265237381215112,
          -2.2398160018729767,
          -2.2143946225308406,
          -2.1889732431887046,
          -2.1635518638465685,
          -2.1381304845044333,
          -2.112709105162298,
          -2.087287725820162,
          -2.061866346478026,
          -2.036444967135891,
          -2.0110235877937557,
          -1.9856022084516196,
          -1.9601808291094835,
          -1.9347594497673475,
          -1.9093380704252132,
          -1.8839166910830771,
          -1.858495311740941,
          -1.833073932398805,
          -1.807652553056669,
          -1.7822311737145347,
          -1.7568097943723986,
          -1.7313884150302625,
          -1.7059670356881265,
          -1.6805456563459922,
          -1.6551242770038561,
          -1.62970289766172,
          -1.604281518319584,
          -1.5788601389774488,
          -1.5534387596353136,
          -1.5280173802931776,
          -1.5025960009510415,
          -1.4771746216089054,
          -1.4517532422667703,
          -1.426331862924635,
          -1.400910483582499,
          -1.375489104240363,
          -1.3500677248982278,
          -1.3246463455560917,
          -1.2992249662139566,
          -1.2738035868718205,
          -1.2483822075296853,
          -1.2229608281875493,
          -1.197539448845414,
          -1.172118069503278,
          -1.146696690161142,
          -1.1212753108190068,
          -1.0958539314768707,
          -1.0704325521347355,
          -1.0450111727925995,
          -1.0195897934504643,
          -0.9941684141083282,
          -0.9687470347661922,
          -0.943325655424057,
          -0.9179042760819218,
          -0.8924828967397858,
          -0.8670615173976497,
          -0.8416401380555145,
          -0.8162187587133785,
          -0.7907973793712433,
          -0.7653760000291072,
          -0.7399546206869712,
          -0.714533241344836,
          -0.6891118620027008,
          -0.6636904826605647,
          -0.6382691033184287,
          -0.6128477239762926,
          -0.5874263446341583,
          -0.5620049652920223,
          -0.5365835859498862,
          -0.5111622066077501,
          -0.48574082726561496,
          -0.4603194479234798,
          -0.4348980685813437,
          -0.40947668923920766,
          -0.3840553098970716,
          -0.3586339305549373,
          -0.33321255121280124,
          -0.3077911718706652,
          -0.2823697925285291,
          -0.25694841318639394,
          -0.23152703384425877,
          -0.2061056545021227,
          -0.18068427515998664,
          -0.15526289581785058,
          -0.1298415164757163,
          -0.10442013713358023,
          -0.07899875779144416,
          -0.0535773784493081,
          -0.028155999107172924,
          -0.002734619765037749,
          0.022686759577098314,
          0.04810813891923438,
          0.07352951826136955,
          0.09895089760350562,
          0.12437227694564079,
          0.14979365628777686,
          0.17521503562991292,
          0.2006364149720481,
          0.22605779431418327,
          0.25147917365631933,
          0.2769005529984554,
          0.30232193234059057,
          0.32774331168272663,
          0.3531646910248618,
          0.3785860703669979,
          0.40400744970913305,
          0.4294288290512691,
          0.4548502083934052,
          0.48027158773554035,
          0.5056929670776764,
          0.5311143464198116,
          0.5565357257619477,
          0.5819571051040828,
          0.6073784844462189,
          0.6327998637883541,
          0.6582212431304901,
          0.6836426224726262,
          0.7090640018147614,
          0.7344853811568965,
          0.7599067604990326,
          0.7853281398411687,
          0.8107495191833047,
          0.8361708985254399,
          0.8615922778675751,
          0.8870136572097111,
          0.9124350365518472,
          0.9378564158939833,
          0.9632777952361176,
          0.9886991745782536,
          1.0141205539203897,
          1.0395419332625258,
          1.06496331260466,
          1.090384691946796,
          1.1158060712889322,
          1.1412274506310682,
          1.1666488299732043,
          1.1920702093153386,
          1.2174915886574746,
          1.2429129679996107,
          1.2683343473417468,
          1.293755726683882,
          1.3191771060260171,
          1.3445984853681532,
          1.3700198647102892,
          1.3954412440524244,
          1.4208626233945596,
          1.4462840027366957,
          1.4717053820788317,
          1.4971267614209678,
          1.522548140763103,
          1.5479695201052381,
          1.5733908994473742,
          1.5988122787895103,
          1.6242336581316454,
          1.6496550374737815,
          1.6750764168159176,
          1.7004977961580536,
          1.725919175500188,
          1.751340554842324,
          1.77676193418446,
          1.802183313526596,
          1.8276046928687304,
          1.8530260722108665,
          1.8784474515530025,
          1.9038688308951368,
          1.9292902102372746,
          1.954711589579409,
          1.980132968921545,
          2.005554348263681,
          2.0309757276058154,
          2.056397106947953,
          2.0818184862900875,
          2.1072398656322235,
          2.1326612449743596,
          2.158082624316494,
          2.1835040036586317,
          2.208925383000766,
          2.2343467623429003,
          2.259768141685038,
          2.2851895210271724,
          2.3106109003693085,
          2.3360322797114446,
          2.361453659053579,
          2.3868750383957167,
          2.412296417737851,
          2.437717797079987,
          2.463139176422123,
          2.4885605557642574,
          2.5139819351063952,
          2.5394033144485295,
          2.564824693790664,
          2.5902460731328016,
          2.615667452474936,
          2.6410888318170738,
          2.666510211159208,
          2.6919315905013423,
          2.71735296984348,
          2.7427743491856145,
          2.7681957285277523,
          2.7936171078698866,
          2.819038487212021,
          2.8444598665541587,
          2.869881245896293,
          2.895302625238429,
          2.920724004580565,
          2.9461453839226994,
          2.9715667632648373,
          2.9969881426069716,
          3.022409521949106,
          3.0478309012912437,
          3.073252280633378,
          3.098673659975516,
          3.12409503931765,
          3.1495164186597844,
          3.174937798001922,
          3.2003591773440565,
          3.2257805566861926,
          3.2512019360283286,
          3.276623315370463,
          3.3020446947126008,
          3.327466074054735,
          3.352887453396871,
          3.378308832739007,
          3.4037302120811415,
          3.4291515914232793,
          3.4545729707654136,
          3.4799943501075496,
          3.5054157294496857,
          3.53083710879182,
          3.556258488133956,
          3.581679867476092,
          3.607101246818228,
          3.6325226261603643,
          3.6579440055024985,
          3.6833653848446346,
          3.7087867641867707,
          3.7342081435289067,
          3.759629522871043,
          3.785050902213177,
          3.810472281555313,
          3.835893660897449,
          3.8613150402395835,
          3.8867364195817196,
          3.9121577989238556,
          3.9375791782659917,
          3.9630005576081277,
          3.988421936950262,
          4.013843316292398,
          4.039264695634534,
          4.06468607497667,
          4.090107454318806,
          4.115528833660941,
          4.140950213003077,
          4.166371592345213,
          4.191792971687349,
          4.217214351029483,
          4.242635730371619,
          4.268057109713755,
          4.293478489055891,
          4.318899868398027,
          4.344321247740162,
          4.369742627082298,
          4.395164006424434,
          4.42058538576657,
          4.446006765108706,
          4.47142814445084,
          4.496849523792976,
          4.522270903135112,
          4.5476922824772466,
          4.573113661819383,
          4.598535041161519,
          4.623956420503655,
          4.649377799845791,
          4.674799179187925,
          4.700220558530061,
          4.725641937872197,
          4.751063317214333,
          4.776484696556469,
          4.801906075898604,
          4.82732745524074,
          4.852748834582876,
          4.87817021392501,
          4.903591593267148,
          4.929012972609282,
          4.954434351951418,
          4.979855731293554,
          5.005277110635689,
          5.030698489977826,
          5.056119869319961,
          5.081541248662097,
          5.106962628004233,
          5.132384007346367,
          5.157805386688505,
          5.183226766030639,
          5.2086481453727735,
          5.234069524714911,
          5.259490904057046,
          5.2849122833991835,
          5.310333662741318,
          5.335755042083452,
          5.36117642142559,
          5.386597800767724,
          5.41201918010986,
          5.437440559451996,
          5.462861938794131,
          5.4882833181362685,
          5.513704697478403,
          5.539126076820537,
          5.564547456162675,
          5.589968835504809,
          5.615390214846947,
          5.640811594189081,
          5.666232973531216,
          5.691654352873353,
          5.717075732215488,
          5.7424971115576255,
          5.76791849089976,
          5.793339870241894,
          5.818761249584032,
          5.844182628926166,
          5.869604008268302,
          5.895025387610438,
          5.920446766952573,
          5.9458681462947105,
          5.971289525636845,
          5.996710904978979,
          6.022132284321117,
          6.047553663663251,
          6.072975043005389,
          6.098396422347523,
          6.123817801689658,
          6.1492391810317955,
          6.17466056037393,
          6.200081939716066,
          6.225503319058202,
          6.250924698400336,
          6.276346077742474,
          6.301767457084608
         ],
         "xaxis": "x",
         "y": {
          "bdata": "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",
          "dtype": "f8"
         },
         "yaxis": "y"
        },
        {
         "legendgroup": "Treated",
         "marker": {
          "color": "rgb(255, 127, 14)"
         },
         "mode": "lines",
         "name": "Treated",
         "showlegend": true,
         "type": "scatter",
         "x": [
          -5.6426947490275525,
          -5.61812039737442,
          -5.593546045721288,
          -5.568971694068155,
          -5.544397342415023,
          -5.519822990761891,
          -5.495248639108758,
          -5.470674287455625,
          -5.4460999358024935,
          -5.421525584149361,
          -5.396951232496228,
          -5.372376880843096,
          -5.347802529189964,
          -5.323228177536831,
          -5.298653825883699,
          -5.274079474230566,
          -5.249505122577434,
          -5.224930770924302,
          -5.200356419271169,
          -5.175782067618037,
          -5.151207715964905,
          -5.126633364311772,
          -5.10205901265864,
          -5.077484661005507,
          -5.052910309352375,
          -5.028335957699243,
          -5.00376160604611,
          -4.979187254392977,
          -4.954612902739846,
          -4.930038551086713,
          -4.90546419943358,
          -4.880889847780448,
          -4.856315496127316,
          -4.831741144474183,
          -4.807166792821051,
          -4.782592441167918,
          -4.758018089514786,
          -4.733443737861654,
          -4.708869386208521,
          -4.684295034555388,
          -4.659720682902257,
          -4.635146331249124,
          -4.610571979595992,
          -4.585997627942859,
          -4.561423276289727,
          -4.536848924636594,
          -4.512274572983462,
          -4.487700221330329,
          -4.463125869677198,
          -4.438551518024065,
          -4.413977166370932,
          -4.3894028147177995,
          -4.364828463064668,
          -4.340254111411535,
          -4.315679759758403,
          -4.29110540810527,
          -4.266531056452138,
          -4.241956704799005,
          -4.217382353145873,
          -4.1928080014927405,
          -4.168233649839609,
          -4.143659298186476,
          -4.119084946533343,
          -4.094510594880211,
          -4.069936243227079,
          -4.045361891573946,
          -4.020787539920814,
          -3.9962131882676815,
          -3.971638836614549,
          -3.947064484961417,
          -3.922490133308284,
          -3.897915781655152,
          -3.8733414300020197,
          -3.848767078348887,
          -3.8241927266957547,
          -3.7996183750426225,
          -3.7750440233894897,
          -3.7504696717363575,
          -3.725895320083225,
          -3.7013209684300925,
          -3.6767466167769607,
          -3.652172265123828,
          -3.6275979134706953,
          -3.603023561817563,
          -3.5784492101644307,
          -3.553874858511298,
          -3.5293005068581658,
          -3.5047261552050335,
          -3.4801518035519012,
          -3.455577451898769,
          -3.4310031002456363,
          -3.406428748592504,
          -3.3818543969393713,
          -3.357280045286239,
          -3.3327056936331063,
          -3.308131341979974,
          -3.283556990326842,
          -3.2589826386737095,
          -3.2344082870205773,
          -3.2098339353674445,
          -3.1852595837143123,
          -3.1606852320611796,
          -3.1361108804080473,
          -3.111536528754915,
          -3.0869621771017823,
          -3.06238782544865,
          -3.037813473795518,
          -3.0132391221423855,
          -2.988664770489253,
          -2.9640904188361206,
          -2.9395160671829883,
          -2.9149417155298556,
          -2.8903673638767233,
          -2.8657930122235906,
          -2.8412186605704584,
          -2.8166443089173265,
          -2.792069957264194,
          -2.7674956056110616,
          -2.742921253957929,
          -2.7183469023047966,
          -2.693772550651664,
          -2.6691981989985316,
          -2.6446238473453993,
          -2.6200494956922666,
          -2.595475144039135,
          -2.570900792386002,
          -2.54632644073287,
          -2.521752089079737,
          -2.497177737426605,
          -2.4726033857734726,
          -2.44802903412034,
          -2.4234546824672076,
          -2.398880330814075,
          -2.374305979160943,
          -2.349731627507811,
          -2.325157275854678,
          -2.300582924201546,
          -2.276008572548413,
          -2.251434220895281,
          -2.226859869242148,
          -2.202285517589016,
          -2.1777111659358837,
          -2.1531368142827514,
          -2.128562462629619,
          -2.1039881109764864,
          -2.079413759323354,
          -2.0548394076702214,
          -2.030265056017089,
          -2.005690704363957,
          -1.9811163527108242,
          -1.956542001057692,
          -1.9319676494045597,
          -1.9073932977514274,
          -1.8828189460982951,
          -1.8582445944451624,
          -1.8336702427920302,
          -1.8090958911388975,
          -1.7845215394857652,
          -1.7599471878326325,
          -1.7353728361795002,
          -1.7107984845263684,
          -1.6862241328732357,
          -1.6616497812201034,
          -1.6370754295669707,
          -1.612501077913838,
          -1.5879267262607062,
          -1.5633523746075735,
          -1.5387780229544417,
          -1.514203671301309,
          -1.4896293196481762,
          -1.4650549679950435,
          -1.4404806163419117,
          -1.415906264688779,
          -1.3913319130356472,
          -1.3667575613825145,
          -1.3421832097293818,
          -1.31760885807625,
          -1.2930345064231172,
          -1.2684601547699854,
          -1.2438858031168518,
          -1.21931145146372,
          -1.1947370998105873,
          -1.1701627481574555,
          -1.1455883965043228,
          -1.12101404485119,
          -1.0964396931980582,
          -1.0718653415449255,
          -1.0472909898917937,
          -1.02271663823866,
          -0.9981422865855283,
          -0.9735679349323956,
          -0.9489935832792638,
          -0.924419231626131,
          -0.8998448799729983,
          -0.8752705283198665,
          -0.8506961766667338,
          -0.826121825013602,
          -0.8015474733604684,
          -0.7769731217073366,
          -0.7523987700542039,
          -0.727824418401072,
          -0.7032500667479393,
          -0.6786757150948066,
          -0.6541013634416748,
          -0.6295270117885421,
          -0.6049526601354103,
          -0.5803783084822776,
          -0.5558039568291449,
          -0.5312296051760121,
          -0.5066552535228803,
          -0.4820809018697476,
          -0.4575065502166158,
          -0.4329321985634831,
          -0.4083578469103504,
          -0.38378349525721855,
          -0.35920914360408585,
          -0.33463479195095314,
          -0.3100604402978204,
          -0.2854860886446886,
          -0.2609117369915559,
          -0.23633738533842408,
          -0.21176303368529137,
          -0.18718868203215866,
          -0.16261433037902684,
          -0.13803997872589413,
          -0.11346562707276231,
          -0.08889127541962871,
          -0.06431692376649689,
          -0.03974257211336418,
          -0.015168220460232362,
          0.009406131192899458,
          0.033980482846033055,
          0.058554834499164876,
          0.08312918615229759,
          0.1077035378054294,
          0.132277889458563,
          0.15685224111169482,
          0.18142659276482753,
          0.20600094441795935,
          0.23057529607109117,
          0.25514964772422477,
          0.2797239993773566,
          0.3042983510304893,
          0.3288727026836211,
          0.35344705433675383,
          0.37802140598988654,
          0.40259575764301925,
          0.42717010929615107,
          0.4517444609492829,
          0.4763188126024156,
          0.5008931642555483,
          0.525467515908681,
          0.5500418675618128,
          0.5746162192149455,
          0.5991905708680783,
          0.623764922521211,
          0.6483392741743428,
          0.6729136258274746,
          0.6974879774806073,
          0.72206232913374,
          0.7466366807868727,
          0.7712110324400046,
          0.7957853840931373,
          0.8203597357462691,
          0.8449340873994027,
          0.8695084390525345,
          0.8940827907056663,
          0.918657142358799,
          0.9432314940119308,
          0.9678058456650644,
          0.9923801973181963,
          1.016954548971329,
          1.0415289006244608,
          1.0661032522775944,
          1.0906776039307262,
          1.115251955583858,
          1.1398263072369907,
          1.1644006588901226,
          1.1889750105432562,
          1.213549362196388,
          1.2381237138495207,
          1.2626980655026525,
          1.2872724171557852,
          1.311846768808918,
          1.3364211204620497,
          1.3609954721151825,
          1.3855698237683143,
          1.410144175421447,
          1.4347185270745797,
          1.4592928787277124,
          1.4838672303808442,
          1.508441582033977,
          1.5330159336871096,
          1.5575902853402415,
          1.5821646369933742,
          1.606738988646506,
          1.6313133402996387,
          1.6558876919527714,
          1.6804620436059041,
          1.705036395259036,
          1.7296107469121687,
          1.7541850985653005,
          1.7787594502184332,
          1.803333801871566,
          1.8279081535246977,
          1.8524825051778304,
          1.8770568568309622,
          1.9016312084840958,
          1.9262055601372277,
          1.9507799117903604,
          1.9753542634434922,
          1.999928615096625,
          2.0245029667497576,
          2.0490773184028894,
          2.073651670056022,
          2.098226021709154,
          2.1228003733622876,
          2.1473747250154194,
          2.171949076668552,
          2.196523428321684,
          2.2210977799748157,
          2.2456721316279493,
          2.270246483281081,
          2.294820834934214,
          2.3193951865873457,
          2.3439695382404784,
          2.368543889893611,
          2.393118241546744,
          2.4176925931998765,
          2.442266944853009,
          2.46684129650614,
          2.491415648159273,
          2.5159899998124056,
          2.5405643514655383,
          2.565138703118669,
          2.589713054771802,
          2.6142874064249346,
          2.638861758078069,
          2.6634361097312,
          2.6880104613843327,
          2.7125848130374655,
          2.7371591646905964,
          2.761733516343729,
          2.786307867996862,
          2.8108822196499945,
          2.8354565713031255,
          2.860030922956258,
          2.8846052746093926,
          2.9091796262625236,
          2.9337539779156563,
          2.958328329568789,
          2.9829026812219217,
          3.0074770328750526,
          3.0320513845281853,
          3.056625736181318,
          3.0812000878344508,
          3.1057744394875817,
          3.130348791140716,
          3.154923142793849,
          3.17949749444698,
          3.2040718461001125,
          3.2286461977532452,
          3.253220549406378,
          3.277794901059509,
          3.3023692527126416,
          3.3269436043657743,
          3.351517956018907,
          3.3760923076720397,
          3.4006666593251724,
          3.425241010978305,
          3.449815362631436,
          3.4743897142845688,
          3.4989640659377015,
          3.523538417590834,
          3.548112769243965,
          3.5726871208970996,
          3.5972614725502323,
          3.6218358242033633,
          3.646410175856496,
          3.6709845275096287,
          3.6955588791627614,
          3.7201332308158923,
          3.744707582469025,
          3.7692819341221577,
          3.7938562857752904,
          3.818430637428423,
          3.843004989081556,
          3.8675793407346886,
          3.8921536923878195,
          3.916728044040952,
          3.941302395694085,
          3.9658767473472176,
          3.9904510990003486,
          4.015025450653481,
          4.039599802306616,
          4.064174153959747,
          4.088748505612879,
          4.113322857266012,
          4.137897208919145,
          4.162471560572276,
          4.1870459122254085,
          4.211620263878541,
          4.236194615531674,
          4.260768967184805,
          4.285343318837939,
          4.309917670491072,
          4.334492022144203,
          4.359066373797336,
          4.383640725450468,
          4.408215077103601,
          4.432789428756732,
          4.457363780409865,
          4.481938132062997,
          4.506512483716128,
          4.531086835369263,
          4.5556611870223955,
          4.580235538675528,
          4.604809890328659,
          4.629384241981792,
          4.653958593634925,
          4.678532945288057,
          4.703107296941188,
          4.727681648594321,
          4.752256000247455,
          4.776830351900586,
          4.801404703553719,
          4.825979055206852,
          4.8505534068599845,
          4.875127758513115,
          4.899702110166248,
          4.924276461819381,
          4.948850813472512,
          4.973425165125646,
          4.997999516778779,
          5.022573868431912,
          5.047148220085043,
          5.071722571738175,
          5.096296923391308,
          5.120871275044441,
          5.145445626697572,
          5.170019978350704,
          5.194594330003837,
          5.21916868165697,
          5.2437430333101025,
          5.268317384963235,
          5.292891736616368,
          5.317466088269499,
          5.342040439922632,
          5.366614791575764,
          5.391189143228895,
          5.415763494882028,
          5.440337846535162,
          5.464912198188295,
          5.489486549841426,
          5.514060901494559,
          5.5386352531476915,
          5.563209604800824,
          5.587783956453955,
          5.612358308107088,
          5.6369326597602205,
          5.661507011413351,
          5.686081363066486,
          5.710655714719619,
          5.735230066372751,
          5.759804418025882,
          5.784378769679015,
          5.808953121332148,
          5.833527472985279,
          5.858101824638411,
          5.882676176291544,
          5.9072505279446785,
          5.9318248795978095,
          5.956399231250942,
          5.980973582904075,
          6.005547934557208,
          6.0301222862103385,
          6.054696637863471,
          6.079270989516604,
          6.103845341169735,
          6.128419692822868,
          6.152994044476002,
          6.177568396129135,
          6.202142747782266,
          6.226717099435398,
          6.251291451088531,
          6.275865802741662,
          6.300440154394795,
          6.3250145060479275,
          6.34958885770106,
          6.374163209354193,
          6.398737561007326,
          6.423311912660458,
          6.447886264313591,
          6.472460615966722,
          6.497034967619855,
          6.521609319272987,
          6.546183670926118,
          6.570758022579251,
          6.595332374232384,
          6.619906725885518
         ],
         "xaxis": "x",
         "y": {
          "bdata": "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",
          "dtype": "f8"
         },
         "yaxis": "y"
        }
       ],
       "layout": {
        "barmode": "overlay",
        "hovermode": "closest",
        "legend": {
         "traceorder": "reversed"
        },
        "template": {
         "data": {
          "bar": [
           {
            "error_x": {
             "color": "#2a3f5f"
            },
            "error_y": {
             "color": "#2a3f5f"
            },
            "marker": {
             "line": {
              "color": "#E5ECF6",
              "width": 0.5
             },
             "pattern": {
              "fillmode": "overlay",
              "size": 10,
              "solidity": 0.2
             }
            },
            "type": "bar"
           }
          ],
          "barpolar": [
           {
            "marker": {
             "line": {
              "color": "#E5ECF6",
              "width": 0.5
             },
             "pattern": {
              "fillmode": "overlay",
              "size": 10,
              "solidity": 0.2
             }
            },
            "type": "barpolar"
           }
          ],
          "carpet": [
           {
            "aaxis": {
             "endlinecolor": "#2a3f5f",
             "gridcolor": "white",
             "linecolor": "white",
             "minorgridcolor": "white",
             "startlinecolor": "#2a3f5f"
            },
            "baxis": {
             "endlinecolor": "#2a3f5f",
             "gridcolor": "white",
             "linecolor": "white",
             "minorgridcolor": "white",
             "startlinecolor": "#2a3f5f"
            },
            "type": "carpet"
           }
          ],
          "choropleth": [
           {
            "colorbar": {
             "outlinewidth": 0,
             "ticks": ""
            },
            "type": "choropleth"
           }
          ],
          "contour": [
           {
            "colorbar": {
             "outlinewidth": 0,
             "ticks": ""
            },
            "colorscale": [
             [
              0,
              "#0d0887"
             ],
             [
              0.1111111111111111,
              "#46039f"
             ],
             [
              0.2222222222222222,
              "#7201a8"
             ],
             [
              0.3333333333333333,
              "#9c179e"
             ],
             [
              0.4444444444444444,
              "#bd3786"
             ],
             [
              0.5555555555555556,
              "#d8576b"
             ],
             [
              0.6666666666666666,
              "#ed7953"
             ],
             [
              0.7777777777777778,
              "#fb9f3a"
             ],
             [
              0.8888888888888888,
              "#fdca26"
             ],
             [
              1,
              "#f0f921"
             ]
            ],
            "type": "contour"
           }
          ],
          "contourcarpet": [
           {
            "colorbar": {
             "outlinewidth": 0,
             "ticks": ""
            },
            "type": "contourcarpet"
           }
          ],
          "heatmap": [
           {
            "colorbar": {
             "outlinewidth": 0,
             "ticks": ""
            },
            "colorscale": [
             [
              0,
              "#0d0887"
             ],
             [
              0.1111111111111111,
              "#46039f"
             ],
             [
              0.2222222222222222,
              "#7201a8"
             ],
             [
              0.3333333333333333,
              "#9c179e"
             ],
             [
              0.4444444444444444,
              "#bd3786"
             ],
             [
              0.5555555555555556,
              "#d8576b"
             ],
             [
              0.6666666666666666,
              "#ed7953"
             ],
             [
              0.7777777777777778,
              "#fb9f3a"
             ],
             [
              0.8888888888888888,
              "#fdca26"
             ],
             [
              1,
              "#f0f921"
             ]
            ],
            "type": "heatmap"
           }
          ],
          "histogram": [
           {
            "marker": {
             "pattern": {
              "fillmode": "overlay",
              "size": 10,
              "solidity": 0.2
             }
            },
            "type": "histogram"
           }
          ],
          "histogram2d": [
           {
            "colorbar": {
             "outlinewidth": 0,
             "ticks": ""
            },
            "colorscale": [
             [
              0,
              "#0d0887"
             ],
             [
              0.1111111111111111,
              "#46039f"
             ],
             [
              0.2222222222222222,
              "#7201a8"
             ],
             [
              0.3333333333333333,
              "#9c179e"
             ],
             [
              0.4444444444444444,
              "#bd3786"
             ],
             [
              0.5555555555555556,
              "#d8576b"
             ],
             [
              0.6666666666666666,
              "#ed7953"
             ],
             [
              0.7777777777777778,
              "#fb9f3a"
             ],
             [
              0.8888888888888888,
              "#fdca26"
             ],
             [
              1,
              "#f0f921"
             ]
            ],
            "type": "histogram2d"
           }
          ],
          "histogram2dcontour": [
           {
            "colorbar": {
             "outlinewidth": 0,
             "ticks": ""
            },
            "colorscale": [
             [
              0,
              "#0d0887"
             ],
             [
              0.1111111111111111,
              "#46039f"
             ],
             [
              0.2222222222222222,
              "#7201a8"
             ],
             [
              0.3333333333333333,
              "#9c179e"
             ],
             [
              0.4444444444444444,
              "#bd3786"
             ],
             [
              0.5555555555555556,
              "#d8576b"
             ],
             [
              0.6666666666666666,
              "#ed7953"
             ],
             [
              0.7777777777777778,
              "#fb9f3a"
             ],
             [
              0.8888888888888888,
              "#fdca26"
             ],
             [
              1,
              "#f0f921"
             ]
            ],
            "type": "histogram2dcontour"
           }
          ],
          "mesh3d": [
           {
            "colorbar": {
             "outlinewidth": 0,
             "ticks": ""
            },
            "type": "mesh3d"
           }
          ],
          "parcoords": [
           {
            "line": {
             "colorbar": {
              "outlinewidth": 0,
              "ticks": ""
             }
            },
            "type": "parcoords"
           }
          ],
          "pie": [
           {
            "automargin": true,
            "type": "pie"
           }
          ],
          "scatter": [
           {
            "fillpattern": {
             "fillmode": "overlay",
             "size": 10,
             "solidity": 0.2
            },
            "type": "scatter"
           }
          ],
          "scatter3d": [
           {
            "line": {
             "colorbar": {
              "outlinewidth": 0,
              "ticks": ""
             }
            },
            "marker": {
             "colorbar": {
              "outlinewidth": 0,
              "ticks": ""
             }
            },
            "type": "scatter3d"
           }
          ],
          "scattercarpet": [
           {
            "marker": {
             "colorbar": {
              "outlinewidth": 0,
              "ticks": ""
             }
            },
            "type": "scattercarpet"
           }
          ],
          "scattergeo": [
           {
            "marker": {
             "colorbar": {
              "outlinewidth": 0,
              "ticks": ""
             }
            },
            "type": "scattergeo"
           }
          ],
          "scattergl": [
           {
            "marker": {
             "colorbar": {
              "outlinewidth": 0,
              "ticks": ""
             }
            },
            "type": "scattergl"
           }
          ],
          "scattermap": [
           {
            "marker": {
             "colorbar": {
              "outlinewidth": 0,
              "ticks": ""
             }
            },
            "type": "scattermap"
           }
          ],
          "scattermapbox": [
           {
            "marker": {
             "colorbar": {
              "outlinewidth": 0,
              "ticks": ""
             }
            },
            "type": "scattermapbox"
           }
          ],
          "scatterpolar": [
           {
            "marker": {
             "colorbar": {
              "outlinewidth": 0,
              "ticks": ""
             }
            },
            "type": "scatterpolar"
           }
          ],
          "scatterpolargl": [
           {
            "marker": {
             "colorbar": {
              "outlinewidth": 0,
              "ticks": ""
             }
            },
            "type": "scatterpolargl"
           }
          ],
          "scatterternary": [
           {
            "marker": {
             "colorbar": {
              "outlinewidth": 0,
              "ticks": ""
             }
            },
            "type": "scatterternary"
           }
          ],
          "surface": [
           {
            "colorbar": {
             "outlinewidth": 0,
             "ticks": ""
            },
            "colorscale": [
             [
              0,
              "#0d0887"
             ],
             [
              0.1111111111111111,
              "#46039f"
             ],
             [
              0.2222222222222222,
              "#7201a8"
             ],
             [
              0.3333333333333333,
              "#9c179e"
             ],
             [
              0.4444444444444444,
              "#bd3786"
             ],
             [
              0.5555555555555556,
              "#d8576b"
             ],
             [
              0.6666666666666666,
              "#ed7953"
             ],
             [
              0.7777777777777778,
              "#fb9f3a"
             ],
             [
              0.8888888888888888,
              "#fdca26"
             ],
             [
              1,
              "#f0f921"
             ]
            ],
            "type": "surface"
           }
          ],
          "table": [
           {
            "cells": {
             "fill": {
              "color": "#EBF0F8"
             },
             "line": {
              "color": "white"
             }
            },
            "header": {
             "fill": {
              "color": "#C8D4E3"
             },
             "line": {
              "color": "white"
             }
            },
            "type": "table"
           }
          ]
         },
         "layout": {
          "annotationdefaults": {
           "arrowcolor": "#2a3f5f",
           "arrowhead": 0,
           "arrowwidth": 1
          },
          "autotypenumbers": "strict",
          "coloraxis": {
           "colorbar": {
            "outlinewidth": 0,
            "ticks": ""
           }
          },
          "colorscale": {
           "diverging": [
            [
             0,
             "#8e0152"
            ],
            [
             0.1,
             "#c51b7d"
            ],
            [
             0.2,
             "#de77ae"
            ],
            [
             0.3,
             "#f1b6da"
            ],
            [
             0.4,
             "#fde0ef"
            ],
            [
             0.5,
             "#f7f7f7"
            ],
            [
             0.6,
             "#e6f5d0"
            ],
            [
             0.7,
             "#b8e186"
            ],
            [
             0.8,
             "#7fbc41"
            ],
            [
             0.9,
             "#4d9221"
            ],
            [
             1,
             "#276419"
            ]
           ],
           "sequential": [
            [
             0,
             "#0d0887"
            ],
            [
             0.1111111111111111,
             "#46039f"
            ],
            [
             0.2222222222222222,
             "#7201a8"
            ],
            [
             0.3333333333333333,
             "#9c179e"
            ],
            [
             0.4444444444444444,
             "#bd3786"
            ],
            [
             0.5555555555555556,
             "#d8576b"
            ],
            [
             0.6666666666666666,
             "#ed7953"
            ],
            [
             0.7777777777777778,
             "#fb9f3a"
            ],
            [
             0.8888888888888888,
             "#fdca26"
            ],
            [
             1,
             "#f0f921"
            ]
           ],
           "sequentialminus": [
            [
             0,
             "#0d0887"
            ],
            [
             0.1111111111111111,
             "#46039f"
            ],
            [
             0.2222222222222222,
             "#7201a8"
            ],
            [
             0.3333333333333333,
             "#9c179e"
            ],
            [
             0.4444444444444444,
             "#bd3786"
            ],
            [
             0.5555555555555556,
             "#d8576b"
            ],
            [
             0.6666666666666666,
             "#ed7953"
            ],
            [
             0.7777777777777778,
             "#fb9f3a"
            ],
            [
             0.8888888888888888,
             "#fdca26"
            ],
            [
             1,
             "#f0f921"
            ]
           ]
          },
          "colorway": [
           "#636efa",
           "#EF553B",
           "#00cc96",
           "#ab63fa",
           "#FFA15A",
           "#19d3f3",
           "#FF6692",
           "#B6E880",
           "#FF97FF",
           "#FECB52"
          ],
          "font": {
           "color": "#2a3f5f"
          },
          "geo": {
           "bgcolor": "white",
           "lakecolor": "white",
           "landcolor": "#E5ECF6",
           "showlakes": true,
           "showland": true,
           "subunitcolor": "white"
          },
          "hoverlabel": {
           "align": "left"
          },
          "hovermode": "closest",
          "mapbox": {
           "style": "light"
          },
          "paper_bgcolor": "white",
          "plot_bgcolor": "#E5ECF6",
          "polar": {
           "angularaxis": {
            "gridcolor": "white",
            "linecolor": "white",
            "ticks": ""
           },
           "bgcolor": "#E5ECF6",
           "radialaxis": {
            "gridcolor": "white",
            "linecolor": "white",
            "ticks": ""
           }
          },
          "scene": {
           "xaxis": {
            "backgroundcolor": "#E5ECF6",
            "gridcolor": "white",
            "gridwidth": 2,
            "linecolor": "white",
            "showbackground": true,
            "ticks": "",
            "zerolinecolor": "white"
           },
           "yaxis": {
            "backgroundcolor": "#E5ECF6",
            "gridcolor": "white",
            "gridwidth": 2,
            "linecolor": "white",
            "showbackground": true,
            "ticks": "",
            "zerolinecolor": "white"
           },
           "zaxis": {
            "backgroundcolor": "#E5ECF6",
            "gridcolor": "white",
            "gridwidth": 2,
            "linecolor": "white",
            "showbackground": true,
            "ticks": "",
            "zerolinecolor": "white"
           }
          },
          "shapedefaults": {
           "line": {
            "color": "#2a3f5f"
           }
          },
          "ternary": {
           "aaxis": {
            "gridcolor": "white",
            "linecolor": "white",
            "ticks": ""
           },
           "baxis": {
            "gridcolor": "white",
            "linecolor": "white",
            "ticks": ""
           },
           "bgcolor": "#E5ECF6",
           "caxis": {
            "gridcolor": "white",
            "linecolor": "white",
            "ticks": ""
           }
          },
          "title": {
           "x": 0.05
          },
          "xaxis": {
           "automargin": true,
           "gridcolor": "white",
           "linecolor": "white",
           "ticks": "",
           "title": {
            "standoff": 15
           },
           "zerolinecolor": "white",
           "zerolinewidth": 2
          },
          "yaxis": {
           "automargin": true,
           "gridcolor": "white",
           "linecolor": "white",
           "ticks": "",
           "title": {
            "standoff": 15
           },
           "zerolinecolor": "white",
           "zerolinewidth": 2
          }
         }
        },
        "title": {
         "text": "Outcome Distribution (Clipped at Outcome < 50)"
        },
        "xaxis": {
         "anchor": "y2",
         "domain": [
          0,
          1
         ],
         "title": {
          "text": "Outcome"
         },
         "zeroline": false
        },
        "yaxis": {
         "anchor": "free",
         "domain": [
          0,
          1
         ],
         "position": 0,
         "title": {
          "text": "Density"
         }
        }
       }
      }
     },
     "metadata": {},
     "output_type": "display_data"
    }
   ],
   "source": [
    "# Only keep rows where outcome < 50\n",
    "filtered_df = df[df['outcome'] < 50]\n",
    "\n",
    "treated = filtered_df[filtered_df[\"treatment\"] == 1][\"outcome\"]\n",
    "control = filtered_df[filtered_df[\"treatment\"] == 0][\"outcome\"]\n",
    "\n",
    "fig = ff.create_distplot(\n",
    "    [control, treated],\n",
    "    group_labels=[\"Control\", \"Treated\"],\n",
    "    show_hist=False,\n",
    "    show_rug=False\n",
    ")\n",
    "\n",
    "fig.update_layout(\n",
    "    title=\"Outcome Distribution (Clipped at Outcome < 50)\",\n",
    "    xaxis_title=\"Outcome\",\n",
    "    yaxis_title=\"Density\"\n",
    ")\n",
    "\n",
    "fig.show()\n"
   ]
  },
  {
   "cell_type": "markdown",
   "id": "3e9ff58a",
   "metadata": {},
   "source": [
    "### 🔍 What we see:\n",
    "\n",
    "* **Treated distribution is right-shifted** → consistent with higher outcomes.\n",
    "* **More mass above 0 for treated group** → treatment likely beneficial.\n",
    "* **Control group has more density on the left** → worse outcomes.\n",
    "* **Distributions overlap but are distinguishable** → good candidate for causal estimation."
   ]
  },
  {
   "cell_type": "markdown",
   "id": "6dc265c6",
   "metadata": {},
   "source": [
    "## Checking for imbalance using KDEs for each feature"
   ]
  },
  {
   "cell_type": "code",
   "execution_count": 65,
   "id": "3622d781",
   "metadata": {},
   "outputs": [
    {
     "data": {
      "image/png": "[encoded data removed]",
      "text/plain": [
       "<Figure size 600x400 with 1 Axes>"
      ]
     },
     "metadata": {},
     "output_type": "display_data"
    },
    {
     "data": {
      "image/png": "[encoded data removed]",
      "text/plain": [
       "<Figure size 600x400 with 1 Axes>"
      ]
     },
     "metadata": {},
     "output_type": "display_data"
    },
    {
     "data": {
      "image/png": "[encoded data removed]",
      "text/plain": [
       "<Figure size 600x400 with 1 Axes>"
      ]
     },
     "metadata": {},
     "output_type": "display_data"
    },
    {
     "data": {
      "image/png": "[encoded data removed]",
      "text/plain": [
       "<Figure size 600x400 with 1 Axes>"
      ]
     },
     "metadata": {},
     "output_type": "display_data"
    },
    {
     "data": {
      "image/png": "[encoded data removed]",
      "text/plain": [
       "<Figure size 600x400 with 1 Axes>"
      ]
     },
     "metadata": {},
     "output_type": "display_data"
    },
    {
     "data": {
      "image/png": "[encoded data removed]",
      "text/plain": [
       "<Figure size 600x400 with 1 Axes>"
      ]
     },
     "metadata": {},
     "output_type": "display_data"
    },
    {
     "data": {
      "image/png": "[encoded data removed]",
      "text/plain": [
       "<Figure size 600x400 with 1 Axes>"
      ]
     },
     "metadata": {},
     "output_type": "display_data"
    },
    {
     "data": {
      "image/png": "[encoded data removed]",
      "text/plain": [
       "<Figure size 600x400 with 1 Axes>"
      ]
     },
     "metadata": {},
     "output_type": "display_data"
    },
    {
     "data": {
      "image/png": "[encoded data removed]",
      "text/plain": [
       "<Figure size 600x400 with 1 Axes>"
      ]
     },
     "metadata": {},
     "output_type": "display_data"
    },
    {
     "data": {
      "image/png": "[encoded data removed]",
      "text/plain": [
       "<Figure size 600x400 with 1 Axes>"
      ]
     },
     "metadata": {},
     "output_type": "display_data"
    }
   ],
   "source": [
    "# Loop through all x-features\n",
    "features = [f'x{i}' for i in range(10)]  # x0 to x24\n",
    "\n",
    "for col in features:\n",
    "    plt.figure(figsize=(6, 4))\n",
    "    sns.kdeplot(data=df, x=col, hue='treatment', common_norm=False, fill=True, palette='Set2', alpha=0.5)\n",
    "    plt.title(f'Distribution of {col} by Treatment Group')\n",
    "    plt.xlabel(col)\n",
    "    plt.ylabel(\"Density\")\n",
    "    plt.tight_layout()\n",
    "    plt.show()"
   ]
  },
  {
   "cell_type": "markdown",
   "id": "0f854ad1",
   "metadata": {},
   "source": [
    "* Lets check for imbalance using index also!"
   ]
  },
  {
   "cell_type": "markdown",
   "id": "c5883d39",
   "metadata": {},
   "source": [
    "## Visualize Standardized Mean Differences (SMD)"
   ]
  },
  {
   "cell_type": "code",
   "execution_count": null,
   "id": "e7e2bc1b",
   "metadata": {},
   "outputs": [
    {
     "data": {
      "application/vnd.plotly.v1+json": {
       "config": {
        "plotlyServerURL": "https://plot.ly"
       },
       "data": [
        {
         "hovertemplate": "SMD=%{x}<br>Covariate=%{y}<extra></extra>",
         "legendgroup": "",
         "marker": {
          "color": "#636efa",
          "pattern": {
           "shape": ""
          }
         },
         "name": "",
         "orientation": "h",
         "showlegend": false,
         "textposition": "auto",
         "type": "bar",
         "x": {
          "bdata": "vgRk3uw02z+iBtoFtbDXP7m50NcEhdI/ujQj2sRZ0j+VitUtXAPQPzCFRF59+Ms/pE2J7qFtyD/kFNHi993FP5JHfYNPELs/PLvZdP5Atz8=",
          "dtype": "f8"
         },
         "xaxis": "x",
         "y": [
          "x3",
          "x5",
          "x2",
          "x1",
          "x8",
          "x7",
          "x9",
          "x6",
          "x0",
          "x4"
         ],
         "yaxis": "y"
        }
       ],
       "layout": {
        "barmode": "relative",
        "legend": {
         "tracegroupgap": 0
        },
        "template": {
         "data": {
          "bar": [
           {
            "error_x": {
             "color": "#2a3f5f"
            },
            "error_y": {
             "color": "#2a3f5f"
            },
            "marker": {
             "line": {
              "color": "#E5ECF6",
              "width": 0.5
             },
             "pattern": {
              "fillmode": "overlay",
              "size": 10,
              "solidity": 0.2
             }
            },
            "type": "bar"
           }
          ],
          "barpolar": [
           {
            "marker": {
             "line": {
              "color": "#E5ECF6",
              "width": 0.5
             },
             "pattern": {
              "fillmode": "overlay",
              "size": 10,
              "solidity": 0.2
             }
            },
            "type": "barpolar"
           }
          ],
          "carpet": [
           {
            "aaxis": {
             "endlinecolor": "#2a3f5f",
             "gridcolor": "white",
             "linecolor": "white",
             "minorgridcolor": "white",
             "startlinecolor": "#2a3f5f"
            },
            "baxis": {
             "endlinecolor": "#2a3f5f",
             "gridcolor": "white",
             "linecolor": "white",
             "minorgridcolor": "white",
             "startlinecolor": "#2a3f5f"
            },
            "type": "carpet"
           }
          ],
          "choropleth": [
           {
            "colorbar": {
             "outlinewidth": 0,
             "ticks": ""
            },
            "type": "choropleth"
           }
          ],
          "contour": [
           {
            "colorbar": {
             "outlinewidth": 0,
             "ticks": ""
            },
            "colorscale": [
             [
              0,
              "#0d0887"
             ],
             [
              0.1111111111111111,
              "#46039f"
             ],
             [
              0.2222222222222222,
              "#7201a8"
             ],
             [
              0.3333333333333333,
              "#9c179e"
             ],
             [
              0.4444444444444444,
              "#bd3786"
             ],
             [
              0.5555555555555556,
              "#d8576b"
             ],
             [
              0.6666666666666666,
              "#ed7953"
             ],
             [
              0.7777777777777778,
              "#fb9f3a"
             ],
             [
              0.8888888888888888,
              "#fdca26"
             ],
             [
              1,
              "#f0f921"
             ]
            ],
            "type": "contour"
           }
          ],
          "contourcarpet": [
           {
            "colorbar": {
             "outlinewidth": 0,
             "ticks": ""
            },
            "type": "contourcarpet"
           }
          ],
          "heatmap": [
           {
            "colorbar": {
             "outlinewidth": 0,
             "ticks": ""
            },
            "colorscale": [
             [
              0,
              "#0d0887"
             ],
             [
              0.1111111111111111,
              "#46039f"
             ],
             [
              0.2222222222222222,
              "#7201a8"
             ],
             [
              0.3333333333333333,
              "#9c179e"
             ],
             [
              0.4444444444444444,
              "#bd3786"
             ],
             [
              0.5555555555555556,
              "#d8576b"
             ],
             [
              0.6666666666666666,
              "#ed7953"
             ],
             [
              0.7777777777777778,
              "#fb9f3a"
             ],
             [
              0.8888888888888888,
              "#fdca26"
             ],
             [
              1,
              "#f0f921"
             ]
            ],
            "type": "heatmap"
           }
          ],
          "histogram": [
           {
            "marker": {
             "pattern": {
              "fillmode": "overlay",
              "size": 10,
              "solidity": 0.2
             }
            },
            "type": "histogram"
           }
          ],
          "histogram2d": [
           {
            "colorbar": {
             "outlinewidth": 0,
             "ticks": ""
            },
            "colorscale": [
             [
              0,
              "#0d0887"
             ],
             [
              0.1111111111111111,
              "#46039f"
             ],
             [
              0.2222222222222222,
              "#7201a8"
             ],
             [
              0.3333333333333333,
              "#9c179e"
             ],
             [
              0.4444444444444444,
              "#bd3786"
             ],
             [
              0.5555555555555556,
              "#d8576b"
             ],
             [
              0.6666666666666666,
              "#ed7953"
             ],
             [
              0.7777777777777778,
              "#fb9f3a"
             ],
             [
              0.8888888888888888,
              "#fdca26"
             ],
             [
              1,
              "#f0f921"
             ]
            ],
            "type": "histogram2d"
           }
          ],
          "histogram2dcontour": [
           {
            "colorbar": {
             "outlinewidth": 0,
             "ticks": ""
            },
            "colorscale": [
             [
              0,
              "#0d0887"
             ],
             [
              0.1111111111111111,
              "#46039f"
             ],
             [
              0.2222222222222222,
              "#7201a8"
             ],
             [
              0.3333333333333333,
              "#9c179e"
             ],
             [
              0.4444444444444444,
              "#bd3786"
             ],
             [
              0.5555555555555556,
              "#d8576b"
             ],
             [
              0.6666666666666666,
              "#ed7953"
             ],
             [
              0.7777777777777778,
              "#fb9f3a"
             ],
             [
              0.8888888888888888,
              "#fdca26"
             ],
             [
              1,
              "#f0f921"
             ]
            ],
            "type": "histogram2dcontour"
           }
          ],
          "mesh3d": [
           {
            "colorbar": {
             "outlinewidth": 0,
             "ticks": ""
            },
            "type": "mesh3d"
           }
          ],
          "parcoords": [
           {
            "line": {
             "colorbar": {
              "outlinewidth": 0,
              "ticks": ""
             }
            },
            "type": "parcoords"
           }
          ],
          "pie": [
           {
            "automargin": true,
            "type": "pie"
           }
          ],
          "scatter": [
           {
            "fillpattern": {
             "fillmode": "overlay",
             "size": 10,
             "solidity": 0.2
            },
            "type": "scatter"
           }
          ],
          "scatter3d": [
           {
            "line": {
             "colorbar": {
              "outlinewidth": 0,
              "ticks": ""
             }
            },
            "marker": {
             "colorbar": {
              "outlinewidth": 0,
              "ticks": ""
             }
            },
            "type": "scatter3d"
           }
          ],
          "scattercarpet": [
           {
            "marker": {
             "colorbar": {
              "outlinewidth": 0,
              "ticks": ""
             }
            },
            "type": "scattercarpet"
           }
          ],
          "scattergeo": [
           {
            "marker": {
             "colorbar": {
              "outlinewidth": 0,
              "ticks": ""
             }
            },
            "type": "scattergeo"
           }
          ],
          "scattergl": [
           {
            "marker": {
             "colorbar": {
              "outlinewidth": 0,
              "ticks": ""
             }
            },
            "type": "scattergl"
           }
          ],
          "scattermap": [
           {
            "marker": {
             "colorbar": {
              "outlinewidth": 0,
              "ticks": ""
             }
            },
            "type": "scattermap"
           }
          ],
          "scattermapbox": [
           {
            "marker": {
             "colorbar": {
              "outlinewidth": 0,
              "ticks": ""
             }
            },
            "type": "scattermapbox"
           }
          ],
          "scatterpolar": [
           {
            "marker": {
             "colorbar": {
              "outlinewidth": 0,
              "ticks": ""
             }
            },
            "type": "scatterpolar"
           }
          ],
          "scatterpolargl": [
           {
            "marker": {
             "colorbar": {
              "outlinewidth": 0,
              "ticks": ""
             }
            },
            "type": "scatterpolargl"
           }
          ],
          "scatterternary": [
           {
            "marker": {
             "colorbar": {
              "outlinewidth": 0,
              "ticks": ""
             }
            },
            "type": "scatterternary"
           }
          ],
          "surface": [
           {
            "colorbar": {
             "outlinewidth": 0,
             "ticks": ""
            },
            "colorscale": [
             [
              0,
              "#0d0887"
             ],
             [
              0.1111111111111111,
              "#46039f"
             ],
             [
              0.2222222222222222,
              "#7201a8"
             ],
             [
              0.3333333333333333,
              "#9c179e"
             ],
             [
              0.4444444444444444,
              "#bd3786"
             ],
             [
              0.5555555555555556,
              "#d8576b"
             ],
             [
              0.6666666666666666,
              "#ed7953"
             ],
             [
              0.7777777777777778,
              "#fb9f3a"
             ],
             [
              0.8888888888888888,
              "#fdca26"
             ],
             [
              1,
              "#f0f921"
             ]
            ],
            "type": "surface"
           }
          ],
          "table": [
           {
            "cells": {
             "fill": {
              "color": "#EBF0F8"
             },
             "line": {
              "color": "white"
             }
            },
            "header": {
             "fill": {
              "color": "#C8D4E3"
             },
             "line": {
              "color": "white"
             }
            },
            "type": "table"
           }
          ]
         },
         "layout": {
          "annotationdefaults": {
           "arrowcolor": "#2a3f5f",
           "arrowhead": 0,
           "arrowwidth": 1
          },
          "autotypenumbers": "strict",
          "coloraxis": {
           "colorbar": {
            "outlinewidth": 0,
            "ticks": ""
           }
          },
          "colorscale": {
           "diverging": [
            [
             0,
             "#8e0152"
            ],
            [
             0.1,
             "#c51b7d"
            ],
            [
             0.2,
             "#de77ae"
            ],
            [
             0.3,
             "#f1b6da"
            ],
            [
             0.4,
             "#fde0ef"
            ],
            [
             0.5,
             "#f7f7f7"
            ],
            [
             0.6,
             "#e6f5d0"
            ],
            [
             0.7,
             "#b8e186"
            ],
            [
             0.8,
             "#7fbc41"
            ],
            [
             0.9,
             "#4d9221"
            ],
            [
             1,
             "#276419"
            ]
           ],
           "sequential": [
            [
             0,
             "#0d0887"
            ],
            [
             0.1111111111111111,
             "#46039f"
            ],
            [
             0.2222222222222222,
             "#7201a8"
            ],
            [
             0.3333333333333333,
             "#9c179e"
            ],
            [
             0.4444444444444444,
             "#bd3786"
            ],
            [
             0.5555555555555556,
             "#d8576b"
            ],
            [
             0.6666666666666666,
             "#ed7953"
            ],
            [
             0.7777777777777778,
             "#fb9f3a"
            ],
            [
             0.8888888888888888,
             "#fdca26"
            ],
            [
             1,
             "#f0f921"
            ]
           ],
           "sequentialminus": [
            [
             0,
             "#0d0887"
            ],
            [
             0.1111111111111111,
             "#46039f"
            ],
            [
             0.2222222222222222,
             "#7201a8"
            ],
            [
             0.3333333333333333,
             "#9c179e"
            ],
            [
             0.4444444444444444,
             "#bd3786"
            ],
            [
             0.5555555555555556,
             "#d8576b"
            ],
            [
             0.6666666666666666,
             "#ed7953"
            ],
            [
             0.7777777777777778,
             "#fb9f3a"
            ],
            [
             0.8888888888888888,
             "#fdca26"
            ],
            [
             1,
             "#f0f921"
            ]
           ]
          },
          "colorway": [
           "#636efa",
           "#EF553B",
           "#00cc96",
           "#ab63fa",
           "#FFA15A",
           "#19d3f3",
           "#FF6692",
           "#B6E880",
           "#FF97FF",
           "#FECB52"
          ],
          "font": {
           "color": "#2a3f5f"
          },
          "geo": {
           "bgcolor": "white",
           "lakecolor": "white",
           "landcolor": "#E5ECF6",
           "showlakes": true,
           "showland": true,
           "subunitcolor": "white"
          },
          "hoverlabel": {
           "align": "left"
          },
          "hovermode": "closest",
          "mapbox": {
           "style": "light"
          },
          "paper_bgcolor": "white",
          "plot_bgcolor": "#E5ECF6",
          "polar": {
           "angularaxis": {
            "gridcolor": "white",
            "linecolor": "white",
            "ticks": ""
           },
           "bgcolor": "#E5ECF6",
           "radialaxis": {
            "gridcolor": "white",
            "linecolor": "white",
            "ticks": ""
           }
          },
          "scene": {
           "xaxis": {
            "backgroundcolor": "#E5ECF6",
            "gridcolor": "white",
            "gridwidth": 2,
            "linecolor": "white",
            "showbackground": true,
            "ticks": "",
            "zerolinecolor": "white"
           },
           "yaxis": {
            "backgroundcolor": "#E5ECF6",
            "gridcolor": "white",
            "gridwidth": 2,
            "linecolor": "white",
            "showbackground": true,
            "ticks": "",
            "zerolinecolor": "white"
           },
           "zaxis": {
            "backgroundcolor": "#E5ECF6",
            "gridcolor": "white",
            "gridwidth": 2,
            "linecolor": "white",
            "showbackground": true,
            "ticks": "",
            "zerolinecolor": "white"
           }
          },
          "shapedefaults": {
           "line": {
            "color": "#2a3f5f"
           }
          },
          "ternary": {
           "aaxis": {
            "gridcolor": "white",
            "linecolor": "white",
            "ticks": ""
           },
           "baxis": {
            "gridcolor": "white",
            "linecolor": "white",
            "ticks": ""
           },
           "bgcolor": "#E5ECF6",
           "caxis": {
            "gridcolor": "white",
            "linecolor": "white",
            "ticks": ""
           }
          },
          "title": {
           "x": 0.05
          },
          "xaxis": {
           "automargin": true,
           "gridcolor": "white",
           "linecolor": "white",
           "ticks": "",
           "title": {
            "standoff": 15
           },
           "zerolinecolor": "white",
           "zerolinewidth": 2
          },
          "yaxis": {
           "automargin": true,
           "gridcolor": "white",
           "linecolor": "white",
           "ticks": "",
           "title": {
            "standoff": 15
           },
           "zerolinecolor": "white",
           "zerolinewidth": 2
          }
         }
        },
        "title": {
         "text": "Standardized Mean Differences (SMD) Before Adjustment"
        },
        "xaxis": {
         "anchor": "y",
         "domain": [
          0,
          1
         ],
         "title": {
          "text": "SMD"
         }
        },
        "yaxis": {
         "anchor": "x",
         "domain": [
          0,
          1
         ],
         "title": {
          "text": "Covariate"
         }
        }
       }
      }
     },
     "metadata": {},
     "output_type": "display_data"
    }
   ],
   "source": [
    "from sklearn.preprocessing import StandardScaler\n",
    "# Assume df is your loaded DataFrame\n",
    "X = df[[col for col in df.columns if col.startswith(\"x\")]]\n",
    "T = df[\"treatment\"]\n",
    "\n",
    "# Standardize features (important for SMD)\n",
    "X_std = pd.DataFrame(StandardScaler().fit_transform(X), columns=X.columns)\n",
    "\n",
    "# Compute SMD\n",
    "treated = X_std[T == 1]\n",
    "control = X_std[T == 0]\n",
    "smd = (treated.mean() - control.mean()).abs()\n",
    "\n",
    "# Plot\n",
    "smd_df = smd.sort_values(ascending=False).reset_index()\n",
    "smd_df.columns = [\"Covariate\", \"SMD\"]\n",
    "\n",
    "fig = px.bar(\n",
    "    smd_df, x=\"SMD\", y=\"Covariate\", orientation=\"h\",\n",
    "    title=\"Standardized Mean Differences (SMD) Before Adjustment\"\n",
    ")\n",
    "fig.show()"
   ]
  },
  {
   "cell_type": "markdown",
   "id": "13e7c795",
   "metadata": {},
   "source": [
    "🔍 Interpretation: <br>\n",
    "SMD ≈ 0 → perfect balance\n",
    "\n",
    "SMD > 0.1 → mild imbalance\n",
    "\n",
    "SMD > 0.25 → strong imbalance (needs adjustment)\n",
    "\n",
    "This indicates substantial imbalance between treated and control groups.\n",
    "\n",
    "For causal inference, this violates the “ignorability” or “unconfoundedness” assumption, meaning treatment assignment is not independent of covariates."
   ]
  },
  {
   "cell_type": "markdown",
   "id": "068f2252",
   "metadata": {},
   "source": [
    " ## trimming + IPW + rebalancing correctly using logistic regression"
   ]
  },
  {
   "cell_type": "code",
   "execution_count": 69,
   "id": "5775540d",
   "metadata": {},
   "outputs": [],
   "source": [
    "from sklearn.linear_model import LogisticRegression\n",
    "\n",
    "# X = covariates DataFrame, T = treatment Series\n",
    "ps_model = LogisticRegression(max_iter=1000)\n",
    "ps_model.fit(X, T)\n",
    "ps_scores = ps_model.predict_proba(X)[:, 1]"
   ]
  },
  {
   "cell_type": "code",
   "execution_count": 70,
   "id": "f0d6c8f7",
   "metadata": {},
   "outputs": [],
   "source": [
    "# Define bounds (e.g., 1st to 99th percentile of scores for overlap)\n",
    "lower = np.percentile(ps_scores[T == 1], 1)\n",
    "upper = np.percentile(ps_scores[T == 0], 99)\n",
    "\n",
    "# Apply trimming\n",
    "mask = (ps_scores >= lower) & (ps_scores <= upper)\n",
    "X_trimmed = X[mask].reset_index(drop=True)\n",
    "T_trimmed = T[mask].reset_index(drop=True)\n"
   ]
  },
  {
   "cell_type": "code",
   "execution_count": 71,
   "id": "4a54a245",
   "metadata": {},
   "outputs": [],
   "source": [
    "ps_model_trimmed = LogisticRegression(max_iter=1000)\n",
    "ps_model_trimmed.fit(X_trimmed, T_trimmed)\n",
    "ps_trimmed = ps_model_trimmed.predict_proba(X_trimmed)[:, 1]"
   ]
  },
  {
   "cell_type": "code",
   "execution_count": 72,
   "id": "05246d89",
   "metadata": {},
   "outputs": [],
   "source": [
    "# Avoid division by zero\n",
    "epsilon = 1e-6\n",
    "ps_trimmed = np.clip(ps_trimmed, epsilon, 1 - epsilon)\n",
    "\n",
    "weights_ipw = T_trimmed / ps_trimmed + (1 - T_trimmed) / (1 - ps_trimmed)"
   ]
  },
  {
   "cell_type": "code",
   "execution_count": 73,
   "id": "baa5e135",
   "metadata": {},
   "outputs": [],
   "source": [
    "def compute_weighted_smd(X, T, weights):\n",
    "    treated = X[T == 1]\n",
    "    control = X[T == 0]\n",
    "    w_treated = weights[T == 1]\n",
    "    w_control = weights[T == 0]\n",
    "\n",
    "    mean_t = np.average(treated, weights=w_treated, axis=0)\n",
    "    mean_c = np.average(control, weights=w_control, axis=0)\n",
    "    var_t = np.average((treated - mean_t) ** 2, weights=w_treated, axis=0)\n",
    "    var_c = np.average((control - mean_c) ** 2, weights=w_control, axis=0)\n",
    "\n",
    "    smd = np.abs(mean_t - mean_c) / np.sqrt((var_t + var_c) / 2)\n",
    "    return pd.Series(smd, index=X.columns)\n",
    "\n",
    "smd_weighted = compute_weighted_smd(X_trimmed, T_trimmed.values, weights_ipw)\n",
    "smd_df = smd_weighted.sort_values(ascending=False).reset_index()\n",
    "smd_df.columns = [\"Covariate\", \"SMD\"]\n"
   ]
  },
  {
   "cell_type": "code",
   "execution_count": 74,
   "id": "2c89f553",
   "metadata": {},
   "outputs": [
    {
     "data": {
      "application/vnd.plotly.v1+json": {
       "config": {
        "plotlyServerURL": "https://plot.ly"
       },
       "data": [
        {
         "hovertemplate": "Standardized Mean Difference=%{x}<br>Covariate=%{y}<extra></extra>",
         "legendgroup": "",
         "marker": {
          "color": "#636efa",
          "pattern": {
           "shape": ""
          }
         },
         "name": "",
         "orientation": "h",
         "showlegend": false,
         "textposition": "auto",
         "type": "bar",
         "x": {
          "bdata": "qbri7X6YoT+jW9nmjT+cP2+ISUNPG5Q/6gQ8U3yOkz+aKdG7FoyRP8eVLK+PPI8/+BAvMyzyhD9TZEKtexNyPw+lL9bsGHA/TteHoKEWbj8=",
          "dtype": "f8"
         },
         "xaxis": "x",
         "y": [
          "x8",
          "x9",
          "x1",
          "x7",
          "x2",
          "x0",
          "x3",
          "x4",
          "x6",
          "x5"
         ],
         "yaxis": "y"
        }
       ],
       "layout": {
        "barmode": "relative",
        "legend": {
         "tracegroupgap": 0
        },
        "template": {
         "data": {
          "bar": [
           {
            "error_x": {
             "color": "#2a3f5f"
            },
            "error_y": {
             "color": "#2a3f5f"
            },
            "marker": {
             "line": {
              "color": "#E5ECF6",
              "width": 0.5
             },
             "pattern": {
              "fillmode": "overlay",
              "size": 10,
              "solidity": 0.2
             }
            },
            "type": "bar"
           }
          ],
          "barpolar": [
           {
            "marker": {
             "line": {
              "color": "#E5ECF6",
              "width": 0.5
             },
             "pattern": {
              "fillmode": "overlay",
              "size": 10,
              "solidity": 0.2
             }
            },
            "type": "barpolar"
           }
          ],
          "carpet": [
           {
            "aaxis": {
             "endlinecolor": "#2a3f5f",
             "gridcolor": "white",
             "linecolor": "white",
             "minorgridcolor": "white",
             "startlinecolor": "#2a3f5f"
            },
            "baxis": {
             "endlinecolor": "#2a3f5f",
             "gridcolor": "white",
             "linecolor": "white",
             "minorgridcolor": "white",
             "startlinecolor": "#2a3f5f"
            },
            "type": "carpet"
           }
          ],
          "choropleth": [
           {
            "colorbar": {
             "outlinewidth": 0,
             "ticks": ""
            },
            "type": "choropleth"
           }
          ],
          "contour": [
           {
            "colorbar": {
             "outlinewidth": 0,
             "ticks": ""
            },
            "colorscale": [
             [
              0,
              "#0d0887"
             ],
             [
              0.1111111111111111,
              "#46039f"
             ],
             [
              0.2222222222222222,
              "#7201a8"
             ],
             [
              0.3333333333333333,
              "#9c179e"
             ],
             [
              0.4444444444444444,
              "#bd3786"
             ],
             [
              0.5555555555555556,
              "#d8576b"
             ],
             [
              0.6666666666666666,
              "#ed7953"
             ],
             [
              0.7777777777777778,
              "#fb9f3a"
             ],
             [
              0.8888888888888888,
              "#fdca26"
             ],
             [
              1,
              "#f0f921"
             ]
            ],
            "type": "contour"
           }
          ],
          "contourcarpet": [
           {
            "colorbar": {
             "outlinewidth": 0,
             "ticks": ""
            },
            "type": "contourcarpet"
           }
          ],
          "heatmap": [
           {
            "colorbar": {
             "outlinewidth": 0,
             "ticks": ""
            },
            "colorscale": [
             [
              0,
              "#0d0887"
             ],
             [
              0.1111111111111111,
              "#46039f"
             ],
             [
              0.2222222222222222,
              "#7201a8"
             ],
             [
              0.3333333333333333,
              "#9c179e"
             ],
             [
              0.4444444444444444,
              "#bd3786"
             ],
             [
              0.5555555555555556,
              "#d8576b"
             ],
             [
              0.6666666666666666,
              "#ed7953"
             ],
             [
              0.7777777777777778,
              "#fb9f3a"
             ],
             [
              0.8888888888888888,
              "#fdca26"
             ],
             [
              1,
              "#f0f921"
             ]
            ],
            "type": "heatmap"
           }
          ],
          "histogram": [
           {
            "marker": {
             "pattern": {
              "fillmode": "overlay",
              "size": 10,
              "solidity": 0.2
             }
            },
            "type": "histogram"
           }
          ],
          "histogram2d": [
           {
            "colorbar": {
             "outlinewidth": 0,
             "ticks": ""
            },
            "colorscale": [
             [
              0,
              "#0d0887"
             ],
             [
              0.1111111111111111,
              "#46039f"
             ],
             [
              0.2222222222222222,
              "#7201a8"
             ],
             [
              0.3333333333333333,
              "#9c179e"
             ],
             [
              0.4444444444444444,
              "#bd3786"
             ],
             [
              0.5555555555555556,
              "#d8576b"
             ],
             [
              0.6666666666666666,
              "#ed7953"
             ],
             [
              0.7777777777777778,
              "#fb9f3a"
             ],
             [
              0.8888888888888888,
              "#fdca26"
             ],
             [
              1,
              "#f0f921"
             ]
            ],
            "type": "histogram2d"
           }
          ],
          "histogram2dcontour": [
           {
            "colorbar": {
             "outlinewidth": 0,
             "ticks": ""
            },
            "colorscale": [
             [
              0,
              "#0d0887"
             ],
             [
              0.1111111111111111,
              "#46039f"
             ],
             [
              0.2222222222222222,
              "#7201a8"
             ],
             [
              0.3333333333333333,
              "#9c179e"
             ],
             [
              0.4444444444444444,
              "#bd3786"
             ],
             [
              0.5555555555555556,
              "#d8576b"
             ],
             [
              0.6666666666666666,
              "#ed7953"
             ],
             [
              0.7777777777777778,
              "#fb9f3a"
             ],
             [
              0.8888888888888888,
              "#fdca26"
             ],
             [
              1,
              "#f0f921"
             ]
            ],
            "type": "histogram2dcontour"
           }
          ],
          "mesh3d": [
           {
            "colorbar": {
             "outlinewidth": 0,
             "ticks": ""
            },
            "type": "mesh3d"
           }
          ],
          "parcoords": [
           {
            "line": {
             "colorbar": {
              "outlinewidth": 0,
              "ticks": ""
             }
            },
            "type": "parcoords"
           }
          ],
          "pie": [
           {
            "automargin": true,
            "type": "pie"
           }
          ],
          "scatter": [
           {
            "fillpattern": {
             "fillmode": "overlay",
             "size": 10,
             "solidity": 0.2
            },
            "type": "scatter"
           }
          ],
          "scatter3d": [
           {
            "line": {
             "colorbar": {
              "outlinewidth": 0,
              "ticks": ""
             }
            },
            "marker": {
             "colorbar": {
              "outlinewidth": 0,
              "ticks": ""
             }
            },
            "type": "scatter3d"
           }
          ],
          "scattercarpet": [
           {
            "marker": {
             "colorbar": {
              "outlinewidth": 0,
              "ticks": ""
             }
            },
            "type": "scattercarpet"
           }
          ],
          "scattergeo": [
           {
            "marker": {
             "colorbar": {
              "outlinewidth": 0,
              "ticks": ""
             }
            },
            "type": "scattergeo"
           }
          ],
          "scattergl": [
           {
            "marker": {
             "colorbar": {
              "outlinewidth": 0,
              "ticks": ""
             }
            },
            "type": "scattergl"
           }
          ],
          "scattermap": [
           {
            "marker": {
             "colorbar": {
              "outlinewidth": 0,
              "ticks": ""
             }
            },
            "type": "scattermap"
           }
          ],
          "scattermapbox": [
           {
            "marker": {
             "colorbar": {
              "outlinewidth": 0,
              "ticks": ""
             }
            },
            "type": "scattermapbox"
           }
          ],
          "scatterpolar": [
           {
            "marker": {
             "colorbar": {
              "outlinewidth": 0,
              "ticks": ""
             }
            },
            "type": "scatterpolar"
           }
          ],
          "scatterpolargl": [
           {
            "marker": {
             "colorbar": {
              "outlinewidth": 0,
              "ticks": ""
             }
            },
            "type": "scatterpolargl"
           }
          ],
          "scatterternary": [
           {
            "marker": {
             "colorbar": {
              "outlinewidth": 0,
              "ticks": ""
             }
            },
            "type": "scatterternary"
           }
          ],
          "surface": [
           {
            "colorbar": {
             "outlinewidth": 0,
             "ticks": ""
            },
            "colorscale": [
             [
              0,
              "#0d0887"
             ],
             [
              0.1111111111111111,
              "#46039f"
             ],
             [
              0.2222222222222222,
              "#7201a8"
             ],
             [
              0.3333333333333333,
              "#9c179e"
             ],
             [
              0.4444444444444444,
              "#bd3786"
             ],
             [
              0.5555555555555556,
              "#d8576b"
             ],
             [
              0.6666666666666666,
              "#ed7953"
             ],
             [
              0.7777777777777778,
              "#fb9f3a"
             ],
             [
              0.8888888888888888,
              "#fdca26"
             ],
             [
              1,
              "#f0f921"
             ]
            ],
            "type": "surface"
           }
          ],
          "table": [
           {
            "cells": {
             "fill": {
              "color": "#EBF0F8"
             },
             "line": {
              "color": "white"
             }
            },
            "header": {
             "fill": {
              "color": "#C8D4E3"
             },
             "line": {
              "color": "white"
             }
            },
            "type": "table"
           }
          ]
         },
         "layout": {
          "annotationdefaults": {
           "arrowcolor": "#2a3f5f",
           "arrowhead": 0,
           "arrowwidth": 1
          },
          "autotypenumbers": "strict",
          "coloraxis": {
           "colorbar": {
            "outlinewidth": 0,
            "ticks": ""
           }
          },
          "colorscale": {
           "diverging": [
            [
             0,
             "#8e0152"
            ],
            [
             0.1,
             "#c51b7d"
            ],
            [
             0.2,
             "#de77ae"
            ],
            [
             0.3,
             "#f1b6da"
            ],
            [
             0.4,
             "#fde0ef"
            ],
            [
             0.5,
             "#f7f7f7"
            ],
            [
             0.6,
             "#e6f5d0"
            ],
            [
             0.7,
             "#b8e186"
            ],
            [
             0.8,
             "#7fbc41"
            ],
            [
             0.9,
             "#4d9221"
            ],
            [
             1,
             "#276419"
            ]
           ],
           "sequential": [
            [
             0,
             "#0d0887"
            ],
            [
             0.1111111111111111,
             "#46039f"
            ],
            [
             0.2222222222222222,
             "#7201a8"
            ],
            [
             0.3333333333333333,
             "#9c179e"
            ],
            [
             0.4444444444444444,
             "#bd3786"
            ],
            [
             0.5555555555555556,
             "#d8576b"
            ],
            [
             0.6666666666666666,
             "#ed7953"
            ],
            [
             0.7777777777777778,
             "#fb9f3a"
            ],
            [
             0.8888888888888888,
             "#fdca26"
            ],
            [
             1,
             "#f0f921"
            ]
           ],
           "sequentialminus": [
            [
             0,
             "#0d0887"
            ],
            [
             0.1111111111111111,
             "#46039f"
            ],
            [
             0.2222222222222222,
             "#7201a8"
            ],
            [
             0.3333333333333333,
             "#9c179e"
            ],
            [
             0.4444444444444444,
             "#bd3786"
            ],
            [
             0.5555555555555556,
             "#d8576b"
            ],
            [
             0.6666666666666666,
             "#ed7953"
            ],
            [
             0.7777777777777778,
             "#fb9f3a"
            ],
            [
             0.8888888888888888,
             "#fdca26"
            ],
            [
             1,
             "#f0f921"
            ]
           ]
          },
          "colorway": [
           "#636efa",
           "#EF553B",
           "#00cc96",
           "#ab63fa",
           "#FFA15A",
           "#19d3f3",
           "#FF6692",
           "#B6E880",
           "#FF97FF",
           "#FECB52"
          ],
          "font": {
           "color": "#2a3f5f"
          },
          "geo": {
           "bgcolor": "white",
           "lakecolor": "white",
           "landcolor": "#E5ECF6",
           "showlakes": true,
           "showland": true,
           "subunitcolor": "white"
          },
          "hoverlabel": {
           "align": "left"
          },
          "hovermode": "closest",
          "mapbox": {
           "style": "light"
          },
          "paper_bgcolor": "white",
          "plot_bgcolor": "#E5ECF6",
          "polar": {
           "angularaxis": {
            "gridcolor": "white",
            "linecolor": "white",
            "ticks": ""
           },
           "bgcolor": "#E5ECF6",
           "radialaxis": {
            "gridcolor": "white",
            "linecolor": "white",
            "ticks": ""
           }
          },
          "scene": {
           "xaxis": {
            "backgroundcolor": "#E5ECF6",
            "gridcolor": "white",
            "gridwidth": 2,
            "linecolor": "white",
            "showbackground": true,
            "ticks": "",
            "zerolinecolor": "white"
           },
           "yaxis": {
            "backgroundcolor": "#E5ECF6",
            "gridcolor": "white",
            "gridwidth": 2,
            "linecolor": "white",
            "showbackground": true,
            "ticks": "",
            "zerolinecolor": "white"
           },
           "zaxis": {
            "backgroundcolor": "#E5ECF6",
            "gridcolor": "white",
            "gridwidth": 2,
            "linecolor": "white",
            "showbackground": true,
            "ticks": "",
            "zerolinecolor": "white"
           }
          },
          "shapedefaults": {
           "line": {
            "color": "#2a3f5f"
           }
          },
          "ternary": {
           "aaxis": {
            "gridcolor": "white",
            "linecolor": "white",
            "ticks": ""
           },
           "baxis": {
            "gridcolor": "white",
            "linecolor": "white",
            "ticks": ""
           },
           "bgcolor": "#E5ECF6",
           "caxis": {
            "gridcolor": "white",
            "linecolor": "white",
            "ticks": ""
           }
          },
          "title": {
           "x": 0.05
          },
          "xaxis": {
           "automargin": true,
           "gridcolor": "white",
           "linecolor": "white",
           "ticks": "",
           "title": {
            "standoff": 15
           },
           "zerolinecolor": "white",
           "zerolinewidth": 2
          },
          "yaxis": {
           "automargin": true,
           "gridcolor": "white",
           "linecolor": "white",
           "ticks": "",
           "title": {
            "standoff": 15
           },
           "zerolinecolor": "white",
           "zerolinewidth": 2
          }
         }
        },
        "title": {
         "text": "Standardized Mean Differences (SMD) After IPW (Trimmed)"
        },
        "xaxis": {
         "anchor": "y",
         "domain": [
          0,
          1
         ],
         "title": {
          "text": "Standardized Mean Difference"
         }
        },
        "yaxis": {
         "anchor": "x",
         "autorange": "reversed",
         "domain": [
          0,
          1
         ],
         "title": {
          "text": "Covariate"
         }
        }
       }
      }
     },
     "metadata": {},
     "output_type": "display_data"
    }
   ],
   "source": [
    "fig = px.bar(smd_df, x=\"SMD\", y=\"Covariate\", orientation=\"h\",\n",
    "             title=\"Standardized Mean Differences (SMD) After IPW (Trimmed)\",\n",
    "             labels={\"SMD\": \"Standardized Mean Difference\", \"Covariate\": \"Covariate\"})\n",
    "fig.update_layout(yaxis=dict(autorange=\"reversed\"))\n",
    "fig.show()\n"
   ]
  },
  {
   "cell_type": "markdown",
   "id": "ab7a668a",
   "metadata": {},
   "source": [
    "Excellent result. Here's a concise assessment:\n",
    "\n",
    "### Insights from Your Result:\n",
    "\n",
    "* **All covariates are now below the 0.1 SMD threshold** (most are even < 0.02).\n",
    "* This indicates **strong covariate balance** after:\n",
    "\n",
    "  * Trimming for overlap\n",
    "  * Logistic regression-based propensity score modeling\n",
    "  * Inverse Probability Weighting (IPW)\n",
    "\n",
    "### What this means:\n",
    "\n",
    "* Our adjustment worked — **I can now proceed with outcome modeling** (e.g., AIPW, S-learner, T-learner, etc.) with more confidence in the **unconfoundedness assumption**.\n",
    "* I likely addressed most of the confounding bias in this simulation setup.\n"
   ]
  },
  {
   "cell_type": "markdown",
   "id": "0eff2158",
   "metadata": {},
   "source": [
    "## Doubly Robust Estimation (AIPW)"
   ]
  },
  {
   "cell_type": "code",
   "execution_count": 75,
   "id": "1e53766d",
   "metadata": {},
   "outputs": [
    {
     "name": "stdout",
     "output_type": "stream",
     "text": [
      "AIPW ATE: 0.8698\n"
     ]
    }
   ],
   "source": [
    "from xgboost import XGBRegressor\n",
    "from sklearn.linear_model import LogisticRegression\n",
    "\n",
    "# 1. Prepare data\n",
    "X = df[[col for col in df.columns if col.startswith(\"x\")]]\n",
    "T = df[\"treatment\"]\n",
    "Y = df[\"outcome\"]\n",
    "\n",
    "# 2. Fit Propensity Model\n",
    "ps_model = LogisticRegression(max_iter=1000)\n",
    "ps_model.fit(X, T)\n",
    "propensity_score = ps_model.predict_proba(X)[:, 1]\n",
    "\n",
    "# 3. Fit Outcome Models\n",
    "model_treated = XGBRegressor()\n",
    "model_control = XGBRegressor()\n",
    "\n",
    "model_treated.fit(X[T == 1], Y[T == 1])\n",
    "model_control.fit(X[T == 0], Y[T == 0])\n",
    "\n",
    "mu1_hat = model_treated.predict(X)\n",
    "mu0_hat = model_control.predict(X)\n",
    "\n",
    "# 4. AIPW Estimator for Individual Treatment Effect (ITE)\n",
    "aipw_ite = (\n",
    "    (T / propensity_score) * (Y - mu1_hat)\n",
    "    - ((1 - T) / (1 - propensity_score)) * (Y - mu0_hat)\n",
    "    + (mu1_hat - mu0_hat)\n",
    ")\n",
    "\n",
    "# 5. Average Treatment Effect (ATE)\n",
    "aipw_ate = aipw_ite.mean()\n",
    "print(f\"AIPW ATE: {aipw_ate:.4f}\")"
   ]
  },
  {
   "cell_type": "code",
   "execution_count": 76,
   "id": "0c945d86",
   "metadata": {},
   "outputs": [
    {
     "name": "stdout",
     "output_type": "stream",
     "text": [
      "True ATE (from data): 1.0054\n",
      "AIPW ATE (estimated): 0.8698\n"
     ]
    }
   ],
   "source": [
    "true_ate = df[\"tau\"].mean()\n",
    "print(f\"True ATE (from data): {true_ate:.4f}\")\n",
    "print(f\"AIPW ATE (estimated): {aipw_ate:.4f}\")"
   ]
  },
  {
   "cell_type": "markdown",
   "id": "9aa942c4",
   "metadata": {},
   "source": [
    "The AIPW estimator performed reasonably well: only ~0.13 error.\n",
    "\n",
    "This indicates:\n",
    "\n",
    "Your propensity model (used in IPW) is good enough.\n",
    "\n",
    "Your outcome model is also doing okay.\n",
    "\n",
    "The bias is modest, especially in semi-synthetic settings."
   ]
  },
  {
   "cell_type": "markdown",
   "id": "2679ba80",
   "metadata": {},
   "source": [
    "## Next Steps\n",
    "\n",
    "- Build T-learner model using `XGBoost`\n",
    "- Estimate τ(x) and compare to true τ\n",
    "- Use PEHE and ATE as evaluation metrics"
   ]
  }
 ],
 "metadata": {
  "kernelspec": {
   "display_name": ".venv",
   "language": "python",
   "name": "python3"
  },
  "language_info": {
   "codemirror_mode": {
    "name": "ipython",
    "version": 3
   },
   "file_extension": ".py",
   "mimetype": "text/x-python",
   "name": "python",
   "nbconvert_exporter": "python",
   "pygments_lexer": "ipython3",
   "version": "3.12.0"
  }
 },
 "nbformat": 4,
 "nbformat_minor": 5
}
