{
 "cells": [
  {
   "cell_type": "markdown",
   "id": "86380d4d",
   "metadata": {},
   "source": [
    "## Estimating and Interpreting Treatment Effect Heterogeneity\n",
    "\n",
    "This notebook follows a **Predict-First (Meta-Learners)** approach to causal inference,  \n",
    "consisting of two main steps:\n",
    "\n",
    "### **Step 1 — Estimating Individual Treatment Effects (ITE)**\n",
    "We use **T-Learner** and **X-Learner** meta-learning strategies to estimate the **individual treatment effect** for each unit:\n",
    "\n",
    "\\[\n",
    "\\tau_i = \\mu_1(x_i) - \\mu_0(x_i)\n",
    "\\]\n",
    "\n",
    "Where:\n",
    "- \\(\\mu_1(x)\\) — predicted outcome under treatment  \n",
    "- \\(\\mu_0(x)\\) — predicted outcome under control  \n",
    "\n",
    "**Key metrics:**\n",
    "- **ATE (Average Treatment Effect)** — mean of all \\(\\tau_i\\)  \n",
    "- **PEHE (Precision in Estimating Heterogeneous Effects)** — RMSE between estimated and true ITE  \n",
    "\n",
    "This step provides the foundation for understanding how treatment effects vary across individuals.\n",
    "\n",
    "---\n",
    "\n",
    "### **Step 2 — Analyzing Sources of Treatment Effect Heterogeneity**\n",
    "We investigate which **covariates** contribute most to variation in treatment effects.  \n",
    "This involves:\n",
    "1. Training an interpretable model (e.g., gradient boosting or SHAP analysis) on the estimated ITEs.  \n",
    "2. Ranking features by their contribution to explaining variation in \\(\\tau_i\\).  \n",
    "\n",
    "The result highlights **prognostic** vs **predictive** factors:\n",
    "- **Prognostic** — affect outcomes regardless of treatment  \n",
    "- **Predictive** — modify the effect of the treatment  \n",
    "\n",
    "---\n",
    "\n",
    "This workflow enables **both accurate treatment effect estimation** and **clear interpretation** of which features drive heterogeneity."
   ]
  },
  {
   "cell_type": "markdown",
   "id": "26f82920",
   "metadata": {},
   "source": [
    "## Step 1"
   ]
  },
  {
   "cell_type": "code",
   "execution_count": 1,
   "id": "b3e45de2",
   "metadata": {},
   "outputs": [
    {
     "name": "stderr",
     "output_type": "stream",
     "text": [
      "/Users/yotamdery/Documents/causal_inference_ihdp_data/.venv/lib/python3.12/site-packages/tqdm/auto.py:21: TqdmWarning: IProgress not found. Please update jupyter and ipywidgets. See https://ipywidgets.readthedocs.io/en/stable/user_install.html\n",
      "  from .autonotebook import tqdm as notebook_tqdm\n"
     ]
    }
   ],
   "source": [
    "import pandas as pd\n",
    "import numpy as np\n",
    "import shap\n",
    "from xgboost import XGBRegressor\n",
    "from sklearn.linear_model import LogisticRegression\n",
    "from sklearn.model_selection import train_test_split\n",
    "from sklearn.metrics import mean_squared_error\n",
    "from sklearn.inspection import permutation_importance\n",
    "import plotly.express as px"
   ]
  },
  {
   "cell_type": "code",
   "execution_count": 2,
   "id": "746c2048",
   "metadata": {},
   "outputs": [
    {
     "name": "stdout",
     "output_type": "stream",
     "text": [
      "✅ T-Learner ATE estimate: 0.9190\n",
      "🎯 True ATE: 1.0058\n",
      "📉 PEHE (Precision in Estimating Heterogeneous Effects): 1.1066\n"
     ]
    }
   ],
   "source": [
    "# Load trimmed dataset\n",
    "df = pd.read_csv(\"../data/simulated_data_balanced.csv\")  # or your prepared DataFrame\n",
    "\n",
    "# Extract features and labels\n",
    "features = [col for col in df.columns if col.startswith(\"x\")]\n",
    "X = df[features]\n",
    "T = df[\"treatment\"]\n",
    "Y = df[\"outcome\"]\n",
    "mu0_true = df[\"mu0\"]\n",
    "mu1_true = df[\"mu1\"]\n",
    "tau_true = df[\"tau\"]\n",
    "\n",
    "# Split data by treatment group\n",
    "X_treated = X[T == 1]\n",
    "Y_treated = Y[T == 1]\n",
    "\n",
    "X_control = X[T == 0]\n",
    "Y_control = Y[T == 0]\n",
    "\n",
    "# Train separate outcome models\n",
    "model_treated = XGBRegressor(n_estimators=100, max_depth=3, random_state=42)\n",
    "model_control = XGBRegressor(n_estimators=100, max_depth=3, random_state=42)\n",
    "\n",
    "model_treated.fit(X_treated, Y_treated)\n",
    "model_control.fit(X_control, Y_control)\n",
    "\n",
    "# Predict potential outcomes for all units\n",
    "mu1_hat = model_treated.predict(X)\n",
    "mu0_hat = model_control.predict(X)\n",
    "\n",
    "# Estimate ITE and ATE\n",
    "ite_hat = mu1_hat - mu0_hat\n",
    "ate_hat = np.mean(ite_hat)\n",
    "\n",
    "# Compare to ground truth\n",
    "true_ate = tau_true.mean()\n",
    "pehe = np.sqrt(np.mean((ite_hat - tau_true) ** 2))\n",
    "\n",
    "# Print results\n",
    "print(f\"✅ T-Learner ATE estimate: {ate_hat:.4f}\")\n",
    "print(f\"🎯 True ATE: {true_ate:.4f}\")\n",
    "print(f\"📉 PEHE (Precision in Estimating Heterogeneous Effects): {pehe:.4f}\")\n"
   ]
  },
  {
   "cell_type": "markdown",
   "id": "c15e0d25",
   "metadata": {},
   "source": [
    "<b> Interpretation</b><br>\n",
    "\n",
    "ATE is reasonably close to the true value → the model captures average treatment effect well.\n",
    "\n",
    "PEHE ~ 1.106 suggests that individual-level estimates (ITE) still contain noise — not bad, but room to improve"
   ]
  },
  {
   "cell_type": "markdown",
   "id": "844729aa",
   "metadata": {},
   "source": [
    "# X - Learner"
   ]
  },
  {
   "cell_type": "code",
   "execution_count": 3,
   "id": "2e9a2009",
   "metadata": {},
   "outputs": [
    {
     "name": "stdout",
     "output_type": "stream",
     "text": [
      "✅ X-Learner ATE estimate: 0.9281\n",
      "🎯 True ATE: 1.0058\n",
      "📉 PEHE: 0.7116\n"
     ]
    }
   ],
   "source": [
    "import numpy as np\n",
    "from xgboost import XGBRegressor\n",
    "\n",
    "features = [col for col in df.columns if col.startswith(\"x\")]\n",
    "X = df[features]\n",
    "T = df[\"treatment\"]\n",
    "Y = df[\"outcome\"]\n",
    "tau_true = df[\"tau\"]\n",
    "\n",
    "# STEP 1: Train outcome models\n",
    "model_mu1 = XGBRegressor(n_estimators=100, max_depth=3, random_state=42)\n",
    "model_mu0 = XGBRegressor(n_estimators=100, max_depth=3, random_state=42)\n",
    "\n",
    "model_mu1.fit(X[T == 1], Y[T == 1])\n",
    "model_mu0.fit(X[T == 0], Y[T == 0])\n",
    "\n",
    "# STEP 2: Impute treatment effects\n",
    "# For treated units (they got Y1): use model_mu0 to estimate missing Y0\n",
    "tau_treated = Y[T == 1] - model_mu0.predict(X[T == 1])\n",
    "# For control units (they got Y0): use model_mu1 to estimate missing Y1\n",
    "tau_control = model_mu1.predict(X[T == 0]) - Y[T == 0]\n",
    "\n",
    "# STEP 3: Train tau models\n",
    "model_tau_treated = XGBRegressor(n_estimators=100, max_depth=3, random_state=42)\n",
    "model_tau_control = XGBRegressor(n_estimators=100, max_depth=3, random_state=42)\n",
    "\n",
    "model_tau_treated.fit(X[T == 1], tau_treated)\n",
    "model_tau_control.fit(X[T == 0], tau_control)\n",
    "\n",
    "# STEP 4: Predict τ(x) for all using weighted average\n",
    "# Simplest version: equal weighting\n",
    "tau_hat_treated = model_tau_treated.predict(X)\n",
    "tau_hat_control = model_tau_control.predict(X)\n",
    "\n",
    "# If you want to apply weights: w = p(T=1|x), you could do it here\n",
    "\n",
    "# Final ITE estimates\n",
    "ite_hat_xlearner = 0.5 * tau_hat_treated + 0.5 * tau_hat_control\n",
    "ate_hat_xlearner = np.mean(ite_hat_xlearner)\n",
    "pehe_xlearner = np.sqrt(np.mean((ite_hat_xlearner - tau_true) ** 2))\n",
    "\n",
    "# Print results\n",
    "print(f\"✅ X-Learner ATE estimate: {ate_hat_xlearner:.4f}\")\n",
    "print(f\"🎯 True ATE: {tau_true.mean():.4f}\")\n",
    "print(f\"📉 PEHE: {pehe_xlearner:.4f}\")\n"
   ]
  },
  {
   "cell_type": "markdown",
   "id": "eaeff687",
   "metadata": {},
   "source": [
    "**Insights:**<br>\n",
    "ATE estimate (0.9281) is close to the true ATE (1.0058) → low bias.<br>\n",
    "PEHE = 0.7116 → moderate accuracy in capturing individual treatment heterogeneity.<br>\n",
    "Model handles imbalance well but ITE precision can improve."
   ]
  },
  {
   "cell_type": "markdown",
   "id": "a6286370",
   "metadata": {},
   "source": [
    "## Estimated vs True ITE plot"
   ]
  },
  {
   "cell_type": "code",
   "execution_count": 4,
   "id": "9f1f8aa2",
   "metadata": {},
   "outputs": [
    {
     "data": {
      "application/vnd.plotly.v1+json": {
       "config": {
        "plotlyServerURL": "https://plot.ly"
       },
       "data": [
        {
         "hovertemplate": "True ITE=%{x}<br>Estimated ITE (X-Learner)=%{y}<extra></extra>",
         "legendgroup": "",
         "marker": {
          "color": "#636efa",
          "opacity": 0.6,
          "symbol": "circle"
         },
         "mode": "markers",
         "name": "",
         "orientation": "v",
         "showlegend": false,
         "type": "scatter",
         "x": {
          "bdata": "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",
          "dtype": "f8"
         },
         "xaxis": "x",
         "y": {
          "bdata": "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",
          "dtype": "f4"
         },
         "yaxis": "y"
        },
        {
         "hovertemplate": "<b>OLS trendline</b><br>Estimated ITE (X-Learner) = 0.929638 * True ITE + -0.00692107<br>R<sup>2</sup>=0.301233<br><br>True ITE=%{x}<br>Estimated ITE (X-Learner)=%{y} <b>(trend)</b><extra></extra>",
         "legendgroup": "",
         "marker": {
          "color": "#636efa",
          "symbol": "circle"
         },
         "mode": "lines",
         "name": "",
         "showlegend": false,
         "type": "scatter",
         "x": {
          "bdata": "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",
          "dtype": "f8"
         },
         "xaxis": "x",
         "y": {
          "bdata": "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",
          "dtype": "f8"
         },
         "yaxis": "y"
        },
        {
         "line": {
          "color": "red",
          "dash": "dash"
         },
         "mode": "lines",
         "name": "Ideal Fit (y = x)",
         "type": "scatter",
         "x": {
          "bdata": "AAAAgMN+AcDwwQcfigkBwOGDD75QlADA0UUXXRcfAMCEDz74u1P/v2WTTTZJaf6/RhdddNZ+/b8nm2yyY5T8vwgffPDwqfu/6KKLLn6/+r/KJptsC9X5v6qqqqqY6vi/jC666CUA+L9ssskmsxX3v0422WRAK/a/Lrroos1A9b8QPvjgWlb0v/DBBx/oa/O/0UUXXXWB8r+yySabApfxv5NNNtmPrPC/6KKLLjqE77+qqqqqVK/tv2yyySZv2uu/LrroookF6r/wwQcfpDDov7LJJpu+W+a/dNFFF9mG5L822WST87Hiv/jggw8O3eC/dNFFF1EQ3r/44IMPhmbav3zwwQe7vNa/AAAAAPAS078IH3zwSdLOvxA++OCzfse/EF100R0rwL9A+OCDD6+xvwCyySYbP4i/QBdddJE+pz+gTTbZdEa6P8AHH3zQdsQ/wOiii2bKyz/YZJNN/o7RP1hVVVXJONU/0EUXXZTi2D9QNtlkX4zcP2STTTYVG+A/pIsuuvrv4T/ggw8+4MTjPyB88MHFmeU/XHTRRatu5z+cbLLJkEPpP9hkk012GOs/GF100Vvt7D9UVVVVQcLuP8omm2yTS/A/6KKLLgY28T8IH3zweCDyPyabbLLrCvM/RhdddF718z9kk0020d/0P4QPPvhDyvU/oosuura09j/CBx98KZ/3P+KDDz6cifg/AAAAAA90+T8gfPDBgV76Pz744IP0SPs/XnTRRWcz/D988MEH2h39P5xssslMCP4/vOiii7/y/j/YZJNNMt3/P3zwwYfSYwBAjC666AvZAECcbLJJRU4BQKqqqqp+wwFAuuiiC7g4AkDKJpts8a0CQNpkk80qIwNA6KKLLmSYA0D44IOPnQ0EQAgffPDWggRAGF10URD4BEAmm2yySW0FQDbZZBOD4gVARhdddLxXBkBWVVXV9cwGQGSTTTYvQgdAdNFFl2i3B0CEDz74oSwIQJRNNlnboQhAoosuuhQXCUCyySYbTowJQMIHH3yHAQpA0kUX3cB2CkDigw8++usKQPDBB58zYQtAAAAAAG3WC0A=",
          "dtype": "f8"
         },
         "y": {
          "bdata": "AAAAgMN+AcDwwQcfigkBwOGDD75QlADA0UUXXRcfAMCEDz74u1P/v2WTTTZJaf6/RhdddNZ+/b8nm2yyY5T8vwgffPDwqfu/6KKLLn6/+r/KJptsC9X5v6qqqqqY6vi/jC666CUA+L9ssskmsxX3v0422WRAK/a/Lrroos1A9b8QPvjgWlb0v/DBBx/oa/O/0UUXXXWB8r+yySabApfxv5NNNtmPrPC/6KKLLjqE77+qqqqqVK/tv2yyySZv2uu/LrroookF6r/wwQcfpDDov7LJJpu+W+a/dNFFF9mG5L822WST87Hiv/jggw8O3eC/dNFFF1EQ3r/44IMPhmbav3zwwQe7vNa/AAAAAPAS078IH3zwSdLOvxA++OCzfse/EF100R0rwL9A+OCDD6+xvwCyySYbP4i/QBdddJE+pz+gTTbZdEa6P8AHH3zQdsQ/wOiii2bKyz/YZJNN/o7RP1hVVVXJONU/0EUXXZTi2D9QNtlkX4zcP2STTTYVG+A/pIsuuvrv4T/ggw8+4MTjPyB88MHFmeU/XHTRRatu5z+cbLLJkEPpP9hkk012GOs/GF100Vvt7D9UVVVVQcLuP8omm2yTS/A/6KKLLgY28T8IH3zweCDyPyabbLLrCvM/RhdddF718z9kk0020d/0P4QPPvhDyvU/oosuura09j/CBx98KZ/3P+KDDz6cifg/AAAAAA90+T8gfPDBgV76Pz744IP0SPs/XnTRRWcz/D988MEH2h39P5xssslMCP4/vOiii7/y/j/YZJNNMt3/P3zwwYfSYwBAjC666AvZAECcbLJJRU4BQKqqqqp+wwFAuuiiC7g4AkDKJpts8a0CQNpkk80qIwNA6KKLLmSYA0D44IOPnQ0EQAgffPDWggRAGF10URD4BEAmm2yySW0FQDbZZBOD4gVARhdddLxXBkBWVVXV9cwGQGSTTTYvQgdAdNFFl2i3B0CEDz74oSwIQJRNNlnboQhAoosuuhQXCUCyySYbTowJQMIHH3yHAQpA0kUX3cB2CkDigw8++usKQPDBB58zYQtAAAAAAG3WC0A=",
          "dtype": "f8"
         }
        }
       ],
       "layout": {
        "legend": {
         "tracegroupgap": 0
        },
        "template": {
         "data": {
          "bar": [
           {
            "error_x": {
             "color": "#2a3f5f"
            },
            "error_y": {
             "color": "#2a3f5f"
            },
            "marker": {
             "line": {
              "color": "#E5ECF6",
              "width": 0.5
             },
             "pattern": {
              "fillmode": "overlay",
              "size": 10,
              "solidity": 0.2
             }
            },
            "type": "bar"
           }
          ],
          "barpolar": [
           {
            "marker": {
             "line": {
              "color": "#E5ECF6",
              "width": 0.5
             },
             "pattern": {
              "fillmode": "overlay",
              "size": 10,
              "solidity": 0.2
             }
            },
            "type": "barpolar"
           }
          ],
          "carpet": [
           {
            "aaxis": {
             "endlinecolor": "#2a3f5f",
             "gridcolor": "white",
             "linecolor": "white",
             "minorgridcolor": "white",
             "startlinecolor": "#2a3f5f"
            },
            "baxis": {
             "endlinecolor": "#2a3f5f",
             "gridcolor": "white",
             "linecolor": "white",
             "minorgridcolor": "white",
             "startlinecolor": "#2a3f5f"
            },
            "type": "carpet"
           }
          ],
          "choropleth": [
           {
            "colorbar": {
             "outlinewidth": 0,
             "ticks": ""
            },
            "type": "choropleth"
           }
          ],
          "contour": [
           {
            "colorbar": {
             "outlinewidth": 0,
             "ticks": ""
            },
            "colorscale": [
             [
              0,
              "#0d0887"
             ],
             [
              0.1111111111111111,
              "#46039f"
             ],
             [
              0.2222222222222222,
              "#7201a8"
             ],
             [
              0.3333333333333333,
              "#9c179e"
             ],
             [
              0.4444444444444444,
              "#bd3786"
             ],
             [
              0.5555555555555556,
              "#d8576b"
             ],
             [
              0.6666666666666666,
              "#ed7953"
             ],
             [
              0.7777777777777778,
              "#fb9f3a"
             ],
             [
              0.8888888888888888,
              "#fdca26"
             ],
             [
              1,
              "#f0f921"
             ]
            ],
            "type": "contour"
           }
          ],
          "contourcarpet": [
           {
            "colorbar": {
             "outlinewidth": 0,
             "ticks": ""
            },
            "type": "contourcarpet"
           }
          ],
          "heatmap": [
           {
            "colorbar": {
             "outlinewidth": 0,
             "ticks": ""
            },
            "colorscale": [
             [
              0,
              "#0d0887"
             ],
             [
              0.1111111111111111,
              "#46039f"
             ],
             [
              0.2222222222222222,
              "#7201a8"
             ],
             [
              0.3333333333333333,
              "#9c179e"
             ],
             [
              0.4444444444444444,
              "#bd3786"
             ],
             [
              0.5555555555555556,
              "#d8576b"
             ],
             [
              0.6666666666666666,
              "#ed7953"
             ],
             [
              0.7777777777777778,
              "#fb9f3a"
             ],
             [
              0.8888888888888888,
              "#fdca26"
             ],
             [
              1,
              "#f0f921"
             ]
            ],
            "type": "heatmap"
           }
          ],
          "histogram": [
           {
            "marker": {
             "pattern": {
              "fillmode": "overlay",
              "size": 10,
              "solidity": 0.2
             }
            },
            "type": "histogram"
           }
          ],
          "histogram2d": [
           {
            "colorbar": {
             "outlinewidth": 0,
             "ticks": ""
            },
            "colorscale": [
             [
              0,
              "#0d0887"
             ],
             [
              0.1111111111111111,
              "#46039f"
             ],
             [
              0.2222222222222222,
              "#7201a8"
             ],
             [
              0.3333333333333333,
              "#9c179e"
             ],
             [
              0.4444444444444444,
              "#bd3786"
             ],
             [
              0.5555555555555556,
              "#d8576b"
             ],
             [
              0.6666666666666666,
              "#ed7953"
             ],
             [
              0.7777777777777778,
              "#fb9f3a"
             ],
             [
              0.8888888888888888,
              "#fdca26"
             ],
             [
              1,
              "#f0f921"
             ]
            ],
            "type": "histogram2d"
           }
          ],
          "histogram2dcontour": [
           {
            "colorbar": {
             "outlinewidth": 0,
             "ticks": ""
            },
            "colorscale": [
             [
              0,
              "#0d0887"
             ],
             [
              0.1111111111111111,
              "#46039f"
             ],
             [
              0.2222222222222222,
              "#7201a8"
             ],
             [
              0.3333333333333333,
              "#9c179e"
             ],
             [
              0.4444444444444444,
              "#bd3786"
             ],
             [
              0.5555555555555556,
              "#d8576b"
             ],
             [
              0.6666666666666666,
              "#ed7953"
             ],
             [
              0.7777777777777778,
              "#fb9f3a"
             ],
             [
              0.8888888888888888,
              "#fdca26"
             ],
             [
              1,
              "#f0f921"
             ]
            ],
            "type": "histogram2dcontour"
           }
          ],
          "mesh3d": [
           {
            "colorbar": {
             "outlinewidth": 0,
             "ticks": ""
            },
            "type": "mesh3d"
           }
          ],
          "parcoords": [
           {
            "line": {
             "colorbar": {
              "outlinewidth": 0,
              "ticks": ""
             }
            },
            "type": "parcoords"
           }
          ],
          "pie": [
           {
            "automargin": true,
            "type": "pie"
           }
          ],
          "scatter": [
           {
            "fillpattern": {
             "fillmode": "overlay",
             "size": 10,
             "solidity": 0.2
            },
            "type": "scatter"
           }
          ],
          "scatter3d": [
           {
            "line": {
             "colorbar": {
              "outlinewidth": 0,
              "ticks": ""
             }
            },
            "marker": {
             "colorbar": {
              "outlinewidth": 0,
              "ticks": ""
             }
            },
            "type": "scatter3d"
           }
          ],
          "scattercarpet": [
           {
            "marker": {
             "colorbar": {
              "outlinewidth": 0,
              "ticks": ""
             }
            },
            "type": "scattercarpet"
           }
          ],
          "scattergeo": [
           {
            "marker": {
             "colorbar": {
              "outlinewidth": 0,
              "ticks": ""
             }
            },
            "type": "scattergeo"
           }
          ],
          "scattergl": [
           {
            "marker": {
             "colorbar": {
              "outlinewidth": 0,
              "ticks": ""
             }
            },
            "type": "scattergl"
           }
          ],
          "scattermap": [
           {
            "marker": {
             "colorbar": {
              "outlinewidth": 0,
              "ticks": ""
             }
            },
            "type": "scattermap"
           }
          ],
          "scattermapbox": [
           {
            "marker": {
             "colorbar": {
              "outlinewidth": 0,
              "ticks": ""
             }
            },
            "type": "scattermapbox"
           }
          ],
          "scatterpolar": [
           {
            "marker": {
             "colorbar": {
              "outlinewidth": 0,
              "ticks": ""
             }
            },
            "type": "scatterpolar"
           }
          ],
          "scatterpolargl": [
           {
            "marker": {
             "colorbar": {
              "outlinewidth": 0,
              "ticks": ""
             }
            },
            "type": "scatterpolargl"
           }
          ],
          "scatterternary": [
           {
            "marker": {
             "colorbar": {
              "outlinewidth": 0,
              "ticks": ""
             }
            },
            "type": "scatterternary"
           }
          ],
          "surface": [
           {
            "colorbar": {
             "outlinewidth": 0,
             "ticks": ""
            },
            "colorscale": [
             [
              0,
              "#0d0887"
             ],
             [
              0.1111111111111111,
              "#46039f"
             ],
             [
              0.2222222222222222,
              "#7201a8"
             ],
             [
              0.3333333333333333,
              "#9c179e"
             ],
             [
              0.4444444444444444,
              "#bd3786"
             ],
             [
              0.5555555555555556,
              "#d8576b"
             ],
             [
              0.6666666666666666,
              "#ed7953"
             ],
             [
              0.7777777777777778,
              "#fb9f3a"
             ],
             [
              0.8888888888888888,
              "#fdca26"
             ],
             [
              1,
              "#f0f921"
             ]
            ],
            "type": "surface"
           }
          ],
          "table": [
           {
            "cells": {
             "fill": {
              "color": "#EBF0F8"
             },
             "line": {
              "color": "white"
             }
            },
            "header": {
             "fill": {
              "color": "#C8D4E3"
             },
             "line": {
              "color": "white"
             }
            },
            "type": "table"
           }
          ]
         },
         "layout": {
          "annotationdefaults": {
           "arrowcolor": "#2a3f5f",
           "arrowhead": 0,
           "arrowwidth": 1
          },
          "autotypenumbers": "strict",
          "coloraxis": {
           "colorbar": {
            "outlinewidth": 0,
            "ticks": ""
           }
          },
          "colorscale": {
           "diverging": [
            [
             0,
             "#8e0152"
            ],
            [
             0.1,
             "#c51b7d"
            ],
            [
             0.2,
             "#de77ae"
            ],
            [
             0.3,
             "#f1b6da"
            ],
            [
             0.4,
             "#fde0ef"
            ],
            [
             0.5,
             "#f7f7f7"
            ],
            [
             0.6,
             "#e6f5d0"
            ],
            [
             0.7,
             "#b8e186"
            ],
            [
             0.8,
             "#7fbc41"
            ],
            [
             0.9,
             "#4d9221"
            ],
            [
             1,
             "#276419"
            ]
           ],
           "sequential": [
            [
             0,
             "#0d0887"
            ],
            [
             0.1111111111111111,
             "#46039f"
            ],
            [
             0.2222222222222222,
             "#7201a8"
            ],
            [
             0.3333333333333333,
             "#9c179e"
            ],
            [
             0.4444444444444444,
             "#bd3786"
            ],
            [
             0.5555555555555556,
             "#d8576b"
            ],
            [
             0.6666666666666666,
             "#ed7953"
            ],
            [
             0.7777777777777778,
             "#fb9f3a"
            ],
            [
             0.8888888888888888,
             "#fdca26"
            ],
            [
             1,
             "#f0f921"
            ]
           ],
           "sequentialminus": [
            [
             0,
             "#0d0887"
            ],
            [
             0.1111111111111111,
             "#46039f"
            ],
            [
             0.2222222222222222,
             "#7201a8"
            ],
            [
             0.3333333333333333,
             "#9c179e"
            ],
            [
             0.4444444444444444,
             "#bd3786"
            ],
            [
             0.5555555555555556,
             "#d8576b"
            ],
            [
             0.6666666666666666,
             "#ed7953"
            ],
            [
             0.7777777777777778,
             "#fb9f3a"
            ],
            [
             0.8888888888888888,
             "#fdca26"
            ],
            [
             1,
             "#f0f921"
            ]
           ]
          },
          "colorway": [
           "#636efa",
           "#EF553B",
           "#00cc96",
           "#ab63fa",
           "#FFA15A",
           "#19d3f3",
           "#FF6692",
           "#B6E880",
           "#FF97FF",
           "#FECB52"
          ],
          "font": {
           "color": "#2a3f5f"
          },
          "geo": {
           "bgcolor": "white",
           "lakecolor": "white",
           "landcolor": "#E5ECF6",
           "showlakes": true,
           "showland": true,
           "subunitcolor": "white"
          },
          "hoverlabel": {
           "align": "left"
          },
          "hovermode": "closest",
          "mapbox": {
           "style": "light"
          },
          "paper_bgcolor": "white",
          "plot_bgcolor": "#E5ECF6",
          "polar": {
           "angularaxis": {
            "gridcolor": "white",
            "linecolor": "white",
            "ticks": ""
           },
           "bgcolor": "#E5ECF6",
           "radialaxis": {
            "gridcolor": "white",
            "linecolor": "white",
            "ticks": ""
           }
          },
          "scene": {
           "xaxis": {
            "backgroundcolor": "#E5ECF6",
            "gridcolor": "white",
            "gridwidth": 2,
            "linecolor": "white",
            "showbackground": true,
            "ticks": "",
            "zerolinecolor": "white"
           },
           "yaxis": {
            "backgroundcolor": "#E5ECF6",
            "gridcolor": "white",
            "gridwidth": 2,
            "linecolor": "white",
            "showbackground": true,
            "ticks": "",
            "zerolinecolor": "white"
           },
           "zaxis": {
            "backgroundcolor": "#E5ECF6",
            "gridcolor": "white",
            "gridwidth": 2,
            "linecolor": "white",
            "showbackground": true,
            "ticks": "",
            "zerolinecolor": "white"
           }
          },
          "shapedefaults": {
           "line": {
            "color": "#2a3f5f"
           }
          },
          "ternary": {
           "aaxis": {
            "gridcolor": "white",
            "linecolor": "white",
            "ticks": ""
           },
           "baxis": {
            "gridcolor": "white",
            "linecolor": "white",
            "ticks": ""
           },
           "bgcolor": "#E5ECF6",
           "caxis": {
            "gridcolor": "white",
            "linecolor": "white",
            "ticks": ""
           }
          },
          "title": {
           "x": 0.05
          },
          "xaxis": {
           "automargin": true,
           "gridcolor": "white",
           "linecolor": "white",
           "ticks": "",
           "title": {
            "standoff": 15
           },
           "zerolinecolor": "white",
           "zerolinewidth": 2
          },
          "yaxis": {
           "automargin": true,
           "gridcolor": "white",
           "linecolor": "white",
           "ticks": "",
           "title": {
            "standoff": 15
           },
           "zerolinecolor": "white",
           "zerolinewidth": 2
          }
         }
        },
        "title": {
         "text": "Estimated vs True Individual Treatment Effects (ITE)"
        },
        "xaxis": {
         "anchor": "y",
         "domain": [
          0,
          1
         ],
         "title": {
          "text": "True ITE"
         }
        },
        "yaxis": {
         "anchor": "x",
         "domain": [
          0,
          1
         ],
         "title": {
          "text": "Estimated ITE"
         }
        }
       }
      }
     },
     "metadata": {},
     "output_type": "display_data"
    }
   ],
   "source": [
    "# Assign predicted ITEs from X-Learner\n",
    "tau_hat_x = ite_hat_xlearner  \n",
    "\n",
    "# Create DataFrame for plotting\n",
    "df_plot = pd.DataFrame({\n",
    "    \"True ITE\": tau_true,\n",
    "    \"Estimated ITE (X-Learner)\": tau_hat_x\n",
    "})\n",
    "\n",
    "# Add 1:1 line for reference\n",
    "line = np.linspace(df_plot.min().min(), df_plot.max().max(), 100)\n",
    "\n",
    "# Plot\n",
    "fig = px.scatter(df_plot, \n",
    "                 x=\"True ITE\", \n",
    "                 y=\"Estimated ITE (X-Learner)\",\n",
    "                 title=\"Estimated vs True Individual Treatment Effects (ITE)\",\n",
    "                 trendline=\"ols\",\n",
    "                 opacity=0.6)\n",
    "\n",
    "fig.add_scatter(x=line, y=line, mode='lines', name='Ideal Fit (y = x)',\n",
    "                line=dict(color='red', dash='dash'))\n",
    "\n",
    "fig.update_layout(xaxis_title=\"True ITE\", yaxis_title=\"Estimated ITE\")\n",
    "fig.show()\n"
   ]
  },
  {
   "cell_type": "markdown",
   "id": "5e245b90",
   "metadata": {},
   "source": [
    "The X-Learner shows a clear positive correlation between estimated and true ITE, meaning it generally ranks individuals’ treatment effects correctly.\n",
    "However:\n",
    "\n",
    "Regression to the mean – Large positive and negative effects are underestimated, with estimates clustering toward the center.\n",
    "\n",
    "Bias – Slight downward bias for higher true ITE values and upward bias for lower ones.\n",
    "\n",
    "Noise – Scatter around the ideal y=x line indicates some residual error in individual predictions (PEHE ≈ 0.68 confirms this)."
   ]
  },
  {
   "cell_type": "markdown",
   "id": "f6403af4",
   "metadata": {},
   "source": [
    "## Step 2"
   ]
  },
  {
   "cell_type": "code",
   "execution_count": 5,
   "id": "adcd92d6",
   "metadata": {},
   "outputs": [
    {
     "data": {
      "application/vnd.plotly.v1+json": {
       "config": {
        "plotlyServerURL": "https://plot.ly"
       },
       "data": [
        {
         "hovertemplate": "Importance=%{x}<br>Feature=%{y}<extra></extra>",
         "legendgroup": "",
         "marker": {
          "color": "#636efa",
          "pattern": {
           "shape": ""
          }
         },
         "name": "",
         "orientation": "h",
         "showlegend": false,
         "textposition": "auto",
         "type": "bar",
         "x": {
          "bdata": "/w2nPi6HxD1YJLM9LdqbPRZpmz2NXJg9gBaTPfw/kT2HrII9YfNqPQ==",
          "dtype": "f4"
         },
         "xaxis": "x",
         "y": [
          "x0",
          "x1",
          "x9",
          "x4",
          "x5",
          "x7",
          "x6",
          "x8",
          "x2",
          "x3"
         ],
         "yaxis": "y"
        }
       ],
       "layout": {
        "barmode": "relative",
        "legend": {
         "tracegroupgap": 0
        },
        "template": {
         "data": {
          "bar": [
           {
            "error_x": {
             "color": "#2a3f5f"
            },
            "error_y": {
             "color": "#2a3f5f"
            },
            "marker": {
             "line": {
              "color": "#E5ECF6",
              "width": 0.5
             },
             "pattern": {
              "fillmode": "overlay",
              "size": 10,
              "solidity": 0.2
             }
            },
            "type": "bar"
           }
          ],
          "barpolar": [
           {
            "marker": {
             "line": {
              "color": "#E5ECF6",
              "width": 0.5
             },
             "pattern": {
              "fillmode": "overlay",
              "size": 10,
              "solidity": 0.2
             }
            },
            "type": "barpolar"
           }
          ],
          "carpet": [
           {
            "aaxis": {
             "endlinecolor": "#2a3f5f",
             "gridcolor": "white",
             "linecolor": "white",
             "minorgridcolor": "white",
             "startlinecolor": "#2a3f5f"
            },
            "baxis": {
             "endlinecolor": "#2a3f5f",
             "gridcolor": "white",
             "linecolor": "white",
             "minorgridcolor": "white",
             "startlinecolor": "#2a3f5f"
            },
            "type": "carpet"
           }
          ],
          "choropleth": [
           {
            "colorbar": {
             "outlinewidth": 0,
             "ticks": ""
            },
            "type": "choropleth"
           }
          ],
          "contour": [
           {
            "colorbar": {
             "outlinewidth": 0,
             "ticks": ""
            },
            "colorscale": [
             [
              0,
              "#0d0887"
             ],
             [
              0.1111111111111111,
              "#46039f"
             ],
             [
              0.2222222222222222,
              "#7201a8"
             ],
             [
              0.3333333333333333,
              "#9c179e"
             ],
             [
              0.4444444444444444,
              "#bd3786"
             ],
             [
              0.5555555555555556,
              "#d8576b"
             ],
             [
              0.6666666666666666,
              "#ed7953"
             ],
             [
              0.7777777777777778,
              "#fb9f3a"
             ],
             [
              0.8888888888888888,
              "#fdca26"
             ],
             [
              1,
              "#f0f921"
             ]
            ],
            "type": "contour"
           }
          ],
          "contourcarpet": [
           {
            "colorbar": {
             "outlinewidth": 0,
             "ticks": ""
            },
            "type": "contourcarpet"
           }
          ],
          "heatmap": [
           {
            "colorbar": {
             "outlinewidth": 0,
             "ticks": ""
            },
            "colorscale": [
             [
              0,
              "#0d0887"
             ],
             [
              0.1111111111111111,
              "#46039f"
             ],
             [
              0.2222222222222222,
              "#7201a8"
             ],
             [
              0.3333333333333333,
              "#9c179e"
             ],
             [
              0.4444444444444444,
              "#bd3786"
             ],
             [
              0.5555555555555556,
              "#d8576b"
             ],
             [
              0.6666666666666666,
              "#ed7953"
             ],
             [
              0.7777777777777778,
              "#fb9f3a"
             ],
             [
              0.8888888888888888,
              "#fdca26"
             ],
             [
              1,
              "#f0f921"
             ]
            ],
            "type": "heatmap"
           }
          ],
          "histogram": [
           {
            "marker": {
             "pattern": {
              "fillmode": "overlay",
              "size": 10,
              "solidity": 0.2
             }
            },
            "type": "histogram"
           }
          ],
          "histogram2d": [
           {
            "colorbar": {
             "outlinewidth": 0,
             "ticks": ""
            },
            "colorscale": [
             [
              0,
              "#0d0887"
             ],
             [
              0.1111111111111111,
              "#46039f"
             ],
             [
              0.2222222222222222,
              "#7201a8"
             ],
             [
              0.3333333333333333,
              "#9c179e"
             ],
             [
              0.4444444444444444,
              "#bd3786"
             ],
             [
              0.5555555555555556,
              "#d8576b"
             ],
             [
              0.6666666666666666,
              "#ed7953"
             ],
             [
              0.7777777777777778,
              "#fb9f3a"
             ],
             [
              0.8888888888888888,
              "#fdca26"
             ],
             [
              1,
              "#f0f921"
             ]
            ],
            "type": "histogram2d"
           }
          ],
          "histogram2dcontour": [
           {
            "colorbar": {
             "outlinewidth": 0,
             "ticks": ""
            },
            "colorscale": [
             [
              0,
              "#0d0887"
             ],
             [
              0.1111111111111111,
              "#46039f"
             ],
             [
              0.2222222222222222,
              "#7201a8"
             ],
             [
              0.3333333333333333,
              "#9c179e"
             ],
             [
              0.4444444444444444,
              "#bd3786"
             ],
             [
              0.5555555555555556,
              "#d8576b"
             ],
             [
              0.6666666666666666,
              "#ed7953"
             ],
             [
              0.7777777777777778,
              "#fb9f3a"
             ],
             [
              0.8888888888888888,
              "#fdca26"
             ],
             [
              1,
              "#f0f921"
             ]
            ],
            "type": "histogram2dcontour"
           }
          ],
          "mesh3d": [
           {
            "colorbar": {
             "outlinewidth": 0,
             "ticks": ""
            },
            "type": "mesh3d"
           }
          ],
          "parcoords": [
           {
            "line": {
             "colorbar": {
              "outlinewidth": 0,
              "ticks": ""
             }
            },
            "type": "parcoords"
           }
          ],
          "pie": [
           {
            "automargin": true,
            "type": "pie"
           }
          ],
          "scatter": [
           {
            "fillpattern": {
             "fillmode": "overlay",
             "size": 10,
             "solidity": 0.2
            },
            "type": "scatter"
           }
          ],
          "scatter3d": [
           {
            "line": {
             "colorbar": {
              "outlinewidth": 0,
              "ticks": ""
             }
            },
            "marker": {
             "colorbar": {
              "outlinewidth": 0,
              "ticks": ""
             }
            },
            "type": "scatter3d"
           }
          ],
          "scattercarpet": [
           {
            "marker": {
             "colorbar": {
              "outlinewidth": 0,
              "ticks": ""
             }
            },
            "type": "scattercarpet"
           }
          ],
          "scattergeo": [
           {
            "marker": {
             "colorbar": {
              "outlinewidth": 0,
              "ticks": ""
             }
            },
            "type": "scattergeo"
           }
          ],
          "scattergl": [
           {
            "marker": {
             "colorbar": {
              "outlinewidth": 0,
              "ticks": ""
             }
            },
            "type": "scattergl"
           }
          ],
          "scattermap": [
           {
            "marker": {
             "colorbar": {
              "outlinewidth": 0,
              "ticks": ""
             }
            },
            "type": "scattermap"
           }
          ],
          "scattermapbox": [
           {
            "marker": {
             "colorbar": {
              "outlinewidth": 0,
              "ticks": ""
             }
            },
            "type": "scattermapbox"
           }
          ],
          "scatterpolar": [
           {
            "marker": {
             "colorbar": {
              "outlinewidth": 0,
              "ticks": ""
             }
            },
            "type": "scatterpolar"
           }
          ],
          "scatterpolargl": [
           {
            "marker": {
             "colorbar": {
              "outlinewidth": 0,
              "ticks": ""
             }
            },
            "type": "scatterpolargl"
           }
          ],
          "scatterternary": [
           {
            "marker": {
             "colorbar": {
              "outlinewidth": 0,
              "ticks": ""
             }
            },
            "type": "scatterternary"
           }
          ],
          "surface": [
           {
            "colorbar": {
             "outlinewidth": 0,
             "ticks": ""
            },
            "colorscale": [
             [
              0,
              "#0d0887"
             ],
             [
              0.1111111111111111,
              "#46039f"
             ],
             [
              0.2222222222222222,
              "#7201a8"
             ],
             [
              0.3333333333333333,
              "#9c179e"
             ],
             [
              0.4444444444444444,
              "#bd3786"
             ],
             [
              0.5555555555555556,
              "#d8576b"
             ],
             [
              0.6666666666666666,
              "#ed7953"
             ],
             [
              0.7777777777777778,
              "#fb9f3a"
             ],
             [
              0.8888888888888888,
              "#fdca26"
             ],
             [
              1,
              "#f0f921"
             ]
            ],
            "type": "surface"
           }
          ],
          "table": [
           {
            "cells": {
             "fill": {
              "color": "#EBF0F8"
             },
             "line": {
              "color": "white"
             }
            },
            "header": {
             "fill": {
              "color": "#C8D4E3"
             },
             "line": {
              "color": "white"
             }
            },
            "type": "table"
           }
          ]
         },
         "layout": {
          "annotationdefaults": {
           "arrowcolor": "#2a3f5f",
           "arrowhead": 0,
           "arrowwidth": 1
          },
          "autotypenumbers": "strict",
          "coloraxis": {
           "colorbar": {
            "outlinewidth": 0,
            "ticks": ""
           }
          },
          "colorscale": {
           "diverging": [
            [
             0,
             "#8e0152"
            ],
            [
             0.1,
             "#c51b7d"
            ],
            [
             0.2,
             "#de77ae"
            ],
            [
             0.3,
             "#f1b6da"
            ],
            [
             0.4,
             "#fde0ef"
            ],
            [
             0.5,
             "#f7f7f7"
            ],
            [
             0.6,
             "#e6f5d0"
            ],
            [
             0.7,
             "#b8e186"
            ],
            [
             0.8,
             "#7fbc41"
            ],
            [
             0.9,
             "#4d9221"
            ],
            [
             1,
             "#276419"
            ]
           ],
           "sequential": [
            [
             0,
             "#0d0887"
            ],
            [
             0.1111111111111111,
             "#46039f"
            ],
            [
             0.2222222222222222,
             "#7201a8"
            ],
            [
             0.3333333333333333,
             "#9c179e"
            ],
            [
             0.4444444444444444,
             "#bd3786"
            ],
            [
             0.5555555555555556,
             "#d8576b"
            ],
            [
             0.6666666666666666,
             "#ed7953"
            ],
            [
             0.7777777777777778,
             "#fb9f3a"
            ],
            [
             0.8888888888888888,
             "#fdca26"
            ],
            [
             1,
             "#f0f921"
            ]
           ],
           "sequentialminus": [
            [
             0,
             "#0d0887"
            ],
            [
             0.1111111111111111,
             "#46039f"
            ],
            [
             0.2222222222222222,
             "#7201a8"
            ],
            [
             0.3333333333333333,
             "#9c179e"
            ],
            [
             0.4444444444444444,
             "#bd3786"
            ],
            [
             0.5555555555555556,
             "#d8576b"
            ],
            [
             0.6666666666666666,
             "#ed7953"
            ],
            [
             0.7777777777777778,
             "#fb9f3a"
            ],
            [
             0.8888888888888888,
             "#fdca26"
            ],
            [
             1,
             "#f0f921"
            ]
           ]
          },
          "colorway": [
           "#636efa",
           "#EF553B",
           "#00cc96",
           "#ab63fa",
           "#FFA15A",
           "#19d3f3",
           "#FF6692",
           "#B6E880",
           "#FF97FF",
           "#FECB52"
          ],
          "font": {
           "color": "#2a3f5f"
          },
          "geo": {
           "bgcolor": "white",
           "lakecolor": "white",
           "landcolor": "#E5ECF6",
           "showlakes": true,
           "showland": true,
           "subunitcolor": "white"
          },
          "hoverlabel": {
           "align": "left"
          },
          "hovermode": "closest",
          "mapbox": {
           "style": "light"
          },
          "paper_bgcolor": "white",
          "plot_bgcolor": "#E5ECF6",
          "polar": {
           "angularaxis": {
            "gridcolor": "white",
            "linecolor": "white",
            "ticks": ""
           },
           "bgcolor": "#E5ECF6",
           "radialaxis": {
            "gridcolor": "white",
            "linecolor": "white",
            "ticks": ""
           }
          },
          "scene": {
           "xaxis": {
            "backgroundcolor": "#E5ECF6",
            "gridcolor": "white",
            "gridwidth": 2,
            "linecolor": "white",
            "showbackground": true,
            "ticks": "",
            "zerolinecolor": "white"
           },
           "yaxis": {
            "backgroundcolor": "#E5ECF6",
            "gridcolor": "white",
            "gridwidth": 2,
            "linecolor": "white",
            "showbackground": true,
            "ticks": "",
            "zerolinecolor": "white"
           },
           "zaxis": {
            "backgroundcolor": "#E5ECF6",
            "gridcolor": "white",
            "gridwidth": 2,
            "linecolor": "white",
            "showbackground": true,
            "ticks": "",
            "zerolinecolor": "white"
           }
          },
          "shapedefaults": {
           "line": {
            "color": "#2a3f5f"
           }
          },
          "ternary": {
           "aaxis": {
            "gridcolor": "white",
            "linecolor": "white",
            "ticks": ""
           },
           "baxis": {
            "gridcolor": "white",
            "linecolor": "white",
            "ticks": ""
           },
           "bgcolor": "#E5ECF6",
           "caxis": {
            "gridcolor": "white",
            "linecolor": "white",
            "ticks": ""
           }
          },
          "title": {
           "x": 0.05
          },
          "xaxis": {
           "automargin": true,
           "gridcolor": "white",
           "linecolor": "white",
           "ticks": "",
           "title": {
            "standoff": 15
           },
           "zerolinecolor": "white",
           "zerolinewidth": 2
          },
          "yaxis": {
           "automargin": true,
           "gridcolor": "white",
           "linecolor": "white",
           "ticks": "",
           "title": {
            "standoff": 15
           },
           "zerolinecolor": "white",
           "zerolinewidth": 2
          }
         }
        },
        "title": {
         "text": "Feature importance for treatment-effect heterogeneity (model gain)"
        },
        "xaxis": {
         "anchor": "y",
         "domain": [
          0,
          1
         ],
         "title": {
          "text": "Importance"
         }
        },
        "yaxis": {
         "anchor": "x",
         "autorange": "reversed",
         "domain": [
          0,
          1
         ],
         "title": {
          "text": "Feature"
         }
        }
       }
      }
     },
     "metadata": {},
     "output_type": "display_data"
    },
    {
     "data": {
      "application/vnd.plotly.v1+json": {
       "config": {
        "plotlyServerURL": "https://plot.ly"
       },
       "data": [
        {
         "hovertemplate": "Importance=%{x}<br>Feature=%{y}<extra></extra>",
         "legendgroup": "",
         "marker": {
          "color": "#636efa",
          "pattern": {
           "shape": ""
          }
         },
         "name": "",
         "orientation": "h",
         "showlegend": false,
         "textposition": "auto",
         "type": "bar",
         "x": {
          "bdata": "zczMREE25z+amZm5UeDAPzMzM7MD7Lk/MzMzs99duD9mZmbmBSq4PzMzMzOSnbY/MzMz8yNEtT9mZmamZGe0P2ZmZubmFbQ/AAAAwBc0sD8=",
          "dtype": "f8"
         },
         "xaxis": "x",
         "y": [
          "x0",
          "x9",
          "x6",
          "x5",
          "x1",
          "x4",
          "x2",
          "x7",
          "x3",
          "x8"
         ],
         "yaxis": "y"
        }
       ],
       "layout": {
        "barmode": "relative",
        "legend": {
         "tracegroupgap": 0
        },
        "template": {
         "data": {
          "bar": [
           {
            "error_x": {
             "color": "#2a3f5f"
            },
            "error_y": {
             "color": "#2a3f5f"
            },
            "marker": {
             "line": {
              "color": "#E5ECF6",
              "width": 0.5
             },
             "pattern": {
              "fillmode": "overlay",
              "size": 10,
              "solidity": 0.2
             }
            },
            "type": "bar"
           }
          ],
          "barpolar": [
           {
            "marker": {
             "line": {
              "color": "#E5ECF6",
              "width": 0.5
             },
             "pattern": {
              "fillmode": "overlay",
              "size": 10,
              "solidity": 0.2
             }
            },
            "type": "barpolar"
           }
          ],
          "carpet": [
           {
            "aaxis": {
             "endlinecolor": "#2a3f5f",
             "gridcolor": "white",
             "linecolor": "white",
             "minorgridcolor": "white",
             "startlinecolor": "#2a3f5f"
            },
            "baxis": {
             "endlinecolor": "#2a3f5f",
             "gridcolor": "white",
             "linecolor": "white",
             "minorgridcolor": "white",
             "startlinecolor": "#2a3f5f"
            },
            "type": "carpet"
           }
          ],
          "choropleth": [
           {
            "colorbar": {
             "outlinewidth": 0,
             "ticks": ""
            },
            "type": "choropleth"
           }
          ],
          "contour": [
           {
            "colorbar": {
             "outlinewidth": 0,
             "ticks": ""
            },
            "colorscale": [
             [
              0,
              "#0d0887"
             ],
             [
              0.1111111111111111,
              "#46039f"
             ],
             [
              0.2222222222222222,
              "#7201a8"
             ],
             [
              0.3333333333333333,
              "#9c179e"
             ],
             [
              0.4444444444444444,
              "#bd3786"
             ],
             [
              0.5555555555555556,
              "#d8576b"
             ],
             [
              0.6666666666666666,
              "#ed7953"
             ],
             [
              0.7777777777777778,
              "#fb9f3a"
             ],
             [
              0.8888888888888888,
              "#fdca26"
             ],
             [
              1,
              "#f0f921"
             ]
            ],
            "type": "contour"
           }
          ],
          "contourcarpet": [
           {
            "colorbar": {
             "outlinewidth": 0,
             "ticks": ""
            },
            "type": "contourcarpet"
           }
          ],
          "heatmap": [
           {
            "colorbar": {
             "outlinewidth": 0,
             "ticks": ""
            },
            "colorscale": [
             [
              0,
              "#0d0887"
             ],
             [
              0.1111111111111111,
              "#46039f"
             ],
             [
              0.2222222222222222,
              "#7201a8"
             ],
             [
              0.3333333333333333,
              "#9c179e"
             ],
             [
              0.4444444444444444,
              "#bd3786"
             ],
             [
              0.5555555555555556,
              "#d8576b"
             ],
             [
              0.6666666666666666,
              "#ed7953"
             ],
             [
              0.7777777777777778,
              "#fb9f3a"
             ],
             [
              0.8888888888888888,
              "#fdca26"
             ],
             [
              1,
              "#f0f921"
             ]
            ],
            "type": "heatmap"
           }
          ],
          "histogram": [
           {
            "marker": {
             "pattern": {
              "fillmode": "overlay",
              "size": 10,
              "solidity": 0.2
             }
            },
            "type": "histogram"
           }
          ],
          "histogram2d": [
           {
            "colorbar": {
             "outlinewidth": 0,
             "ticks": ""
            },
            "colorscale": [
             [
              0,
              "#0d0887"
             ],
             [
              0.1111111111111111,
              "#46039f"
             ],
             [
              0.2222222222222222,
              "#7201a8"
             ],
             [
              0.3333333333333333,
              "#9c179e"
             ],
             [
              0.4444444444444444,
              "#bd3786"
             ],
             [
              0.5555555555555556,
              "#d8576b"
             ],
             [
              0.6666666666666666,
              "#ed7953"
             ],
             [
              0.7777777777777778,
              "#fb9f3a"
             ],
             [
              0.8888888888888888,
              "#fdca26"
             ],
             [
              1,
              "#f0f921"
             ]
            ],
            "type": "histogram2d"
           }
          ],
          "histogram2dcontour": [
           {
            "colorbar": {
             "outlinewidth": 0,
             "ticks": ""
            },
            "colorscale": [
             [
              0,
              "#0d0887"
             ],
             [
              0.1111111111111111,
              "#46039f"
             ],
             [
              0.2222222222222222,
              "#7201a8"
             ],
             [
              0.3333333333333333,
              "#9c179e"
             ],
             [
              0.4444444444444444,
              "#bd3786"
             ],
             [
              0.5555555555555556,
              "#d8576b"
             ],
             [
              0.6666666666666666,
              "#ed7953"
             ],
             [
              0.7777777777777778,
              "#fb9f3a"
             ],
             [
              0.8888888888888888,
              "#fdca26"
             ],
             [
              1,
              "#f0f921"
             ]
            ],
            "type": "histogram2dcontour"
           }
          ],
          "mesh3d": [
           {
            "colorbar": {
             "outlinewidth": 0,
             "ticks": ""
            },
            "type": "mesh3d"
           }
          ],
          "parcoords": [
           {
            "line": {
             "colorbar": {
              "outlinewidth": 0,
              "ticks": ""
             }
            },
            "type": "parcoords"
           }
          ],
          "pie": [
           {
            "automargin": true,
            "type": "pie"
           }
          ],
          "scatter": [
           {
            "fillpattern": {
             "fillmode": "overlay",
             "size": 10,
             "solidity": 0.2
            },
            "type": "scatter"
           }
          ],
          "scatter3d": [
           {
            "line": {
             "colorbar": {
              "outlinewidth": 0,
              "ticks": ""
             }
            },
            "marker": {
             "colorbar": {
              "outlinewidth": 0,
              "ticks": ""
             }
            },
            "type": "scatter3d"
           }
          ],
          "scattercarpet": [
           {
            "marker": {
             "colorbar": {
              "outlinewidth": 0,
              "ticks": ""
             }
            },
            "type": "scattercarpet"
           }
          ],
          "scattergeo": [
           {
            "marker": {
             "colorbar": {
              "outlinewidth": 0,
              "ticks": ""
             }
            },
            "type": "scattergeo"
           }
          ],
          "scattergl": [
           {
            "marker": {
             "colorbar": {
              "outlinewidth": 0,
              "ticks": ""
             }
            },
            "type": "scattergl"
           }
          ],
          "scattermap": [
           {
            "marker": {
             "colorbar": {
              "outlinewidth": 0,
              "ticks": ""
             }
            },
            "type": "scattermap"
           }
          ],
          "scattermapbox": [
           {
            "marker": {
             "colorbar": {
              "outlinewidth": 0,
              "ticks": ""
             }
            },
            "type": "scattermapbox"
           }
          ],
          "scatterpolar": [
           {
            "marker": {
             "colorbar": {
              "outlinewidth": 0,
              "ticks": ""
             }
            },
            "type": "scatterpolar"
           }
          ],
          "scatterpolargl": [
           {
            "marker": {
             "colorbar": {
              "outlinewidth": 0,
              "ticks": ""
             }
            },
            "type": "scatterpolargl"
           }
          ],
          "scatterternary": [
           {
            "marker": {
             "colorbar": {
              "outlinewidth": 0,
              "ticks": ""
             }
            },
            "type": "scatterternary"
           }
          ],
          "surface": [
           {
            "colorbar": {
             "outlinewidth": 0,
             "ticks": ""
            },
            "colorscale": [
             [
              0,
              "#0d0887"
             ],
             [
              0.1111111111111111,
              "#46039f"
             ],
             [
              0.2222222222222222,
              "#7201a8"
             ],
             [
              0.3333333333333333,
              "#9c179e"
             ],
             [
              0.4444444444444444,
              "#bd3786"
             ],
             [
              0.5555555555555556,
              "#d8576b"
             ],
             [
              0.6666666666666666,
              "#ed7953"
             ],
             [
              0.7777777777777778,
              "#fb9f3a"
             ],
             [
              0.8888888888888888,
              "#fdca26"
             ],
             [
              1,
              "#f0f921"
             ]
            ],
            "type": "surface"
           }
          ],
          "table": [
           {
            "cells": {
             "fill": {
              "color": "#EBF0F8"
             },
             "line": {
              "color": "white"
             }
            },
            "header": {
             "fill": {
              "color": "#C8D4E3"
             },
             "line": {
              "color": "white"
             }
            },
            "type": "table"
           }
          ]
         },
         "layout": {
          "annotationdefaults": {
           "arrowcolor": "#2a3f5f",
           "arrowhead": 0,
           "arrowwidth": 1
          },
          "autotypenumbers": "strict",
          "coloraxis": {
           "colorbar": {
            "outlinewidth": 0,
            "ticks": ""
           }
          },
          "colorscale": {
           "diverging": [
            [
             0,
             "#8e0152"
            ],
            [
             0.1,
             "#c51b7d"
            ],
            [
             0.2,
             "#de77ae"
            ],
            [
             0.3,
             "#f1b6da"
            ],
            [
             0.4,
             "#fde0ef"
            ],
            [
             0.5,
             "#f7f7f7"
            ],
            [
             0.6,
             "#e6f5d0"
            ],
            [
             0.7,
             "#b8e186"
            ],
            [
             0.8,
             "#7fbc41"
            ],
            [
             0.9,
             "#4d9221"
            ],
            [
             1,
             "#276419"
            ]
           ],
           "sequential": [
            [
             0,
             "#0d0887"
            ],
            [
             0.1111111111111111,
             "#46039f"
            ],
            [
             0.2222222222222222,
             "#7201a8"
            ],
            [
             0.3333333333333333,
             "#9c179e"
            ],
            [
             0.4444444444444444,
             "#bd3786"
            ],
            [
             0.5555555555555556,
             "#d8576b"
            ],
            [
             0.6666666666666666,
             "#ed7953"
            ],
            [
             0.7777777777777778,
             "#fb9f3a"
            ],
            [
             0.8888888888888888,
             "#fdca26"
            ],
            [
             1,
             "#f0f921"
            ]
           ],
           "sequentialminus": [
            [
             0,
             "#0d0887"
            ],
            [
             0.1111111111111111,
             "#46039f"
            ],
            [
             0.2222222222222222,
             "#7201a8"
            ],
            [
             0.3333333333333333,
             "#9c179e"
            ],
            [
             0.4444444444444444,
             "#bd3786"
            ],
            [
             0.5555555555555556,
             "#d8576b"
            ],
            [
             0.6666666666666666,
             "#ed7953"
            ],
            [
             0.7777777777777778,
             "#fb9f3a"
            ],
            [
             0.8888888888888888,
             "#fdca26"
            ],
            [
             1,
             "#f0f921"
            ]
           ]
          },
          "colorway": [
           "#636efa",
           "#EF553B",
           "#00cc96",
           "#ab63fa",
           "#FFA15A",
           "#19d3f3",
           "#FF6692",
           "#B6E880",
           "#FF97FF",
           "#FECB52"
          ],
          "font": {
           "color": "#2a3f5f"
          },
          "geo": {
           "bgcolor": "white",
           "lakecolor": "white",
           "landcolor": "#E5ECF6",
           "showlakes": true,
           "showland": true,
           "subunitcolor": "white"
          },
          "hoverlabel": {
           "align": "left"
          },
          "hovermode": "closest",
          "mapbox": {
           "style": "light"
          },
          "paper_bgcolor": "white",
          "plot_bgcolor": "#E5ECF6",
          "polar": {
           "angularaxis": {
            "gridcolor": "white",
            "linecolor": "white",
            "ticks": ""
           },
           "bgcolor": "#E5ECF6",
           "radialaxis": {
            "gridcolor": "white",
            "linecolor": "white",
            "ticks": ""
           }
          },
          "scene": {
           "xaxis": {
            "backgroundcolor": "#E5ECF6",
            "gridcolor": "white",
            "gridwidth": 2,
            "linecolor": "white",
            "showbackground": true,
            "ticks": "",
            "zerolinecolor": "white"
           },
           "yaxis": {
            "backgroundcolor": "#E5ECF6",
            "gridcolor": "white",
            "gridwidth": 2,
            "linecolor": "white",
            "showbackground": true,
            "ticks": "",
            "zerolinecolor": "white"
           },
           "zaxis": {
            "backgroundcolor": "#E5ECF6",
            "gridcolor": "white",
            "gridwidth": 2,
            "linecolor": "white",
            "showbackground": true,
            "ticks": "",
            "zerolinecolor": "white"
           }
          },
          "shapedefaults": {
           "line": {
            "color": "#2a3f5f"
           }
          },
          "ternary": {
           "aaxis": {
            "gridcolor": "white",
            "linecolor": "white",
            "ticks": ""
           },
           "baxis": {
            "gridcolor": "white",
            "linecolor": "white",
            "ticks": ""
           },
           "bgcolor": "#E5ECF6",
           "caxis": {
            "gridcolor": "white",
            "linecolor": "white",
            "ticks": ""
           }
          },
          "title": {
           "x": 0.05
          },
          "xaxis": {
           "automargin": true,
           "gridcolor": "white",
           "linecolor": "white",
           "ticks": "",
           "title": {
            "standoff": 15
           },
           "zerolinecolor": "white",
           "zerolinewidth": 2
          },
          "yaxis": {
           "automargin": true,
           "gridcolor": "white",
           "linecolor": "white",
           "ticks": "",
           "title": {
            "standoff": 15
           },
           "zerolinecolor": "white",
           "zerolinewidth": 2
          }
         }
        },
        "title": {
         "text": "Feature importance for treatment-effect heterogeneity (permutation)"
        },
        "xaxis": {
         "anchor": "y",
         "domain": [
          0,
          1
         ],
         "title": {
          "text": "Importance"
         }
        },
        "yaxis": {
         "anchor": "x",
         "autorange": "reversed",
         "domain": [
          0,
          1
         ],
         "title": {
          "text": "Feature"
         }
        }
       }
      }
     },
     "metadata": {},
     "output_type": "display_data"
    },
    {
     "data": {
      "application/vnd.plotly.v1+json": {
       "config": {
        "plotlyServerURL": "https://plot.ly"
       },
       "data": [
        {
         "hovertemplate": "|SHAP| mean=%{x}<br>Feature=%{y}<extra></extra>",
         "legendgroup": "",
         "marker": {
          "color": "#636efa",
          "pattern": {
           "shape": ""
          }
         },
         "name": "",
         "orientation": "h",
         "showlegend": false,
         "textposition": "auto",
         "type": "bar",
         "x": {
          "bdata": "K86lPgvdEz4ElsQ9R6LDPckGwj3Qmb89NJmxPShqoz1jP5Q9WeyNPQ==",
          "dtype": "f4"
         },
         "xaxis": "x",
         "y": [
          "x0",
          "x9",
          "x4",
          "x7",
          "x1",
          "x5",
          "x8",
          "x2",
          "x3",
          "x6"
         ],
         "yaxis": "y"
        }
       ],
       "layout": {
        "barmode": "relative",
        "legend": {
         "tracegroupgap": 0
        },
        "template": {
         "data": {
          "bar": [
           {
            "error_x": {
             "color": "#2a3f5f"
            },
            "error_y": {
             "color": "#2a3f5f"
            },
            "marker": {
             "line": {
              "color": "#E5ECF6",
              "width": 0.5
             },
             "pattern": {
              "fillmode": "overlay",
              "size": 10,
              "solidity": 0.2
             }
            },
            "type": "bar"
           }
          ],
          "barpolar": [
           {
            "marker": {
             "line": {
              "color": "#E5ECF6",
              "width": 0.5
             },
             "pattern": {
              "fillmode": "overlay",
              "size": 10,
              "solidity": 0.2
             }
            },
            "type": "barpolar"
           }
          ],
          "carpet": [
           {
            "aaxis": {
             "endlinecolor": "#2a3f5f",
             "gridcolor": "white",
             "linecolor": "white",
             "minorgridcolor": "white",
             "startlinecolor": "#2a3f5f"
            },
            "baxis": {
             "endlinecolor": "#2a3f5f",
             "gridcolor": "white",
             "linecolor": "white",
             "minorgridcolor": "white",
             "startlinecolor": "#2a3f5f"
            },
            "type": "carpet"
           }
          ],
          "choropleth": [
           {
            "colorbar": {
             "outlinewidth": 0,
             "ticks": ""
            },
            "type": "choropleth"
           }
          ],
          "contour": [
           {
            "colorbar": {
             "outlinewidth": 0,
             "ticks": ""
            },
            "colorscale": [
             [
              0,
              "#0d0887"
             ],
             [
              0.1111111111111111,
              "#46039f"
             ],
             [
              0.2222222222222222,
              "#7201a8"
             ],
             [
              0.3333333333333333,
              "#9c179e"
             ],
             [
              0.4444444444444444,
              "#bd3786"
             ],
             [
              0.5555555555555556,
              "#d8576b"
             ],
             [
              0.6666666666666666,
              "#ed7953"
             ],
             [
              0.7777777777777778,
              "#fb9f3a"
             ],
             [
              0.8888888888888888,
              "#fdca26"
             ],
             [
              1,
              "#f0f921"
             ]
            ],
            "type": "contour"
           }
          ],
          "contourcarpet": [
           {
            "colorbar": {
             "outlinewidth": 0,
             "ticks": ""
            },
            "type": "contourcarpet"
           }
          ],
          "heatmap": [
           {
            "colorbar": {
             "outlinewidth": 0,
             "ticks": ""
            },
            "colorscale": [
             [
              0,
              "#0d0887"
             ],
             [
              0.1111111111111111,
              "#46039f"
             ],
             [
              0.2222222222222222,
              "#7201a8"
             ],
             [
              0.3333333333333333,
              "#9c179e"
             ],
             [
              0.4444444444444444,
              "#bd3786"
             ],
             [
              0.5555555555555556,
              "#d8576b"
             ],
             [
              0.6666666666666666,
              "#ed7953"
             ],
             [
              0.7777777777777778,
              "#fb9f3a"
             ],
             [
              0.8888888888888888,
              "#fdca26"
             ],
             [
              1,
              "#f0f921"
             ]
            ],
            "type": "heatmap"
           }
          ],
          "histogram": [
           {
            "marker": {
             "pattern": {
              "fillmode": "overlay",
              "size": 10,
              "solidity": 0.2
             }
            },
            "type": "histogram"
           }
          ],
          "histogram2d": [
           {
            "colorbar": {
             "outlinewidth": 0,
             "ticks": ""
            },
            "colorscale": [
             [
              0,
              "#0d0887"
             ],
             [
              0.1111111111111111,
              "#46039f"
             ],
             [
              0.2222222222222222,
              "#7201a8"
             ],
             [
              0.3333333333333333,
              "#9c179e"
             ],
             [
              0.4444444444444444,
              "#bd3786"
             ],
             [
              0.5555555555555556,
              "#d8576b"
             ],
             [
              0.6666666666666666,
              "#ed7953"
             ],
             [
              0.7777777777777778,
              "#fb9f3a"
             ],
             [
              0.8888888888888888,
              "#fdca26"
             ],
             [
              1,
              "#f0f921"
             ]
            ],
            "type": "histogram2d"
           }
          ],
          "histogram2dcontour": [
           {
            "colorbar": {
             "outlinewidth": 0,
             "ticks": ""
            },
            "colorscale": [
             [
              0,
              "#0d0887"
             ],
             [
              0.1111111111111111,
              "#46039f"
             ],
             [
              0.2222222222222222,
              "#7201a8"
             ],
             [
              0.3333333333333333,
              "#9c179e"
             ],
             [
              0.4444444444444444,
              "#bd3786"
             ],
             [
              0.5555555555555556,
              "#d8576b"
             ],
             [
              0.6666666666666666,
              "#ed7953"
             ],
             [
              0.7777777777777778,
              "#fb9f3a"
             ],
             [
              0.8888888888888888,
              "#fdca26"
             ],
             [
              1,
              "#f0f921"
             ]
            ],
            "type": "histogram2dcontour"
           }
          ],
          "mesh3d": [
           {
            "colorbar": {
             "outlinewidth": 0,
             "ticks": ""
            },
            "type": "mesh3d"
           }
          ],
          "parcoords": [
           {
            "line": {
             "colorbar": {
              "outlinewidth": 0,
              "ticks": ""
             }
            },
            "type": "parcoords"
           }
          ],
          "pie": [
           {
            "automargin": true,
            "type": "pie"
           }
          ],
          "scatter": [
           {
            "fillpattern": {
             "fillmode": "overlay",
             "size": 10,
             "solidity": 0.2
            },
            "type": "scatter"
           }
          ],
          "scatter3d": [
           {
            "line": {
             "colorbar": {
              "outlinewidth": 0,
              "ticks": ""
             }
            },
            "marker": {
             "colorbar": {
              "outlinewidth": 0,
              "ticks": ""
             }
            },
            "type": "scatter3d"
           }
          ],
          "scattercarpet": [
           {
            "marker": {
             "colorbar": {
              "outlinewidth": 0,
              "ticks": ""
             }
            },
            "type": "scattercarpet"
           }
          ],
          "scattergeo": [
           {
            "marker": {
             "colorbar": {
              "outlinewidth": 0,
              "ticks": ""
             }
            },
            "type": "scattergeo"
           }
          ],
          "scattergl": [
           {
            "marker": {
             "colorbar": {
              "outlinewidth": 0,
              "ticks": ""
             }
            },
            "type": "scattergl"
           }
          ],
          "scattermap": [
           {
            "marker": {
             "colorbar": {
              "outlinewidth": 0,
              "ticks": ""
             }
            },
            "type": "scattermap"
           }
          ],
          "scattermapbox": [
           {
            "marker": {
             "colorbar": {
              "outlinewidth": 0,
              "ticks": ""
             }
            },
            "type": "scattermapbox"
           }
          ],
          "scatterpolar": [
           {
            "marker": {
             "colorbar": {
              "outlinewidth": 0,
              "ticks": ""
             }
            },
            "type": "scatterpolar"
           }
          ],
          "scatterpolargl": [
           {
            "marker": {
             "colorbar": {
              "outlinewidth": 0,
              "ticks": ""
             }
            },
            "type": "scatterpolargl"
           }
          ],
          "scatterternary": [
           {
            "marker": {
             "colorbar": {
              "outlinewidth": 0,
              "ticks": ""
             }
            },
            "type": "scatterternary"
           }
          ],
          "surface": [
           {
            "colorbar": {
             "outlinewidth": 0,
             "ticks": ""
            },
            "colorscale": [
             [
              0,
              "#0d0887"
             ],
             [
              0.1111111111111111,
              "#46039f"
             ],
             [
              0.2222222222222222,
              "#7201a8"
             ],
             [
              0.3333333333333333,
              "#9c179e"
             ],
             [
              0.4444444444444444,
              "#bd3786"
             ],
             [
              0.5555555555555556,
              "#d8576b"
             ],
             [
              0.6666666666666666,
              "#ed7953"
             ],
             [
              0.7777777777777778,
              "#fb9f3a"
             ],
             [
              0.8888888888888888,
              "#fdca26"
             ],
             [
              1,
              "#f0f921"
             ]
            ],
            "type": "surface"
           }
          ],
          "table": [
           {
            "cells": {
             "fill": {
              "color": "#EBF0F8"
             },
             "line": {
              "color": "white"
             }
            },
            "header": {
             "fill": {
              "color": "#C8D4E3"
             },
             "line": {
              "color": "white"
             }
            },
            "type": "table"
           }
          ]
         },
         "layout": {
          "annotationdefaults": {
           "arrowcolor": "#2a3f5f",
           "arrowhead": 0,
           "arrowwidth": 1
          },
          "autotypenumbers": "strict",
          "coloraxis": {
           "colorbar": {
            "outlinewidth": 0,
            "ticks": ""
           }
          },
          "colorscale": {
           "diverging": [
            [
             0,
             "#8e0152"
            ],
            [
             0.1,
             "#c51b7d"
            ],
            [
             0.2,
             "#de77ae"
            ],
            [
             0.3,
             "#f1b6da"
            ],
            [
             0.4,
             "#fde0ef"
            ],
            [
             0.5,
             "#f7f7f7"
            ],
            [
             0.6,
             "#e6f5d0"
            ],
            [
             0.7,
             "#b8e186"
            ],
            [
             0.8,
             "#7fbc41"
            ],
            [
             0.9,
             "#4d9221"
            ],
            [
             1,
             "#276419"
            ]
           ],
           "sequential": [
            [
             0,
             "#0d0887"
            ],
            [
             0.1111111111111111,
             "#46039f"
            ],
            [
             0.2222222222222222,
             "#7201a8"
            ],
            [
             0.3333333333333333,
             "#9c179e"
            ],
            [
             0.4444444444444444,
             "#bd3786"
            ],
            [
             0.5555555555555556,
             "#d8576b"
            ],
            [
             0.6666666666666666,
             "#ed7953"
            ],
            [
             0.7777777777777778,
             "#fb9f3a"
            ],
            [
             0.8888888888888888,
             "#fdca26"
            ],
            [
             1,
             "#f0f921"
            ]
           ],
           "sequentialminus": [
            [
             0,
             "#0d0887"
            ],
            [
             0.1111111111111111,
             "#46039f"
            ],
            [
             0.2222222222222222,
             "#7201a8"
            ],
            [
             0.3333333333333333,
             "#9c179e"
            ],
            [
             0.4444444444444444,
             "#bd3786"
            ],
            [
             0.5555555555555556,
             "#d8576b"
            ],
            [
             0.6666666666666666,
             "#ed7953"
            ],
            [
             0.7777777777777778,
             "#fb9f3a"
            ],
            [
             0.8888888888888888,
             "#fdca26"
            ],
            [
             1,
             "#f0f921"
            ]
           ]
          },
          "colorway": [
           "#636efa",
           "#EF553B",
           "#00cc96",
           "#ab63fa",
           "#FFA15A",
           "#19d3f3",
           "#FF6692",
           "#B6E880",
           "#FF97FF",
           "#FECB52"
          ],
          "font": {
           "color": "#2a3f5f"
          },
          "geo": {
           "bgcolor": "white",
           "lakecolor": "white",
           "landcolor": "#E5ECF6",
           "showlakes": true,
           "showland": true,
           "subunitcolor": "white"
          },
          "hoverlabel": {
           "align": "left"
          },
          "hovermode": "closest",
          "mapbox": {
           "style": "light"
          },
          "paper_bgcolor": "white",
          "plot_bgcolor": "#E5ECF6",
          "polar": {
           "angularaxis": {
            "gridcolor": "white",
            "linecolor": "white",
            "ticks": ""
           },
           "bgcolor": "#E5ECF6",
           "radialaxis": {
            "gridcolor": "white",
            "linecolor": "white",
            "ticks": ""
           }
          },
          "scene": {
           "xaxis": {
            "backgroundcolor": "#E5ECF6",
            "gridcolor": "white",
            "gridwidth": 2,
            "linecolor": "white",
            "showbackground": true,
            "ticks": "",
            "zerolinecolor": "white"
           },
           "yaxis": {
            "backgroundcolor": "#E5ECF6",
            "gridcolor": "white",
            "gridwidth": 2,
            "linecolor": "white",
            "showbackground": true,
            "ticks": "",
            "zerolinecolor": "white"
           },
           "zaxis": {
            "backgroundcolor": "#E5ECF6",
            "gridcolor": "white",
            "gridwidth": 2,
            "linecolor": "white",
            "showbackground": true,
            "ticks": "",
            "zerolinecolor": "white"
           }
          },
          "shapedefaults": {
           "line": {
            "color": "#2a3f5f"
           }
          },
          "ternary": {
           "aaxis": {
            "gridcolor": "white",
            "linecolor": "white",
            "ticks": ""
           },
           "baxis": {
            "gridcolor": "white",
            "linecolor": "white",
            "ticks": ""
           },
           "bgcolor": "#E5ECF6",
           "caxis": {
            "gridcolor": "white",
            "linecolor": "white",
            "ticks": ""
           }
          },
          "title": {
           "x": 0.05
          },
          "xaxis": {
           "automargin": true,
           "gridcolor": "white",
           "linecolor": "white",
           "ticks": "",
           "title": {
            "standoff": 15
           },
           "zerolinecolor": "white",
           "zerolinewidth": 2
          },
          "yaxis": {
           "automargin": true,
           "gridcolor": "white",
           "linecolor": "white",
           "ticks": "",
           "title": {
            "standoff": 15
           },
           "zerolinecolor": "white",
           "zerolinewidth": 2
          }
         }
        },
        "title": {
         "text": "SHAP importance for treatment-effect heterogeneity"
        },
        "xaxis": {
         "anchor": "y",
         "domain": [
          0,
          1
         ],
         "title": {
          "text": "|SHAP| mean"
         }
        },
        "yaxis": {
         "anchor": "x",
         "autorange": "reversed",
         "domain": [
          0,
          1
         ],
         "title": {
          "text": "Feature"
         }
        }
       }
      }
     },
     "metadata": {},
     "output_type": "display_data"
    }
   ],
   "source": [
    "# --- Step 2: What features drive heterogeneity? (Explain τ̂(x)) ---\n",
    "# 0) Inputs from Step 1\n",
    "features = [c for c in df.columns if c.startswith(\"x\")]\n",
    "X_feat   = df[features]\n",
    "tau_hat  = ite_hat_xlearner  # from your X-Learner step\n",
    "assert len(tau_hat) == len(X_feat), \"tau_hat length mismatch\"\n",
    "\n",
    "# 1) Fit a model to explain τ̂(x)\n",
    "hetero_model = XGBRegressor(\n",
    "    n_estimators=300,\n",
    "    max_depth=3,\n",
    "    learning_rate=0.05,\n",
    "    subsample=0.9,\n",
    "    colsample_bytree=0.9,\n",
    "    random_state=42\n",
    ")\n",
    "hetero_model.fit(X_feat, tau_hat)\n",
    "\n",
    "# 2) Model-based (gain) importance\n",
    "gain_imp = pd.Series(hetero_model.feature_importances_, index=features)\\\n",
    "            .sort_values(ascending=False)\n",
    "fig = px.bar(\n",
    "    gain_imp.reset_index().rename(columns={\"index\":\"Feature\", 0:\"Importance\"}),\n",
    "    x=\"Importance\", y=\"Feature\", orientation=\"h\",\n",
    "    title=\"Feature importance for treatment-effect heterogeneity (model gain)\"\n",
    ")\n",
    "fig.update_layout(yaxis=dict(autorange=\"reversed\"))\n",
    "fig.show()\n",
    "\n",
    "# 3) Permutation importance (more robust)\n",
    "perm = permutation_importance(\n",
    "    hetero_model, X_feat, tau_hat, n_repeats=20, random_state=42\n",
    ")\n",
    "perm_imp = pd.Series(perm.importances_mean, index=features)\\\n",
    "             .sort_values(ascending=False)\n",
    "fig = px.bar(\n",
    "    perm_imp.reset_index().rename(columns={\"index\":\"Feature\", 0:\"Importance\"}),\n",
    "    x=\"Importance\", y=\"Feature\", orientation=\"h\",\n",
    "    title=\"Feature importance for treatment-effect heterogeneity (permutation)\"\n",
    ")\n",
    "fig.update_layout(yaxis=dict(autorange=\"reversed\"))\n",
    "fig.show()\n",
    "\n",
    "# 4) (Optional) SHAP to see directionality & interactions\n",
    "try:\n",
    "    import shap\n",
    "    shap_explainer = shap.TreeExplainer(hetero_model)\n",
    "    shap_values = shap_explainer.shap_values(X_feat)\n",
    "\n",
    "    # global ranking (mean |SHAP|)\n",
    "    shap_imp = pd.Series(np.abs(shap_values).mean(axis=0), index=features)\\\n",
    "                 .sort_values(ascending=False)\n",
    "    fig = px.bar(\n",
    "        shap_imp.reset_index().rename(columns={\"index\":\"Feature\", 0:\"|SHAP| mean\"}),\n",
    "        x=\"|SHAP| mean\", y=\"Feature\", orientation=\"h\",\n",
    "        title=\"SHAP importance for treatment-effect heterogeneity\"\n",
    "    )\n",
    "    fig.update_layout(yaxis=dict(autorange=\"reversed\"))\n",
    "    fig.show()\n",
    "\n",
    "except Exception as e:\n",
    "    print(\"SHAP step skipped (install shap if needed):\", e)"
   ]
  },
  {
   "cell_type": "markdown",
   "id": "654c8a8b",
   "metadata": {},
   "source": [
    "Results Summary — Estimating and Interpreting Treatment Effect Heterogeneity<br>\n",
    "We evaluated which covariates drive variation in individual treatment effects (heterogeneity) using three complementary approaches.\n",
    "\n",
    "These three graphs all aim to answer the same question: <br>\n",
    "Which features are most responsible for differences in treatment effect across individuals?\n",
    "\n",
    "Model Gain Importance — XGBoost gain scores show that x0 overwhelmingly dominates, followed by smaller contributions from x9, x7, and x3.\n",
    "\n",
    "Permutation Importance — Reaffirms x0 as the top heterogeneity driver, with x3 and x2 also showing meaningful influence.\n",
    "\n",
    "SHAP Importance — Confirms x0’s leading role, but also highlights x9, x2, and x6 as relevant effect modifiers.\n",
    "\n",
    "Key Insight: Across all metrics, x0 emerges as the most influential moderator of treatment effect. Other features (e.g., x9, x2, x6) contribute but to a much smaller extent. This suggests that most treatment-effect variation in our data is explained by a small subset of variables."
   ]
  },
  {
   "cell_type": "markdown",
   "id": "a5b63a78",
   "metadata": {},
   "source": [
    "# Separating Prognostic and Predictive Components <br>\n",
    "In this section, we decompose the outcome into two distinct functions:\n",
    "\n",
    "Prognostic function (g(X)) — captures how covariates influence the baseline outcome, regardless of treatment.\n",
    "\n",
    "Predictive function (f(X)) — captures how covariates modify the treatment effect (treatment effect heterogeneity).\n",
    "\n",
    "We fit the model:\n",
    "\n",
    "Y=g(X)+T⋅f(X)+ε\n",
    "where \n",
    "T is the treatment indicator. This separation allows us to identify which features are primarily associated with baseline risk and which act as moderators of the treatment effect. By interpreting each component separately, we gain a more transparent understanding of the drivers of both outcome levels and treatment effect variation."
   ]
  },
  {
   "cell_type": "code",
   "execution_count": 6,
   "id": "9ffe6b99",
   "metadata": {},
   "outputs": [
    {
     "data": {
      "application/vnd.plotly.v1+json": {
       "config": {
        "plotlyServerURL": "https://plot.ly"
       },
       "data": [
        {
         "hovertemplate": "Importance=%{x}<br>Feature=%{y}<extra></extra>",
         "legendgroup": "",
         "marker": {
          "color": "#636efa",
          "pattern": {
           "shape": ""
          }
         },
         "name": "",
         "orientation": "h",
         "showlegend": false,
         "textposition": "auto",
         "type": "bar",
         "x": {
          "bdata": "mGeJPnAFKD4uHwU+9YfpPber3T2bX5w9K+iNPRAgwDzBl748F7y7PA==",
          "dtype": "f4"
         },
         "xaxis": "x",
         "y": [
          "x9",
          "x2",
          "x7",
          "x4",
          "x6",
          "x3",
          "x1",
          "x0",
          "x5",
          "x8"
         ],
         "yaxis": "y"
        }
       ],
       "layout": {
        "barmode": "relative",
        "legend": {
         "tracegroupgap": 0
        },
        "template": {
         "data": {
          "bar": [
           {
            "error_x": {
             "color": "#2a3f5f"
            },
            "error_y": {
             "color": "#2a3f5f"
            },
            "marker": {
             "line": {
              "color": "#E5ECF6",
              "width": 0.5
             },
             "pattern": {
              "fillmode": "overlay",
              "size": 10,
              "solidity": 0.2
             }
            },
            "type": "bar"
           }
          ],
          "barpolar": [
           {
            "marker": {
             "line": {
              "color": "#E5ECF6",
              "width": 0.5
             },
             "pattern": {
              "fillmode": "overlay",
              "size": 10,
              "solidity": 0.2
             }
            },
            "type": "barpolar"
           }
          ],
          "carpet": [
           {
            "aaxis": {
             "endlinecolor": "#2a3f5f",
             "gridcolor": "white",
             "linecolor": "white",
             "minorgridcolor": "white",
             "startlinecolor": "#2a3f5f"
            },
            "baxis": {
             "endlinecolor": "#2a3f5f",
             "gridcolor": "white",
             "linecolor": "white",
             "minorgridcolor": "white",
             "startlinecolor": "#2a3f5f"
            },
            "type": "carpet"
           }
          ],
          "choropleth": [
           {
            "colorbar": {
             "outlinewidth": 0,
             "ticks": ""
            },
            "type": "choropleth"
           }
          ],
          "contour": [
           {
            "colorbar": {
             "outlinewidth": 0,
             "ticks": ""
            },
            "colorscale": [
             [
              0,
              "#0d0887"
             ],
             [
              0.1111111111111111,
              "#46039f"
             ],
             [
              0.2222222222222222,
              "#7201a8"
             ],
             [
              0.3333333333333333,
              "#9c179e"
             ],
             [
              0.4444444444444444,
              "#bd3786"
             ],
             [
              0.5555555555555556,
              "#d8576b"
             ],
             [
              0.6666666666666666,
              "#ed7953"
             ],
             [
              0.7777777777777778,
              "#fb9f3a"
             ],
             [
              0.8888888888888888,
              "#fdca26"
             ],
             [
              1,
              "#f0f921"
             ]
            ],
            "type": "contour"
           }
          ],
          "contourcarpet": [
           {
            "colorbar": {
             "outlinewidth": 0,
             "ticks": ""
            },
            "type": "contourcarpet"
           }
          ],
          "heatmap": [
           {
            "colorbar": {
             "outlinewidth": 0,
             "ticks": ""
            },
            "colorscale": [
             [
              0,
              "#0d0887"
             ],
             [
              0.1111111111111111,
              "#46039f"
             ],
             [
              0.2222222222222222,
              "#7201a8"
             ],
             [
              0.3333333333333333,
              "#9c179e"
             ],
             [
              0.4444444444444444,
              "#bd3786"
             ],
             [
              0.5555555555555556,
              "#d8576b"
             ],
             [
              0.6666666666666666,
              "#ed7953"
             ],
             [
              0.7777777777777778,
              "#fb9f3a"
             ],
             [
              0.8888888888888888,
              "#fdca26"
             ],
             [
              1,
              "#f0f921"
             ]
            ],
            "type": "heatmap"
           }
          ],
          "histogram": [
           {
            "marker": {
             "pattern": {
              "fillmode": "overlay",
              "size": 10,
              "solidity": 0.2
             }
            },
            "type": "histogram"
           }
          ],
          "histogram2d": [
           {
            "colorbar": {
             "outlinewidth": 0,
             "ticks": ""
            },
            "colorscale": [
             [
              0,
              "#0d0887"
             ],
             [
              0.1111111111111111,
              "#46039f"
             ],
             [
              0.2222222222222222,
              "#7201a8"
             ],
             [
              0.3333333333333333,
              "#9c179e"
             ],
             [
              0.4444444444444444,
              "#bd3786"
             ],
             [
              0.5555555555555556,
              "#d8576b"
             ],
             [
              0.6666666666666666,
              "#ed7953"
             ],
             [
              0.7777777777777778,
              "#fb9f3a"
             ],
             [
              0.8888888888888888,
              "#fdca26"
             ],
             [
              1,
              "#f0f921"
             ]
            ],
            "type": "histogram2d"
           }
          ],
          "histogram2dcontour": [
           {
            "colorbar": {
             "outlinewidth": 0,
             "ticks": ""
            },
            "colorscale": [
             [
              0,
              "#0d0887"
             ],
             [
              0.1111111111111111,
              "#46039f"
             ],
             [
              0.2222222222222222,
              "#7201a8"
             ],
             [
              0.3333333333333333,
              "#9c179e"
             ],
             [
              0.4444444444444444,
              "#bd3786"
             ],
             [
              0.5555555555555556,
              "#d8576b"
             ],
             [
              0.6666666666666666,
              "#ed7953"
             ],
             [
              0.7777777777777778,
              "#fb9f3a"
             ],
             [
              0.8888888888888888,
              "#fdca26"
             ],
             [
              1,
              "#f0f921"
             ]
            ],
            "type": "histogram2dcontour"
           }
          ],
          "mesh3d": [
           {
            "colorbar": {
             "outlinewidth": 0,
             "ticks": ""
            },
            "type": "mesh3d"
           }
          ],
          "parcoords": [
           {
            "line": {
             "colorbar": {
              "outlinewidth": 0,
              "ticks": ""
             }
            },
            "type": "parcoords"
           }
          ],
          "pie": [
           {
            "automargin": true,
            "type": "pie"
           }
          ],
          "scatter": [
           {
            "fillpattern": {
             "fillmode": "overlay",
             "size": 10,
             "solidity": 0.2
            },
            "type": "scatter"
           }
          ],
          "scatter3d": [
           {
            "line": {
             "colorbar": {
              "outlinewidth": 0,
              "ticks": ""
             }
            },
            "marker": {
             "colorbar": {
              "outlinewidth": 0,
              "ticks": ""
             }
            },
            "type": "scatter3d"
           }
          ],
          "scattercarpet": [
           {
            "marker": {
             "colorbar": {
              "outlinewidth": 0,
              "ticks": ""
             }
            },
            "type": "scattercarpet"
           }
          ],
          "scattergeo": [
           {
            "marker": {
             "colorbar": {
              "outlinewidth": 0,
              "ticks": ""
             }
            },
            "type": "scattergeo"
           }
          ],
          "scattergl": [
           {
            "marker": {
             "colorbar": {
              "outlinewidth": 0,
              "ticks": ""
             }
            },
            "type": "scattergl"
           }
          ],
          "scattermap": [
           {
            "marker": {
             "colorbar": {
              "outlinewidth": 0,
              "ticks": ""
             }
            },
            "type": "scattermap"
           }
          ],
          "scattermapbox": [
           {
            "marker": {
             "colorbar": {
              "outlinewidth": 0,
              "ticks": ""
             }
            },
            "type": "scattermapbox"
           }
          ],
          "scatterpolar": [
           {
            "marker": {
             "colorbar": {
              "outlinewidth": 0,
              "ticks": ""
             }
            },
            "type": "scatterpolar"
           }
          ],
          "scatterpolargl": [
           {
            "marker": {
             "colorbar": {
              "outlinewidth": 0,
              "ticks": ""
             }
            },
            "type": "scatterpolargl"
           }
          ],
          "scatterternary": [
           {
            "marker": {
             "colorbar": {
              "outlinewidth": 0,
              "ticks": ""
             }
            },
            "type": "scatterternary"
           }
          ],
          "surface": [
           {
            "colorbar": {
             "outlinewidth": 0,
             "ticks": ""
            },
            "colorscale": [
             [
              0,
              "#0d0887"
             ],
             [
              0.1111111111111111,
              "#46039f"
             ],
             [
              0.2222222222222222,
              "#7201a8"
             ],
             [
              0.3333333333333333,
              "#9c179e"
             ],
             [
              0.4444444444444444,
              "#bd3786"
             ],
             [
              0.5555555555555556,
              "#d8576b"
             ],
             [
              0.6666666666666666,
              "#ed7953"
             ],
             [
              0.7777777777777778,
              "#fb9f3a"
             ],
             [
              0.8888888888888888,
              "#fdca26"
             ],
             [
              1,
              "#f0f921"
             ]
            ],
            "type": "surface"
           }
          ],
          "table": [
           {
            "cells": {
             "fill": {
              "color": "#EBF0F8"
             },
             "line": {
              "color": "white"
             }
            },
            "header": {
             "fill": {
              "color": "#C8D4E3"
             },
             "line": {
              "color": "white"
             }
            },
            "type": "table"
           }
          ]
         },
         "layout": {
          "annotationdefaults": {
           "arrowcolor": "#2a3f5f",
           "arrowhead": 0,
           "arrowwidth": 1
          },
          "autotypenumbers": "strict",
          "coloraxis": {
           "colorbar": {
            "outlinewidth": 0,
            "ticks": ""
           }
          },
          "colorscale": {
           "diverging": [
            [
             0,
             "#8e0152"
            ],
            [
             0.1,
             "#c51b7d"
            ],
            [
             0.2,
             "#de77ae"
            ],
            [
             0.3,
             "#f1b6da"
            ],
            [
             0.4,
             "#fde0ef"
            ],
            [
             0.5,
             "#f7f7f7"
            ],
            [
             0.6,
             "#e6f5d0"
            ],
            [
             0.7,
             "#b8e186"
            ],
            [
             0.8,
             "#7fbc41"
            ],
            [
             0.9,
             "#4d9221"
            ],
            [
             1,
             "#276419"
            ]
           ],
           "sequential": [
            [
             0,
             "#0d0887"
            ],
            [
             0.1111111111111111,
             "#46039f"
            ],
            [
             0.2222222222222222,
             "#7201a8"
            ],
            [
             0.3333333333333333,
             "#9c179e"
            ],
            [
             0.4444444444444444,
             "#bd3786"
            ],
            [
             0.5555555555555556,
             "#d8576b"
            ],
            [
             0.6666666666666666,
             "#ed7953"
            ],
            [
             0.7777777777777778,
             "#fb9f3a"
            ],
            [
             0.8888888888888888,
             "#fdca26"
            ],
            [
             1,
             "#f0f921"
            ]
           ],
           "sequentialminus": [
            [
             0,
             "#0d0887"
            ],
            [
             0.1111111111111111,
             "#46039f"
            ],
            [
             0.2222222222222222,
             "#7201a8"
            ],
            [
             0.3333333333333333,
             "#9c179e"
            ],
            [
             0.4444444444444444,
             "#bd3786"
            ],
            [
             0.5555555555555556,
             "#d8576b"
            ],
            [
             0.6666666666666666,
             "#ed7953"
            ],
            [
             0.7777777777777778,
             "#fb9f3a"
            ],
            [
             0.8888888888888888,
             "#fdca26"
            ],
            [
             1,
             "#f0f921"
            ]
           ]
          },
          "colorway": [
           "#636efa",
           "#EF553B",
           "#00cc96",
           "#ab63fa",
           "#FFA15A",
           "#19d3f3",
           "#FF6692",
           "#B6E880",
           "#FF97FF",
           "#FECB52"
          ],
          "font": {
           "color": "#2a3f5f"
          },
          "geo": {
           "bgcolor": "white",
           "lakecolor": "white",
           "landcolor": "#E5ECF6",
           "showlakes": true,
           "showland": true,
           "subunitcolor": "white"
          },
          "hoverlabel": {
           "align": "left"
          },
          "hovermode": "closest",
          "mapbox": {
           "style": "light"
          },
          "paper_bgcolor": "white",
          "plot_bgcolor": "#E5ECF6",
          "polar": {
           "angularaxis": {
            "gridcolor": "white",
            "linecolor": "white",
            "ticks": ""
           },
           "bgcolor": "#E5ECF6",
           "radialaxis": {
            "gridcolor": "white",
            "linecolor": "white",
            "ticks": ""
           }
          },
          "scene": {
           "xaxis": {
            "backgroundcolor": "#E5ECF6",
            "gridcolor": "white",
            "gridwidth": 2,
            "linecolor": "white",
            "showbackground": true,
            "ticks": "",
            "zerolinecolor": "white"
           },
           "yaxis": {
            "backgroundcolor": "#E5ECF6",
            "gridcolor": "white",
            "gridwidth": 2,
            "linecolor": "white",
            "showbackground": true,
            "ticks": "",
            "zerolinecolor": "white"
           },
           "zaxis": {
            "backgroundcolor": "#E5ECF6",
            "gridcolor": "white",
            "gridwidth": 2,
            "linecolor": "white",
            "showbackground": true,
            "ticks": "",
            "zerolinecolor": "white"
           }
          },
          "shapedefaults": {
           "line": {
            "color": "#2a3f5f"
           }
          },
          "ternary": {
           "aaxis": {
            "gridcolor": "white",
            "linecolor": "white",
            "ticks": ""
           },
           "baxis": {
            "gridcolor": "white",
            "linecolor": "white",
            "ticks": ""
           },
           "bgcolor": "#E5ECF6",
           "caxis": {
            "gridcolor": "white",
            "linecolor": "white",
            "ticks": ""
           }
          },
          "title": {
           "x": 0.05
          },
          "xaxis": {
           "automargin": true,
           "gridcolor": "white",
           "linecolor": "white",
           "ticks": "",
           "title": {
            "standoff": 15
           },
           "zerolinecolor": "white",
           "zerolinewidth": 2
          },
          "yaxis": {
           "automargin": true,
           "gridcolor": "white",
           "linecolor": "white",
           "ticks": "",
           "title": {
            "standoff": 15
           },
           "zerolinecolor": "white",
           "zerolinewidth": 2
          }
         }
        },
        "title": {
         "text": "Prognostic importance: features driving baseline outcome g(X)"
        },
        "xaxis": {
         "anchor": "y",
         "domain": [
          0,
          1
         ],
         "title": {
          "text": "Importance"
         }
        },
        "yaxis": {
         "anchor": "x",
         "autorange": "reversed",
         "domain": [
          0,
          1
         ],
         "title": {
          "text": "Feature"
         }
        }
       }
      }
     },
     "metadata": {},
     "output_type": "display_data"
    },
    {
     "data": {
      "application/vnd.plotly.v1+json": {
       "config": {
        "plotlyServerURL": "https://plot.ly"
       },
       "data": [
        {
         "hovertemplate": "Importance=%{x}<br>Feature=%{y}<extra></extra>",
         "legendgroup": "",
         "marker": {
          "color": "#636efa",
          "pattern": {
           "shape": ""
          }
         },
         "name": "",
         "orientation": "h",
         "showlegend": false,
         "textposition": "auto",
         "type": "bar",
         "x": {
          "bdata": "edMYPpp50j0Z9M49GZbLPZrCxT1KscQ9ye3DPRVmwz29Jag9wGenPQ==",
          "dtype": "f4"
         },
         "xaxis": "x",
         "y": [
          "x0",
          "x8",
          "x3",
          "x6",
          "x2",
          "x1",
          "x4",
          "x7",
          "x9",
          "x5"
         ],
         "yaxis": "y"
        }
       ],
       "layout": {
        "barmode": "relative",
        "legend": {
         "tracegroupgap": 0
        },
        "template": {
         "data": {
          "bar": [
           {
            "error_x": {
             "color": "#2a3f5f"
            },
            "error_y": {
             "color": "#2a3f5f"
            },
            "marker": {
             "line": {
              "color": "#E5ECF6",
              "width": 0.5
             },
             "pattern": {
              "fillmode": "overlay",
              "size": 10,
              "solidity": 0.2
             }
            },
            "type": "bar"
           }
          ],
          "barpolar": [
           {
            "marker": {
             "line": {
              "color": "#E5ECF6",
              "width": 0.5
             },
             "pattern": {
              "fillmode": "overlay",
              "size": 10,
              "solidity": 0.2
             }
            },
            "type": "barpolar"
           }
          ],
          "carpet": [
           {
            "aaxis": {
             "endlinecolor": "#2a3f5f",
             "gridcolor": "white",
             "linecolor": "white",
             "minorgridcolor": "white",
             "startlinecolor": "#2a3f5f"
            },
            "baxis": {
             "endlinecolor": "#2a3f5f",
             "gridcolor": "white",
             "linecolor": "white",
             "minorgridcolor": "white",
             "startlinecolor": "#2a3f5f"
            },
            "type": "carpet"
           }
          ],
          "choropleth": [
           {
            "colorbar": {
             "outlinewidth": 0,
             "ticks": ""
            },
            "type": "choropleth"
           }
          ],
          "contour": [
           {
            "colorbar": {
             "outlinewidth": 0,
             "ticks": ""
            },
            "colorscale": [
             [
              0,
              "#0d0887"
             ],
             [
              0.1111111111111111,
              "#46039f"
             ],
             [
              0.2222222222222222,
              "#7201a8"
             ],
             [
              0.3333333333333333,
              "#9c179e"
             ],
             [
              0.4444444444444444,
              "#bd3786"
             ],
             [
              0.5555555555555556,
              "#d8576b"
             ],
             [
              0.6666666666666666,
              "#ed7953"
             ],
             [
              0.7777777777777778,
              "#fb9f3a"
             ],
             [
              0.8888888888888888,
              "#fdca26"
             ],
             [
              1,
              "#f0f921"
             ]
            ],
            "type": "contour"
           }
          ],
          "contourcarpet": [
           {
            "colorbar": {
             "outlinewidth": 0,
             "ticks": ""
            },
            "type": "contourcarpet"
           }
          ],
          "heatmap": [
           {
            "colorbar": {
             "outlinewidth": 0,
             "ticks": ""
            },
            "colorscale": [
             [
              0,
              "#0d0887"
             ],
             [
              0.1111111111111111,
              "#46039f"
             ],
             [
              0.2222222222222222,
              "#7201a8"
             ],
             [
              0.3333333333333333,
              "#9c179e"
             ],
             [
              0.4444444444444444,
              "#bd3786"
             ],
             [
              0.5555555555555556,
              "#d8576b"
             ],
             [
              0.6666666666666666,
              "#ed7953"
             ],
             [
              0.7777777777777778,
              "#fb9f3a"
             ],
             [
              0.8888888888888888,
              "#fdca26"
             ],
             [
              1,
              "#f0f921"
             ]
            ],
            "type": "heatmap"
           }
          ],
          "histogram": [
           {
            "marker": {
             "pattern": {
              "fillmode": "overlay",
              "size": 10,
              "solidity": 0.2
             }
            },
            "type": "histogram"
           }
          ],
          "histogram2d": [
           {
            "colorbar": {
             "outlinewidth": 0,
             "ticks": ""
            },
            "colorscale": [
             [
              0,
              "#0d0887"
             ],
             [
              0.1111111111111111,
              "#46039f"
             ],
             [
              0.2222222222222222,
              "#7201a8"
             ],
             [
              0.3333333333333333,
              "#9c179e"
             ],
             [
              0.4444444444444444,
              "#bd3786"
             ],
             [
              0.5555555555555556,
              "#d8576b"
             ],
             [
              0.6666666666666666,
              "#ed7953"
             ],
             [
              0.7777777777777778,
              "#fb9f3a"
             ],
             [
              0.8888888888888888,
              "#fdca26"
             ],
             [
              1,
              "#f0f921"
             ]
            ],
            "type": "histogram2d"
           }
          ],
          "histogram2dcontour": [
           {
            "colorbar": {
             "outlinewidth": 0,
             "ticks": ""
            },
            "colorscale": [
             [
              0,
              "#0d0887"
             ],
             [
              0.1111111111111111,
              "#46039f"
             ],
             [
              0.2222222222222222,
              "#7201a8"
             ],
             [
              0.3333333333333333,
              "#9c179e"
             ],
             [
              0.4444444444444444,
              "#bd3786"
             ],
             [
              0.5555555555555556,
              "#d8576b"
             ],
             [
              0.6666666666666666,
              "#ed7953"
             ],
             [
              0.7777777777777778,
              "#fb9f3a"
             ],
             [
              0.8888888888888888,
              "#fdca26"
             ],
             [
              1,
              "#f0f921"
             ]
            ],
            "type": "histogram2dcontour"
           }
          ],
          "mesh3d": [
           {
            "colorbar": {
             "outlinewidth": 0,
             "ticks": ""
            },
            "type": "mesh3d"
           }
          ],
          "parcoords": [
           {
            "line": {
             "colorbar": {
              "outlinewidth": 0,
              "ticks": ""
             }
            },
            "type": "parcoords"
           }
          ],
          "pie": [
           {
            "automargin": true,
            "type": "pie"
           }
          ],
          "scatter": [
           {
            "fillpattern": {
             "fillmode": "overlay",
             "size": 10,
             "solidity": 0.2
            },
            "type": "scatter"
           }
          ],
          "scatter3d": [
           {
            "line": {
             "colorbar": {
              "outlinewidth": 0,
              "ticks": ""
             }
            },
            "marker": {
             "colorbar": {
              "outlinewidth": 0,
              "ticks": ""
             }
            },
            "type": "scatter3d"
           }
          ],
          "scattercarpet": [
           {
            "marker": {
             "colorbar": {
              "outlinewidth": 0,
              "ticks": ""
             }
            },
            "type": "scattercarpet"
           }
          ],
          "scattergeo": [
           {
            "marker": {
             "colorbar": {
              "outlinewidth": 0,
              "ticks": ""
             }
            },
            "type": "scattergeo"
           }
          ],
          "scattergl": [
           {
            "marker": {
             "colorbar": {
              "outlinewidth": 0,
              "ticks": ""
             }
            },
            "type": "scattergl"
           }
          ],
          "scattermap": [
           {
            "marker": {
             "colorbar": {
              "outlinewidth": 0,
              "ticks": ""
             }
            },
            "type": "scattermap"
           }
          ],
          "scattermapbox": [
           {
            "marker": {
             "colorbar": {
              "outlinewidth": 0,
              "ticks": ""
             }
            },
            "type": "scattermapbox"
           }
          ],
          "scatterpolar": [
           {
            "marker": {
             "colorbar": {
              "outlinewidth": 0,
              "ticks": ""
             }
            },
            "type": "scatterpolar"
           }
          ],
          "scatterpolargl": [
           {
            "marker": {
             "colorbar": {
              "outlinewidth": 0,
              "ticks": ""
             }
            },
            "type": "scatterpolargl"
           }
          ],
          "scatterternary": [
           {
            "marker": {
             "colorbar": {
              "outlinewidth": 0,
              "ticks": ""
             }
            },
            "type": "scatterternary"
           }
          ],
          "surface": [
           {
            "colorbar": {
             "outlinewidth": 0,
             "ticks": ""
            },
            "colorscale": [
             [
              0,
              "#0d0887"
             ],
             [
              0.1111111111111111,
              "#46039f"
             ],
             [
              0.2222222222222222,
              "#7201a8"
             ],
             [
              0.3333333333333333,
              "#9c179e"
             ],
             [
              0.4444444444444444,
              "#bd3786"
             ],
             [
              0.5555555555555556,
              "#d8576b"
             ],
             [
              0.6666666666666666,
              "#ed7953"
             ],
             [
              0.7777777777777778,
              "#fb9f3a"
             ],
             [
              0.8888888888888888,
              "#fdca26"
             ],
             [
              1,
              "#f0f921"
             ]
            ],
            "type": "surface"
           }
          ],
          "table": [
           {
            "cells": {
             "fill": {
              "color": "#EBF0F8"
             },
             "line": {
              "color": "white"
             }
            },
            "header": {
             "fill": {
              "color": "#C8D4E3"
             },
             "line": {
              "color": "white"
             }
            },
            "type": "table"
           }
          ]
         },
         "layout": {
          "annotationdefaults": {
           "arrowcolor": "#2a3f5f",
           "arrowhead": 0,
           "arrowwidth": 1
          },
          "autotypenumbers": "strict",
          "coloraxis": {
           "colorbar": {
            "outlinewidth": 0,
            "ticks": ""
           }
          },
          "colorscale": {
           "diverging": [
            [
             0,
             "#8e0152"
            ],
            [
             0.1,
             "#c51b7d"
            ],
            [
             0.2,
             "#de77ae"
            ],
            [
             0.3,
             "#f1b6da"
            ],
            [
             0.4,
             "#fde0ef"
            ],
            [
             0.5,
             "#f7f7f7"
            ],
            [
             0.6,
             "#e6f5d0"
            ],
            [
             0.7,
             "#b8e186"
            ],
            [
             0.8,
             "#7fbc41"
            ],
            [
             0.9,
             "#4d9221"
            ],
            [
             1,
             "#276419"
            ]
           ],
           "sequential": [
            [
             0,
             "#0d0887"
            ],
            [
             0.1111111111111111,
             "#46039f"
            ],
            [
             0.2222222222222222,
             "#7201a8"
            ],
            [
             0.3333333333333333,
             "#9c179e"
            ],
            [
             0.4444444444444444,
             "#bd3786"
            ],
            [
             0.5555555555555556,
             "#d8576b"
            ],
            [
             0.6666666666666666,
             "#ed7953"
            ],
            [
             0.7777777777777778,
             "#fb9f3a"
            ],
            [
             0.8888888888888888,
             "#fdca26"
            ],
            [
             1,
             "#f0f921"
            ]
           ],
           "sequentialminus": [
            [
             0,
             "#0d0887"
            ],
            [
             0.1111111111111111,
             "#46039f"
            ],
            [
             0.2222222222222222,
             "#7201a8"
            ],
            [
             0.3333333333333333,
             "#9c179e"
            ],
            [
             0.4444444444444444,
             "#bd3786"
            ],
            [
             0.5555555555555556,
             "#d8576b"
            ],
            [
             0.6666666666666666,
             "#ed7953"
            ],
            [
             0.7777777777777778,
             "#fb9f3a"
            ],
            [
             0.8888888888888888,
             "#fdca26"
            ],
            [
             1,
             "#f0f921"
            ]
           ]
          },
          "colorway": [
           "#636efa",
           "#EF553B",
           "#00cc96",
           "#ab63fa",
           "#FFA15A",
           "#19d3f3",
           "#FF6692",
           "#B6E880",
           "#FF97FF",
           "#FECB52"
          ],
          "font": {
           "color": "#2a3f5f"
          },
          "geo": {
           "bgcolor": "white",
           "lakecolor": "white",
           "landcolor": "#E5ECF6",
           "showlakes": true,
           "showland": true,
           "subunitcolor": "white"
          },
          "hoverlabel": {
           "align": "left"
          },
          "hovermode": "closest",
          "mapbox": {
           "style": "light"
          },
          "paper_bgcolor": "white",
          "plot_bgcolor": "#E5ECF6",
          "polar": {
           "angularaxis": {
            "gridcolor": "white",
            "linecolor": "white",
            "ticks": ""
           },
           "bgcolor": "#E5ECF6",
           "radialaxis": {
            "gridcolor": "white",
            "linecolor": "white",
            "ticks": ""
           }
          },
          "scene": {
           "xaxis": {
            "backgroundcolor": "#E5ECF6",
            "gridcolor": "white",
            "gridwidth": 2,
            "linecolor": "white",
            "showbackground": true,
            "ticks": "",
            "zerolinecolor": "white"
           },
           "yaxis": {
            "backgroundcolor": "#E5ECF6",
            "gridcolor": "white",
            "gridwidth": 2,
            "linecolor": "white",
            "showbackground": true,
            "ticks": "",
            "zerolinecolor": "white"
           },
           "zaxis": {
            "backgroundcolor": "#E5ECF6",
            "gridcolor": "white",
            "gridwidth": 2,
            "linecolor": "white",
            "showbackground": true,
            "ticks": "",
            "zerolinecolor": "white"
           }
          },
          "shapedefaults": {
           "line": {
            "color": "#2a3f5f"
           }
          },
          "ternary": {
           "aaxis": {
            "gridcolor": "white",
            "linecolor": "white",
            "ticks": ""
           },
           "baxis": {
            "gridcolor": "white",
            "linecolor": "white",
            "ticks": ""
           },
           "bgcolor": "#E5ECF6",
           "caxis": {
            "gridcolor": "white",
            "linecolor": "white",
            "ticks": ""
           }
          },
          "title": {
           "x": 0.05
          },
          "xaxis": {
           "automargin": true,
           "gridcolor": "white",
           "linecolor": "white",
           "ticks": "",
           "title": {
            "standoff": 15
           },
           "zerolinecolor": "white",
           "zerolinewidth": 2
          },
          "yaxis": {
           "automargin": true,
           "gridcolor": "white",
           "linecolor": "white",
           "ticks": "",
           "title": {
            "standoff": 15
           },
           "zerolinecolor": "white",
           "zerolinewidth": 2
          }
         }
        },
        "title": {
         "text": "Predictive importance: features modifying treatment effect f(X)"
        },
        "xaxis": {
         "anchor": "y",
         "domain": [
          0,
          1
         ],
         "title": {
          "text": "Importance"
         }
        },
        "yaxis": {
         "anchor": "x",
         "autorange": "reversed",
         "domain": [
          0,
          1
         ],
         "title": {
          "text": "Feature"
         }
        }
       }
      }
     },
     "metadata": {},
     "output_type": "display_data"
    },
    {
     "name": "stdout",
     "output_type": "stream",
     "text": [
      "Implied ATE from f(X): 0.5526\n",
      "True ATE: 1.0058\n",
      "Corr(f_hat, true τ): 0.447\n"
     ]
    },
    {
     "data": {
      "image/png": "[encoded data removed]",
      "text/plain": [
       "<Figure size 800x550 with 2 Axes>"
      ]
     },
     "metadata": {},
     "output_type": "display_data"
    },
    {
     "data": {
      "image/png": "[encoded data removed]",
      "text/plain": [
       "<Figure size 800x550 with 2 Axes>"
      ]
     },
     "metadata": {},
     "output_type": "display_data"
    }
   ],
   "source": [
    "# --- Decompose Y = g(X) + T * f(X) + ε (R-learner style) ---\n",
    "# 0) Inputs\n",
    "features = [c for c in df.columns if c.startswith(\"x\")]\n",
    "X = df[features].copy()\n",
    "T = df[\"treatment\"].astype(float).values\n",
    "Y = df[\"outcome\"].astype(float).values\n",
    "\n",
    "# 1) Prognostic function g(X) ≈ E[Y|X]\n",
    "g_model = XGBRegressor(\n",
    "    n_estimators=400, max_depth=3, learning_rate=0.05,\n",
    "    subsample=0.9, colsample_bytree=0.9, random_state=42\n",
    ")\n",
    "g_model.fit(X, Y)\n",
    "g_hat = g_model.predict(X)\n",
    "\n",
    "# --- Plot prognostic importances\n",
    "prog_imp = pd.Series(g_model.feature_importances_, index=features).sort_values(ascending=False)\n",
    "fig = px.bar(prog_imp.reset_index().rename(columns={\"index\":\"Feature\", 0:\"Importance\"}),\n",
    "             x=\"Importance\", y=\"Feature\", orientation=\"h\",\n",
    "             title=\"Prognostic importance: features driving baseline outcome g(X)\")\n",
    "fig.update_layout(yaxis=dict(autorange=\"reversed\"))\n",
    "fig.show()\n",
    "\n",
    "# 2) Propensity e(X) = P(T=1|X)\n",
    "e_model = LogisticRegression(max_iter=1000)\n",
    "e_model.fit(X, T)\n",
    "e_hat = e_model.predict_proba(X)[:, 1]\n",
    "e_hat = np.clip(e_hat, 1e-3, 1 - 1e-3)\n",
    "\n",
    "# 3) Predictive function f(X): residual-on-residual regression (R-learner)\n",
    "den = T - e_hat\n",
    "wts = den**2\n",
    "safe_den = np.where(np.abs(den) < 1e-3, np.sign(den)*1e-3, den)\n",
    "target = (Y - g_hat) / safe_den\n",
    "\n",
    "f_model = XGBRegressor(\n",
    "    n_estimators=400, max_depth=3, learning_rate=0.05,\n",
    "    subsample=0.9, colsample_bytree=0.9, random_state=42\n",
    ")\n",
    "f_model.fit(X, target, sample_weight=wts)\n",
    "f_hat = f_model.predict(X)   # predictive component (CATE estimate)\n",
    "\n",
    "# --- Plot predictive importances\n",
    "pred_imp = pd.Series(f_model.feature_importances_, index=features).sort_values(ascending=False)\n",
    "fig = px.bar(pred_imp.reset_index().rename(columns={\"index\":\"Feature\", 0:\"Importance\"}),\n",
    "             x=\"Importance\", y=\"Feature\", orientation=\"h\",\n",
    "             title=\"Predictive importance: features modifying treatment effect f(X)\")\n",
    "fig.update_layout(yaxis=dict(autorange=\"reversed\"))\n",
    "fig.show()\n",
    "\n",
    "# 4) Quick checks\n",
    "print(f\"Implied ATE from f(X): {np.mean(f_hat):.4f}\")\n",
    "if 'tau' in df.columns:\n",
    "    print(f\"True ATE: {df['tau'].mean():.4f}\")\n",
    "    from scipy.stats import pearsonr\n",
    "    r, _ = pearsonr(f_hat, df['tau'])\n",
    "    print(f\"Corr(f_hat, true τ): {r:.3f}\")\n",
    "\n",
    "# (Optional) SHAP for directionality:\n",
    "expl = shap.TreeExplainer(g_model); shap.summary_plot(expl.shap_values(X), X)  # for g(X)\n",
    "expl2 = shap.TreeExplainer(f_model); shap.summary_plot(expl2.shap_values(X), X)  # for f(X)\n"
   ]
  },
  {
   "cell_type": "markdown",
   "id": "471a3a1d",
   "metadata": {},
   "source": [
    "Separate Prognostic vs. Predictive Contributions — Results\n",
    "\n",
    "In this step, we decomposed the outcome into a prognostic function g(X) (baseline outcome) and a predictive function f(X) (how treatment effect depends on X).\n",
    "\n",
    "Key metrics:\n",
    "\n",
    "Implied ATE from f(X): 0.552\n",
    "\n",
    "True ATE: 1.0054\n",
    "\n",
    "Correlation between f̂(X) and true τ: 0.447\n",
    "\n",
    "The predictive component (f(X)) captures how the treatment effect varies with individual features (treatment effect heterogeneity). Its implied ATE (0.56) is substantially smaller than the true ATE (1.00), indicating that most of the treatment effect is constant across individuals and not strongly moderated by covariates.\n",
    "\n",
    "The moderate correlation (0.447) between f̂(X) and the true individual treatment effects shows that f(X) captures genuine heterogeneity patterns, but there is still unexplained variation.\n",
    "\n",
    "Insights:\n",
    "\n",
    "Prognostic importance: Variables like x9, x2, and x7 strongly influence baseline risk, meaning they shape outcomes regardless of treatment.\n",
    "\n",
    "Predictive importance: Variables like x0, x6, and x8 are the strongest moderators, altering how individuals respond to treatment.\n",
    "\n",
    "SHAP summary plots confirm distinct roles: prognostic drivers primarily shift the baseline, while predictive drivers modulate treatment sensitivity.\n",
    "\n",
    "These results help isolate which features explain general outcome variation vs. treatment effect heterogeneity, aiding both scientific interpretation and targeted policy/action design."
   ]
  },
  {
   "cell_type": "code",
   "execution_count": null,
   "id": "4edb56f6",
   "metadata": {},
   "outputs": [],
   "source": []
  }
 ],
 "metadata": {
  "kernelspec": {
   "display_name": ".venv",
   "language": "python",
   "name": "python3"
  },
  "language_info": {
   "codemirror_mode": {
    "name": "ipython",
    "version": 3
   },
   "file_extension": ".py",
   "mimetype": "text/x-python",
   "name": "python",
   "nbconvert_exporter": "python",
   "pygments_lexer": "ipython3",
   "version": "3.12.0"
  }
 },
 "nbformat": 4,
 "nbformat_minor": 5
}
